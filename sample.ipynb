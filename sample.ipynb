{
 "cells": [
  {
   "cell_type": "code",
   "execution_count": 4,
   "id": "94372b2f",
   "metadata": {},
   "outputs": [],
   "source": [
    "from pymilvus import connections, db, utility, FieldSchema, CollectionSchema, DataType, Collection\n",
    "import ollama"
   ]
  },
  {
   "cell_type": "code",
   "execution_count": 14,
   "id": "5ce68b57",
   "metadata": {},
   "outputs": [
    {
     "data": {
      "text/plain": [
       "768"
      ]
     },
     "execution_count": 14,
     "metadata": {},
     "output_type": "execute_result"
    }
   ],
   "source": [
    "def get_embedding(model:str, prompt: str) -> list:\n",
    "    response = ollama.embeddings(model=model, prompt=prompt)\n",
    "    return response.get('embedding', [])\n",
    "\n",
    "\n",
    "em = get_embedding(model=\"nomic-embed-text:v1.5\", prompt=\"Hello world\")\n",
    "len(em)"
   ]
  },
  {
   "cell_type": "code",
   "execution_count": 3,
   "id": "09210bce",
   "metadata": {},
   "outputs": [],
   "source": [
    "conn = connections.connect(host='localhost', port='19530')"
   ]
  },
  {
   "cell_type": "code",
   "execution_count": 4,
   "id": "37377805",
   "metadata": {},
   "outputs": [
    {
     "data": {
      "text/plain": [
       "['default', 'JobOrder']"
      ]
     },
     "execution_count": 4,
     "metadata": {},
     "output_type": "execute_result"
    }
   ],
   "source": [
    "db.list_database()"
   ]
  },
  {
   "cell_type": "code",
   "execution_count": 5,
   "id": "8a9d5488",
   "metadata": {},
   "outputs": [
    {
     "name": "stderr",
     "output_type": "stream",
     "text": [
      "2025-06-21 23:10:01,705 [ERROR][handler]: RPC error: [create_database], <MilvusException: (code=65535, message=database already exist: JobOrder)>, <Time:{'RPC start': '2025-06-21 23:10:01.701086', 'RPC error': '2025-06-21 23:10:01.705883'}> (decorators.py:140)\n"
     ]
    },
    {
     "ename": "MilvusException",
     "evalue": "<MilvusException: (code=65535, message=database already exist: JobOrder)>",
     "output_type": "error",
     "traceback": [
      "\u001b[31m---------------------------------------------------------------------------\u001b[39m",
      "\u001b[31mMilvusException\u001b[39m                           Traceback (most recent call last)",
      "    \u001b[31m[... skipping hidden 1 frame]\u001b[39m\n",
      "\u001b[36mCell\u001b[39m\u001b[36m \u001b[39m\u001b[32mIn[5]\u001b[39m\u001b[32m, line 1\u001b[39m\n\u001b[32m----> \u001b[39m\u001b[32m1\u001b[39m \u001b[43mdb\u001b[49m\u001b[43m.\u001b[49m\u001b[43mcreate_database\u001b[49m\u001b[43m(\u001b[49m\u001b[33;43m'\u001b[39;49m\u001b[33;43mJobOrder\u001b[39;49m\u001b[33;43m'\u001b[39;49m\u001b[43m)\u001b[49m\n",
      "\u001b[36mFile \u001b[39m\u001b[32md:\\CEI\\Work\\ResumeMatcher\\ResumeMatcher\\app\\venv\\Lib\\site-packages\\pymilvus\\orm\\db.py:30\u001b[39m, in \u001b[36mcreate_database\u001b[39m\u001b[34m(db_name, using, timeout, **kwargs)\u001b[39m\n\u001b[32m     23\u001b[39m \u001b[38;5;250m\u001b[39m\u001b[33;03m\"\"\"Create a database using provided database name\u001b[39;00m\n\u001b[32m     24\u001b[39m \u001b[33;03mArgs:\u001b[39;00m\n\u001b[32m     25\u001b[39m \u001b[33;03m    db_name (``str``): Database name\u001b[39;00m\n\u001b[32m   (...)\u001b[39m\u001b[32m     28\u001b[39m \u001b[33;03m        support database resource groups with key `database.resource_groups`\u001b[39;00m\n\u001b[32m     29\u001b[39m \u001b[33;03m\"\"\"\u001b[39;00m\n\u001b[32m---> \u001b[39m\u001b[32m30\u001b[39m \u001b[43m_get_connection\u001b[49m\u001b[43m(\u001b[49m\u001b[43musing\u001b[49m\u001b[43m)\u001b[49m\u001b[43m.\u001b[49m\u001b[43mcreate_database\u001b[49m\u001b[43m(\u001b[49m\u001b[43mdb_name\u001b[49m\u001b[43m,\u001b[49m\u001b[43m \u001b[49m\u001b[43mtimeout\u001b[49m\u001b[43m=\u001b[49m\u001b[43mtimeout\u001b[49m\u001b[43m,\u001b[49m\u001b[43m \u001b[49m\u001b[43m*\u001b[49m\u001b[43m*\u001b[49m\u001b[43mkwargs\u001b[49m\u001b[43m)\u001b[49m\n",
      "\u001b[36mFile \u001b[39m\u001b[32md:\\CEI\\Work\\ResumeMatcher\\ResumeMatcher\\app\\venv\\Lib\\site-packages\\pymilvus\\decorators.py:141\u001b[39m, in \u001b[36merror_handler.<locals>.wrapper.<locals>.handler\u001b[39m\u001b[34m(*args, **kwargs)\u001b[39m\n\u001b[32m    140\u001b[39m     LOGGER.error(\u001b[33mf\u001b[39m\u001b[33m\"\u001b[39m\u001b[33mRPC error: [\u001b[39m\u001b[38;5;132;01m{\u001b[39;00minner_name\u001b[38;5;132;01m}\u001b[39;00m\u001b[33m], \u001b[39m\u001b[38;5;132;01m{\u001b[39;00me\u001b[38;5;132;01m}\u001b[39;00m\u001b[33m, <Time:\u001b[39m\u001b[38;5;132;01m{\u001b[39;00mrecord_dict\u001b[38;5;132;01m}\u001b[39;00m\u001b[33m>\u001b[39m\u001b[33m\"\u001b[39m)\n\u001b[32m--> \u001b[39m\u001b[32m141\u001b[39m     \u001b[38;5;28;01mraise\u001b[39;00m e \u001b[38;5;28;01mfrom\u001b[39;00m\u001b[38;5;250m \u001b[39m\u001b[34;01me\u001b[39;00m\n\u001b[32m    142\u001b[39m \u001b[38;5;28;01mexcept\u001b[39;00m grpc.FutureTimeoutError \u001b[38;5;28;01mas\u001b[39;00m e:\n",
      "\u001b[36mFile \u001b[39m\u001b[32md:\\CEI\\Work\\ResumeMatcher\\ResumeMatcher\\app\\venv\\Lib\\site-packages\\pymilvus\\decorators.py:137\u001b[39m, in \u001b[36merror_handler.<locals>.wrapper.<locals>.handler\u001b[39m\u001b[34m(*args, **kwargs)\u001b[39m\n\u001b[32m    136\u001b[39m     record_dict[\u001b[33m\"\u001b[39m\u001b[33mRPC start\u001b[39m\u001b[33m\"\u001b[39m] = \u001b[38;5;28mstr\u001b[39m(datetime.datetime.now())\n\u001b[32m--> \u001b[39m\u001b[32m137\u001b[39m     \u001b[38;5;28;01mreturn\u001b[39;00m \u001b[43mfunc\u001b[49m\u001b[43m(\u001b[49m\u001b[43m*\u001b[49m\u001b[43margs\u001b[49m\u001b[43m,\u001b[49m\u001b[43m \u001b[49m\u001b[43m*\u001b[49m\u001b[43m*\u001b[49m\u001b[43mkwargs\u001b[49m\u001b[43m)\u001b[49m\n\u001b[32m    138\u001b[39m \u001b[38;5;28;01mexcept\u001b[39;00m MilvusException \u001b[38;5;28;01mas\u001b[39;00m e:\n",
      "\u001b[36mFile \u001b[39m\u001b[32md:\\CEI\\Work\\ResumeMatcher\\ResumeMatcher\\app\\venv\\Lib\\site-packages\\pymilvus\\decorators.py:173\u001b[39m, in \u001b[36mtracing_request.<locals>.wrapper.<locals>.handler\u001b[39m\u001b[34m(self, *args, **kwargs)\u001b[39m\n\u001b[32m    172\u001b[39m     \u001b[38;5;28mself\u001b[39m.set_onetime_loglevel(level)\n\u001b[32m--> \u001b[39m\u001b[32m173\u001b[39m \u001b[38;5;28;01mreturn\u001b[39;00m \u001b[43mfunc\u001b[49m\u001b[43m(\u001b[49m\u001b[38;5;28;43mself\u001b[39;49m\u001b[43m,\u001b[49m\u001b[43m \u001b[49m\u001b[43m*\u001b[49m\u001b[43margs\u001b[49m\u001b[43m,\u001b[49m\u001b[43m \u001b[49m\u001b[43m*\u001b[49m\u001b[43m*\u001b[49m\u001b[43mkwargs\u001b[49m\u001b[43m)\u001b[49m\n",
      "\u001b[36mFile \u001b[39m\u001b[32md:\\CEI\\Work\\ResumeMatcher\\ResumeMatcher\\app\\venv\\Lib\\site-packages\\pymilvus\\decorators.py:116\u001b[39m, in \u001b[36mretry_on_rpc_failure.<locals>.wrapper.<locals>.handler\u001b[39m\u001b[34m(*args, **kwargs)\u001b[39m\n\u001b[32m    115\u001b[39m     \u001b[38;5;28;01melse\u001b[39;00m:\n\u001b[32m--> \u001b[39m\u001b[32m116\u001b[39m         \u001b[38;5;28;01mraise\u001b[39;00m e \u001b[38;5;28;01mfrom\u001b[39;00m\u001b[38;5;250m \u001b[39m\u001b[34;01me\u001b[39;00m\n\u001b[32m    117\u001b[39m \u001b[38;5;28;01mexcept\u001b[39;00m \u001b[38;5;167;01mException\u001b[39;00m \u001b[38;5;28;01mas\u001b[39;00m e:\n",
      "\u001b[36mFile \u001b[39m\u001b[32md:\\CEI\\Work\\ResumeMatcher\\ResumeMatcher\\app\\venv\\Lib\\site-packages\\pymilvus\\decorators.py:86\u001b[39m, in \u001b[36mretry_on_rpc_failure.<locals>.wrapper.<locals>.handler\u001b[39m\u001b[34m(*args, **kwargs)\u001b[39m\n\u001b[32m     85\u001b[39m \u001b[38;5;28;01mtry\u001b[39;00m:\n\u001b[32m---> \u001b[39m\u001b[32m86\u001b[39m     \u001b[38;5;28;01mreturn\u001b[39;00m \u001b[43mfunc\u001b[49m\u001b[43m(\u001b[49m\u001b[43m*\u001b[49m\u001b[43margs\u001b[49m\u001b[43m,\u001b[49m\u001b[43m \u001b[49m\u001b[43m*\u001b[49m\u001b[43m*\u001b[49m\u001b[43mkwargs\u001b[49m\u001b[43m)\u001b[49m\n\u001b[32m     87\u001b[39m \u001b[38;5;28;01mexcept\u001b[39;00m grpc.RpcError \u001b[38;5;28;01mas\u001b[39;00m e:\n\u001b[32m     88\u001b[39m     \u001b[38;5;66;03m# Do not retry on these codes\u001b[39;00m\n",
      "\u001b[36mFile \u001b[39m\u001b[32md:\\CEI\\Work\\ResumeMatcher\\ResumeMatcher\\app\\venv\\Lib\\site-packages\\pymilvus\\client\\grpc_handler.py:1429\u001b[39m, in \u001b[36mGrpcHandler.create_database\u001b[39m\u001b[34m(self, db_name, properties, timeout, **kwargs)\u001b[39m\n\u001b[32m   1426\u001b[39m status = \u001b[38;5;28mself\u001b[39m._stub.CreateDatabase(\n\u001b[32m   1427\u001b[39m     request, timeout=timeout, metadata=_api_level_md(**kwargs)\n\u001b[32m   1428\u001b[39m )\n\u001b[32m-> \u001b[39m\u001b[32m1429\u001b[39m \u001b[43mcheck_status\u001b[49m\u001b[43m(\u001b[49m\u001b[43mstatus\u001b[49m\u001b[43m)\u001b[49m\n",
      "\u001b[36mFile \u001b[39m\u001b[32md:\\CEI\\Work\\ResumeMatcher\\ResumeMatcher\\app\\venv\\Lib\\site-packages\\pymilvus\\client\\utils.py:64\u001b[39m, in \u001b[36mcheck_status\u001b[39m\u001b[34m(status)\u001b[39m\n\u001b[32m     63\u001b[39m \u001b[38;5;28;01mif\u001b[39;00m status.code != \u001b[32m0\u001b[39m \u001b[38;5;129;01mor\u001b[39;00m status.error_code != \u001b[32m0\u001b[39m:\n\u001b[32m---> \u001b[39m\u001b[32m64\u001b[39m     \u001b[38;5;28;01mraise\u001b[39;00m MilvusException(status.code, status.reason, status.error_code)\n",
      "\u001b[31mMilvusException\u001b[39m: <MilvusException: (code=65535, message=database already exist: JobOrder)>",
      "\nThe above exception was the direct cause of the following exception:\n",
      "\u001b[31mMilvusException\u001b[39m                           Traceback (most recent call last)",
      "    \u001b[31m[... skipping hidden 1 frame]\u001b[39m\n",
      "\u001b[36mCell\u001b[39m\u001b[36m \u001b[39m\u001b[32mIn[5]\u001b[39m\u001b[32m, line 1\u001b[39m\n\u001b[32m----> \u001b[39m\u001b[32m1\u001b[39m \u001b[43mdb\u001b[49m\u001b[43m.\u001b[49m\u001b[43mcreate_database\u001b[49m\u001b[43m(\u001b[49m\u001b[33;43m'\u001b[39;49m\u001b[33;43mJobOrder\u001b[39;49m\u001b[33;43m'\u001b[39;49m\u001b[43m)\u001b[49m\n",
      "\u001b[36mFile \u001b[39m\u001b[32md:\\CEI\\Work\\ResumeMatcher\\ResumeMatcher\\app\\venv\\Lib\\site-packages\\pymilvus\\orm\\db.py:30\u001b[39m, in \u001b[36mcreate_database\u001b[39m\u001b[34m(db_name, using, timeout, **kwargs)\u001b[39m\n\u001b[32m     23\u001b[39m \u001b[38;5;250m\u001b[39m\u001b[33;03m\"\"\"Create a database using provided database name\u001b[39;00m\n\u001b[32m     24\u001b[39m \u001b[33;03mArgs:\u001b[39;00m\n\u001b[32m     25\u001b[39m \u001b[33;03m    db_name (``str``): Database name\u001b[39;00m\n\u001b[32m   (...)\u001b[39m\u001b[32m     28\u001b[39m \u001b[33;03m        support database resource groups with key `database.resource_groups`\u001b[39;00m\n\u001b[32m     29\u001b[39m \u001b[33;03m\"\"\"\u001b[39;00m\n\u001b[32m---> \u001b[39m\u001b[32m30\u001b[39m \u001b[43m_get_connection\u001b[49m\u001b[43m(\u001b[49m\u001b[43musing\u001b[49m\u001b[43m)\u001b[49m\u001b[43m.\u001b[49m\u001b[43mcreate_database\u001b[49m\u001b[43m(\u001b[49m\u001b[43mdb_name\u001b[49m\u001b[43m,\u001b[49m\u001b[43m \u001b[49m\u001b[43mtimeout\u001b[49m\u001b[43m=\u001b[49m\u001b[43mtimeout\u001b[49m\u001b[43m,\u001b[49m\u001b[43m \u001b[49m\u001b[43m*\u001b[49m\u001b[43m*\u001b[49m\u001b[43mkwargs\u001b[49m\u001b[43m)\u001b[49m\n",
      "\u001b[36mFile \u001b[39m\u001b[32md:\\CEI\\Work\\ResumeMatcher\\ResumeMatcher\\app\\venv\\Lib\\site-packages\\pymilvus\\decorators.py:141\u001b[39m, in \u001b[36merror_handler.<locals>.wrapper.<locals>.handler\u001b[39m\u001b[34m(*args, **kwargs)\u001b[39m\n\u001b[32m    140\u001b[39m     LOGGER.error(\u001b[33mf\u001b[39m\u001b[33m\"\u001b[39m\u001b[33mRPC error: [\u001b[39m\u001b[38;5;132;01m{\u001b[39;00minner_name\u001b[38;5;132;01m}\u001b[39;00m\u001b[33m], \u001b[39m\u001b[38;5;132;01m{\u001b[39;00me\u001b[38;5;132;01m}\u001b[39;00m\u001b[33m, <Time:\u001b[39m\u001b[38;5;132;01m{\u001b[39;00mrecord_dict\u001b[38;5;132;01m}\u001b[39;00m\u001b[33m>\u001b[39m\u001b[33m\"\u001b[39m)\n\u001b[32m--> \u001b[39m\u001b[32m141\u001b[39m     \u001b[38;5;28;01mraise\u001b[39;00m e \u001b[38;5;28;01mfrom\u001b[39;00m\u001b[38;5;250m \u001b[39m\u001b[34;01me\u001b[39;00m\n\u001b[32m    142\u001b[39m \u001b[38;5;28;01mexcept\u001b[39;00m grpc.FutureTimeoutError \u001b[38;5;28;01mas\u001b[39;00m e:\n",
      "\u001b[36mFile \u001b[39m\u001b[32md:\\CEI\\Work\\ResumeMatcher\\ResumeMatcher\\app\\venv\\Lib\\site-packages\\pymilvus\\decorators.py:137\u001b[39m, in \u001b[36merror_handler.<locals>.wrapper.<locals>.handler\u001b[39m\u001b[34m(*args, **kwargs)\u001b[39m\n\u001b[32m    136\u001b[39m     record_dict[\u001b[33m\"\u001b[39m\u001b[33mRPC start\u001b[39m\u001b[33m\"\u001b[39m] = \u001b[38;5;28mstr\u001b[39m(datetime.datetime.now())\n\u001b[32m--> \u001b[39m\u001b[32m137\u001b[39m     \u001b[38;5;28;01mreturn\u001b[39;00m \u001b[43mfunc\u001b[49m\u001b[43m(\u001b[49m\u001b[43m*\u001b[49m\u001b[43margs\u001b[49m\u001b[43m,\u001b[49m\u001b[43m \u001b[49m\u001b[43m*\u001b[49m\u001b[43m*\u001b[49m\u001b[43mkwargs\u001b[49m\u001b[43m)\u001b[49m\n\u001b[32m    138\u001b[39m \u001b[38;5;28;01mexcept\u001b[39;00m MilvusException \u001b[38;5;28;01mas\u001b[39;00m e:\n",
      "\u001b[36mFile \u001b[39m\u001b[32md:\\CEI\\Work\\ResumeMatcher\\ResumeMatcher\\app\\venv\\Lib\\site-packages\\pymilvus\\decorators.py:173\u001b[39m, in \u001b[36mtracing_request.<locals>.wrapper.<locals>.handler\u001b[39m\u001b[34m(self, *args, **kwargs)\u001b[39m\n\u001b[32m    172\u001b[39m     \u001b[38;5;28mself\u001b[39m.set_onetime_loglevel(level)\n\u001b[32m--> \u001b[39m\u001b[32m173\u001b[39m \u001b[38;5;28;01mreturn\u001b[39;00m \u001b[43mfunc\u001b[49m\u001b[43m(\u001b[49m\u001b[38;5;28;43mself\u001b[39;49m\u001b[43m,\u001b[49m\u001b[43m \u001b[49m\u001b[43m*\u001b[49m\u001b[43margs\u001b[49m\u001b[43m,\u001b[49m\u001b[43m \u001b[49m\u001b[43m*\u001b[49m\u001b[43m*\u001b[49m\u001b[43mkwargs\u001b[49m\u001b[43m)\u001b[49m\n",
      "\u001b[36mFile \u001b[39m\u001b[32md:\\CEI\\Work\\ResumeMatcher\\ResumeMatcher\\app\\venv\\Lib\\site-packages\\pymilvus\\decorators.py:116\u001b[39m, in \u001b[36mretry_on_rpc_failure.<locals>.wrapper.<locals>.handler\u001b[39m\u001b[34m(*args, **kwargs)\u001b[39m\n\u001b[32m    115\u001b[39m     \u001b[38;5;28;01melse\u001b[39;00m:\n\u001b[32m--> \u001b[39m\u001b[32m116\u001b[39m         \u001b[38;5;28;01mraise\u001b[39;00m e \u001b[38;5;28;01mfrom\u001b[39;00m\u001b[38;5;250m \u001b[39m\u001b[34;01me\u001b[39;00m\n\u001b[32m    117\u001b[39m \u001b[38;5;28;01mexcept\u001b[39;00m \u001b[38;5;167;01mException\u001b[39;00m \u001b[38;5;28;01mas\u001b[39;00m e:\n",
      "\u001b[36mFile \u001b[39m\u001b[32md:\\CEI\\Work\\ResumeMatcher\\ResumeMatcher\\app\\venv\\Lib\\site-packages\\pymilvus\\decorators.py:86\u001b[39m, in \u001b[36mretry_on_rpc_failure.<locals>.wrapper.<locals>.handler\u001b[39m\u001b[34m(*args, **kwargs)\u001b[39m\n\u001b[32m     85\u001b[39m \u001b[38;5;28;01mtry\u001b[39;00m:\n\u001b[32m---> \u001b[39m\u001b[32m86\u001b[39m     \u001b[38;5;28;01mreturn\u001b[39;00m \u001b[43mfunc\u001b[49m\u001b[43m(\u001b[49m\u001b[43m*\u001b[49m\u001b[43margs\u001b[49m\u001b[43m,\u001b[49m\u001b[43m \u001b[49m\u001b[43m*\u001b[49m\u001b[43m*\u001b[49m\u001b[43mkwargs\u001b[49m\u001b[43m)\u001b[49m\n\u001b[32m     87\u001b[39m \u001b[38;5;28;01mexcept\u001b[39;00m grpc.RpcError \u001b[38;5;28;01mas\u001b[39;00m e:\n\u001b[32m     88\u001b[39m     \u001b[38;5;66;03m# Do not retry on these codes\u001b[39;00m\n",
      "\u001b[36mFile \u001b[39m\u001b[32md:\\CEI\\Work\\ResumeMatcher\\ResumeMatcher\\app\\venv\\Lib\\site-packages\\pymilvus\\client\\grpc_handler.py:1429\u001b[39m, in \u001b[36mGrpcHandler.create_database\u001b[39m\u001b[34m(self, db_name, properties, timeout, **kwargs)\u001b[39m\n\u001b[32m   1426\u001b[39m status = \u001b[38;5;28mself\u001b[39m._stub.CreateDatabase(\n\u001b[32m   1427\u001b[39m     request, timeout=timeout, metadata=_api_level_md(**kwargs)\n\u001b[32m   1428\u001b[39m )\n\u001b[32m-> \u001b[39m\u001b[32m1429\u001b[39m \u001b[43mcheck_status\u001b[49m\u001b[43m(\u001b[49m\u001b[43mstatus\u001b[49m\u001b[43m)\u001b[49m\n",
      "\u001b[36mFile \u001b[39m\u001b[32md:\\CEI\\Work\\ResumeMatcher\\ResumeMatcher\\app\\venv\\Lib\\site-packages\\pymilvus\\client\\utils.py:64\u001b[39m, in \u001b[36mcheck_status\u001b[39m\u001b[34m(status)\u001b[39m\n\u001b[32m     63\u001b[39m \u001b[38;5;28;01mif\u001b[39;00m status.code != \u001b[32m0\u001b[39m \u001b[38;5;129;01mor\u001b[39;00m status.error_code != \u001b[32m0\u001b[39m:\n\u001b[32m---> \u001b[39m\u001b[32m64\u001b[39m     \u001b[38;5;28;01mraise\u001b[39;00m MilvusException(status.code, status.reason, status.error_code)\n",
      "\u001b[31mMilvusException\u001b[39m: <MilvusException: (code=65535, message=database already exist: JobOrder)>",
      "\nThe above exception was the direct cause of the following exception:\n",
      "\u001b[31mMilvusException\u001b[39m                           Traceback (most recent call last)",
      "\u001b[36mCell\u001b[39m\u001b[36m \u001b[39m\u001b[32mIn[5]\u001b[39m\u001b[32m, line 1\u001b[39m\n\u001b[32m----> \u001b[39m\u001b[32m1\u001b[39m \u001b[43mdb\u001b[49m\u001b[43m.\u001b[49m\u001b[43mcreate_database\u001b[49m\u001b[43m(\u001b[49m\u001b[33;43m'\u001b[39;49m\u001b[33;43mJobOrder\u001b[39;49m\u001b[33;43m'\u001b[39;49m\u001b[43m)\u001b[49m\n",
      "\u001b[36mFile \u001b[39m\u001b[32md:\\CEI\\Work\\ResumeMatcher\\ResumeMatcher\\app\\venv\\Lib\\site-packages\\pymilvus\\orm\\db.py:30\u001b[39m, in \u001b[36mcreate_database\u001b[39m\u001b[34m(db_name, using, timeout, **kwargs)\u001b[39m\n\u001b[32m     20\u001b[39m \u001b[38;5;28;01mdef\u001b[39;00m\u001b[38;5;250m \u001b[39m\u001b[34mcreate_database\u001b[39m(\n\u001b[32m     21\u001b[39m     db_name: \u001b[38;5;28mstr\u001b[39m, using: \u001b[38;5;28mstr\u001b[39m = \u001b[33m\"\u001b[39m\u001b[33mdefault\u001b[39m\u001b[33m\"\u001b[39m, timeout: Optional[\u001b[38;5;28mfloat\u001b[39m] = \u001b[38;5;28;01mNone\u001b[39;00m, **kwargs\n\u001b[32m     22\u001b[39m ):\n\u001b[32m     23\u001b[39m \u001b[38;5;250m    \u001b[39m\u001b[33;03m\"\"\"Create a database using provided database name\u001b[39;00m\n\u001b[32m     24\u001b[39m \u001b[33;03m    Args:\u001b[39;00m\n\u001b[32m     25\u001b[39m \u001b[33;03m        db_name (``str``): Database name\u001b[39;00m\n\u001b[32m   (...)\u001b[39m\u001b[32m     28\u001b[39m \u001b[33;03m            support database resource groups with key `database.resource_groups`\u001b[39;00m\n\u001b[32m     29\u001b[39m \u001b[33;03m    \"\"\"\u001b[39;00m\n\u001b[32m---> \u001b[39m\u001b[32m30\u001b[39m     \u001b[43m_get_connection\u001b[49m\u001b[43m(\u001b[49m\u001b[43musing\u001b[49m\u001b[43m)\u001b[49m\u001b[43m.\u001b[49m\u001b[43mcreate_database\u001b[49m\u001b[43m(\u001b[49m\u001b[43mdb_name\u001b[49m\u001b[43m,\u001b[49m\u001b[43m \u001b[49m\u001b[43mtimeout\u001b[49m\u001b[43m=\u001b[49m\u001b[43mtimeout\u001b[49m\u001b[43m,\u001b[49m\u001b[43m \u001b[49m\u001b[43m*\u001b[49m\u001b[43m*\u001b[49m\u001b[43mkwargs\u001b[49m\u001b[43m)\u001b[49m\n",
      "\u001b[36mFile \u001b[39m\u001b[32md:\\CEI\\Work\\ResumeMatcher\\ResumeMatcher\\app\\venv\\Lib\\site-packages\\pymilvus\\decorators.py:141\u001b[39m, in \u001b[36merror_handler.<locals>.wrapper.<locals>.handler\u001b[39m\u001b[34m(*args, **kwargs)\u001b[39m\n\u001b[32m    139\u001b[39m     record_dict[\u001b[33m\"\u001b[39m\u001b[33mRPC error\u001b[39m\u001b[33m\"\u001b[39m] = \u001b[38;5;28mstr\u001b[39m(datetime.datetime.now())\n\u001b[32m    140\u001b[39m     LOGGER.error(\u001b[33mf\u001b[39m\u001b[33m\"\u001b[39m\u001b[33mRPC error: [\u001b[39m\u001b[38;5;132;01m{\u001b[39;00minner_name\u001b[38;5;132;01m}\u001b[39;00m\u001b[33m], \u001b[39m\u001b[38;5;132;01m{\u001b[39;00me\u001b[38;5;132;01m}\u001b[39;00m\u001b[33m, <Time:\u001b[39m\u001b[38;5;132;01m{\u001b[39;00mrecord_dict\u001b[38;5;132;01m}\u001b[39;00m\u001b[33m>\u001b[39m\u001b[33m\"\u001b[39m)\n\u001b[32m--> \u001b[39m\u001b[32m141\u001b[39m     \u001b[38;5;28;01mraise\u001b[39;00m e \u001b[38;5;28;01mfrom\u001b[39;00m\u001b[38;5;250m \u001b[39m\u001b[34;01me\u001b[39;00m\n\u001b[32m    142\u001b[39m \u001b[38;5;28;01mexcept\u001b[39;00m grpc.FutureTimeoutError \u001b[38;5;28;01mas\u001b[39;00m e:\n\u001b[32m    143\u001b[39m     record_dict[\u001b[33m\"\u001b[39m\u001b[33mgRPC timeout\u001b[39m\u001b[33m\"\u001b[39m] = \u001b[38;5;28mstr\u001b[39m(datetime.datetime.now())\n",
      "\u001b[36mFile \u001b[39m\u001b[32md:\\CEI\\Work\\ResumeMatcher\\ResumeMatcher\\app\\venv\\Lib\\site-packages\\pymilvus\\decorators.py:137\u001b[39m, in \u001b[36merror_handler.<locals>.wrapper.<locals>.handler\u001b[39m\u001b[34m(*args, **kwargs)\u001b[39m\n\u001b[32m    135\u001b[39m \u001b[38;5;28;01mtry\u001b[39;00m:\n\u001b[32m    136\u001b[39m     record_dict[\u001b[33m\"\u001b[39m\u001b[33mRPC start\u001b[39m\u001b[33m\"\u001b[39m] = \u001b[38;5;28mstr\u001b[39m(datetime.datetime.now())\n\u001b[32m--> \u001b[39m\u001b[32m137\u001b[39m     \u001b[38;5;28;01mreturn\u001b[39;00m \u001b[43mfunc\u001b[49m\u001b[43m(\u001b[49m\u001b[43m*\u001b[49m\u001b[43margs\u001b[49m\u001b[43m,\u001b[49m\u001b[43m \u001b[49m\u001b[43m*\u001b[49m\u001b[43m*\u001b[49m\u001b[43mkwargs\u001b[49m\u001b[43m)\u001b[49m\n\u001b[32m    138\u001b[39m \u001b[38;5;28;01mexcept\u001b[39;00m MilvusException \u001b[38;5;28;01mas\u001b[39;00m e:\n\u001b[32m    139\u001b[39m     record_dict[\u001b[33m\"\u001b[39m\u001b[33mRPC error\u001b[39m\u001b[33m\"\u001b[39m] = \u001b[38;5;28mstr\u001b[39m(datetime.datetime.now())\n",
      "\u001b[36mFile \u001b[39m\u001b[32md:\\CEI\\Work\\ResumeMatcher\\ResumeMatcher\\app\\venv\\Lib\\site-packages\\pymilvus\\decorators.py:173\u001b[39m, in \u001b[36mtracing_request.<locals>.wrapper.<locals>.handler\u001b[39m\u001b[34m(self, *args, **kwargs)\u001b[39m\n\u001b[32m    171\u001b[39m \u001b[38;5;28;01mif\u001b[39;00m level:\n\u001b[32m    172\u001b[39m     \u001b[38;5;28mself\u001b[39m.set_onetime_loglevel(level)\n\u001b[32m--> \u001b[39m\u001b[32m173\u001b[39m \u001b[38;5;28;01mreturn\u001b[39;00m \u001b[43mfunc\u001b[49m\u001b[43m(\u001b[49m\u001b[38;5;28;43mself\u001b[39;49m\u001b[43m,\u001b[49m\u001b[43m \u001b[49m\u001b[43m*\u001b[49m\u001b[43margs\u001b[49m\u001b[43m,\u001b[49m\u001b[43m \u001b[49m\u001b[43m*\u001b[49m\u001b[43m*\u001b[49m\u001b[43mkwargs\u001b[49m\u001b[43m)\u001b[49m\n",
      "\u001b[36mFile \u001b[39m\u001b[32md:\\CEI\\Work\\ResumeMatcher\\ResumeMatcher\\app\\venv\\Lib\\site-packages\\pymilvus\\decorators.py:116\u001b[39m, in \u001b[36mretry_on_rpc_failure.<locals>.wrapper.<locals>.handler\u001b[39m\u001b[34m(*args, **kwargs)\u001b[39m\n\u001b[32m    114\u001b[39m         back_off = \u001b[38;5;28mmin\u001b[39m(back_off * back_off_multiplier, max_back_off)\n\u001b[32m    115\u001b[39m     \u001b[38;5;28;01melse\u001b[39;00m:\n\u001b[32m--> \u001b[39m\u001b[32m116\u001b[39m         \u001b[38;5;28;01mraise\u001b[39;00m e \u001b[38;5;28;01mfrom\u001b[39;00m\u001b[38;5;250m \u001b[39m\u001b[34;01me\u001b[39;00m\n\u001b[32m    117\u001b[39m \u001b[38;5;28;01mexcept\u001b[39;00m \u001b[38;5;167;01mException\u001b[39;00m \u001b[38;5;28;01mas\u001b[39;00m e:\n\u001b[32m    118\u001b[39m     \u001b[38;5;28;01mraise\u001b[39;00m e \u001b[38;5;28;01mfrom\u001b[39;00m\u001b[38;5;250m \u001b[39m\u001b[34;01me\u001b[39;00m\n",
      "\u001b[36mFile \u001b[39m\u001b[32md:\\CEI\\Work\\ResumeMatcher\\ResumeMatcher\\app\\venv\\Lib\\site-packages\\pymilvus\\decorators.py:86\u001b[39m, in \u001b[36mretry_on_rpc_failure.<locals>.wrapper.<locals>.handler\u001b[39m\u001b[34m(*args, **kwargs)\u001b[39m\n\u001b[32m     84\u001b[39m \u001b[38;5;28;01mwhile\u001b[39;00m \u001b[38;5;28;01mTrue\u001b[39;00m:\n\u001b[32m     85\u001b[39m     \u001b[38;5;28;01mtry\u001b[39;00m:\n\u001b[32m---> \u001b[39m\u001b[32m86\u001b[39m         \u001b[38;5;28;01mreturn\u001b[39;00m \u001b[43mfunc\u001b[49m\u001b[43m(\u001b[49m\u001b[43m*\u001b[49m\u001b[43margs\u001b[49m\u001b[43m,\u001b[49m\u001b[43m \u001b[49m\u001b[43m*\u001b[49m\u001b[43m*\u001b[49m\u001b[43mkwargs\u001b[49m\u001b[43m)\u001b[49m\n\u001b[32m     87\u001b[39m     \u001b[38;5;28;01mexcept\u001b[39;00m grpc.RpcError \u001b[38;5;28;01mas\u001b[39;00m e:\n\u001b[32m     88\u001b[39m         \u001b[38;5;66;03m# Do not retry on these codes\u001b[39;00m\n\u001b[32m     89\u001b[39m         \u001b[38;5;28;01mif\u001b[39;00m e.code() \u001b[38;5;129;01min\u001b[39;00m IGNORE_RETRY_CODES:\n",
      "\u001b[36mFile \u001b[39m\u001b[32md:\\CEI\\Work\\ResumeMatcher\\ResumeMatcher\\app\\venv\\Lib\\site-packages\\pymilvus\\client\\grpc_handler.py:1429\u001b[39m, in \u001b[36mGrpcHandler.create_database\u001b[39m\u001b[34m(self, db_name, properties, timeout, **kwargs)\u001b[39m\n\u001b[32m   1425\u001b[39m request = Prepare.create_database_req(db_name, properties=properties)\n\u001b[32m   1426\u001b[39m status = \u001b[38;5;28mself\u001b[39m._stub.CreateDatabase(\n\u001b[32m   1427\u001b[39m     request, timeout=timeout, metadata=_api_level_md(**kwargs)\n\u001b[32m   1428\u001b[39m )\n\u001b[32m-> \u001b[39m\u001b[32m1429\u001b[39m \u001b[43mcheck_status\u001b[49m\u001b[43m(\u001b[49m\u001b[43mstatus\u001b[49m\u001b[43m)\u001b[49m\n",
      "\u001b[36mFile \u001b[39m\u001b[32md:\\CEI\\Work\\ResumeMatcher\\ResumeMatcher\\app\\venv\\Lib\\site-packages\\pymilvus\\client\\utils.py:64\u001b[39m, in \u001b[36mcheck_status\u001b[39m\u001b[34m(status)\u001b[39m\n\u001b[32m     62\u001b[39m \u001b[38;5;28;01mdef\u001b[39;00m\u001b[38;5;250m \u001b[39m\u001b[34mcheck_status\u001b[39m(status: Status):\n\u001b[32m     63\u001b[39m     \u001b[38;5;28;01mif\u001b[39;00m status.code != \u001b[32m0\u001b[39m \u001b[38;5;129;01mor\u001b[39;00m status.error_code != \u001b[32m0\u001b[39m:\n\u001b[32m---> \u001b[39m\u001b[32m64\u001b[39m         \u001b[38;5;28;01mraise\u001b[39;00m MilvusException(status.code, status.reason, status.error_code)\n",
      "\u001b[31mMilvusException\u001b[39m: <MilvusException: (code=65535, message=database already exist: JobOrder)>"
     ]
    }
   ],
   "source": [
    "db.create_database('JobOrder')"
   ]
  },
  {
   "cell_type": "code",
   "execution_count": 6,
   "id": "7966307d",
   "metadata": {},
   "outputs": [],
   "source": [
    "db.using_database('JobOrder')"
   ]
  },
  {
   "cell_type": "code",
   "execution_count": 7,
   "id": "6f7db97a",
   "metadata": {},
   "outputs": [
    {
     "data": {
      "text/plain": [
       "[]"
      ]
     },
     "execution_count": 7,
     "metadata": {},
     "output_type": "execute_result"
    }
   ],
   "source": [
    "utility.list_collections()"
   ]
  },
  {
   "cell_type": "code",
   "execution_count": 15,
   "id": "367d1280",
   "metadata": {},
   "outputs": [],
   "source": [
    "id_feild = FieldSchema(name='id', dtype=DataType.INT64, is_primary=True, auto_id=True)\n",
    "clinet_name_feild = FieldSchema(name='client_name', dtype=DataType.VARCHAR, max_length=100)\n",
    "job_title_feild = FieldSchema(name='job_title', dtype=DataType.VARCHAR, max_length=100)\n",
    "job_desc_feild = FieldSchema(name='job_desc', dtype=DataType.VARCHAR, max_length=10000)\n",
    "job_desc_embedding_feild = FieldSchema(name='job_desc_embedding', dtype=DataType.FLOAT_VECTOR, dim=768)\n",
    "\n",
    "job_oreder_schema = CollectionSchema([id_feild, clinet_name_feild, job_title_feild, job_desc_feild, job_desc_embedding_feild])"
   ]
  },
  {
   "cell_type": "code",
   "execution_count": 16,
   "id": "6fa83bc5",
   "metadata": {},
   "outputs": [],
   "source": [
    "collection = Collection(name='job_order', schema=job_oreder_schema)"
   ]
  },
  {
   "cell_type": "code",
   "execution_count": 17,
   "id": "877b5578",
   "metadata": {},
   "outputs": [
    {
     "data": {
      "text/plain": [
       "Status(code=0, message=)"
      ]
     },
     "execution_count": 17,
     "metadata": {},
     "output_type": "execute_result"
    }
   ],
   "source": [
    "index_params = {\n",
    "    'metric_type': 'L2',\n",
    "    'index_type': 'HNSW',\n",
    "    'params': {\n",
    "        'M': 16,\n",
    "        'efConstruction': 200\n",
    "    }\n",
    "}\n",
    "\n",
    "collection.create_index(field_name='job_desc_embedding', index_params=index_params)"
   ]
  },
  {
   "cell_type": "code",
   "execution_count": 20,
   "id": "c9a64427",
   "metadata": {},
   "outputs": [],
   "source": [
    "collection.load()"
   ]
  },
  {
   "cell_type": "code",
   "execution_count": 30,
   "id": "cf8c98ba",
   "metadata": {},
   "outputs": [],
   "source": [
    "sample_job_orders = {\n",
    "    'client_name': [\n",
    "        'Sammy',\n",
    "        'Bob',\n",
    "        'Charlie',\n",
    "        'Diana'\n",
    "    ],\n",
    "    'job_title': [\n",
    "        'Software Engineer',\n",
    "        'Data Scientist',\n",
    "        'Backend Developer',\n",
    "        'Frontend Developer'\n",
    "    ],\n",
    "    'job_desc': [\n",
    "        '''\n",
    "        As a Software Engineer, your responsibilities will include writing clean and maintainable code, collaborating with team members to define software requirements, participating in code reviews, troubleshooting and upgrading existing software, and ensuring the performance and responsiveness of applications. You will also be expected to stay current with emerging technologies and industry trends.\n",
    "        ''',\n",
    "        '''\n",
    "        As a Data Scientist, you will analyze large amounts of raw information to find patterns that will help improve our company. We will rely on you to build data products to extract valuable business insights.\n",
    "        ''',\n",
    "        '''\n",
    "        As a Backend Developer, you will design and implement server-side logic, maintain databases, and ensure high performance and responsiveness to requests from the front-end.\n",
    "        ''',\n",
    "        '''\n",
    "        As a Frontend Developer, you will be responsible for implementing visual elements that users see and interact with in a web application, ensuring a seamless user experience.\n",
    "        '''\n",
    "    ]\n",
    "}\n",
    "\n",
    "# Example: To add embeddings for each job_desc\n",
    "sample_job_orders['job_desc_embedding'] = [\n",
    "    get_embedding(model='nomic-embed-text:v1.5', prompt=desc)\n",
    "    for desc in sample_job_orders['job_desc']\n",
    "]\n"
   ]
  },
  {
   "cell_type": "code",
   "execution_count": 31,
   "id": "aa8c53a2",
   "metadata": {},
   "outputs": [
    {
     "data": {
      "text/plain": [
       "(insert count: 4, delete count: 0, upsert count: 0, timestamp: 458890654672224259, success count: 4, err count: 0"
      ]
     },
     "execution_count": 31,
     "metadata": {},
     "output_type": "execute_result"
    }
   ],
   "source": [
    "collection.insert([sample_job_orders['client_name'], sample_job_orders['job_title'], sample_job_orders['job_desc'], sample_job_orders['job_desc_embedding']])"
   ]
  },
  {
   "cell_type": "code",
   "execution_count": 36,
   "id": "791576ab",
   "metadata": {},
   "outputs": [
    {
     "name": "stdout",
     "output_type": "stream",
     "text": [
      "458886263163361655\n",
      "458886263163361656\n",
      "458886263163361657\n",
      "458886263163361658\n"
     ]
    }
   ],
   "source": [
    "result = collection.query(expr=\"id >= 0\", output_fields=[\"id\", \"client_name\", \"job_title\", \"job_desc\", \"job_desc_embedding\"])\n",
    "for item in result:\n",
    "    print(item.get('id'))"
   ]
  },
  {
   "cell_type": "code",
   "execution_count": 35,
   "id": "351db613",
   "metadata": {},
   "outputs": [
    {
     "data": {
      "text/plain": [
       "(insert count: 0, delete count: 1, upsert count: 0, timestamp: 458890677751644162, success count: 0, err count: 0"
      ]
     },
     "execution_count": 35,
     "metadata": {},
     "output_type": "execute_result"
    }
   ],
   "source": [
    "ids_to_delete = [458886263163361653]\n",
    "expr = f\"id in {ids_to_delete}\"\n",
    "collection.delete(expr=expr)"
   ]
  },
  {
   "cell_type": "code",
   "execution_count": 39,
   "id": "0b7bfdf7",
   "metadata": {},
   "outputs": [
    {
     "ename": "DataNotMatchException",
     "evalue": "<DataNotMatchException: (code=1, message=The data doesn't match with schema fields, expect 4 list, got 5)>",
     "output_type": "error",
     "traceback": [
      "\u001b[31m---------------------------------------------------------------------------\u001b[39m",
      "\u001b[31mDataNotMatchException\u001b[39m                     Traceback (most recent call last)",
      "\u001b[36mCell\u001b[39m\u001b[36m \u001b[39m\u001b[32mIn[39]\u001b[39m\u001b[32m, line 8\u001b[39m\n\u001b[32m      1\u001b[39m sample_job_order = {\n\u001b[32m      2\u001b[39m     \u001b[33m'\u001b[39m\u001b[33mclient_name\u001b[39m\u001b[33m'\u001b[39m: [\u001b[33m'\u001b[39m\u001b[33mAlice\u001b[39m\u001b[33m'\u001b[39m],\n\u001b[32m      3\u001b[39m     \u001b[33m'\u001b[39m\u001b[33mjob_title\u001b[39m\u001b[33m'\u001b[39m: [\u001b[33m'\u001b[39m\u001b[33mDevOps Engineer\u001b[39m\u001b[33m'\u001b[39m],\n\u001b[32m      4\u001b[39m     \u001b[33m'\u001b[39m\u001b[33mjob_desc\u001b[39m\u001b[33m'\u001b[39m: [\u001b[33m'''\u001b[39m\u001b[33mAs a DevOps Engineer, you will be responsible for automating and streamlining operations and processes, building and maintaining tools for deployment, monitoring, and operations, and troubleshooting and resolving issues in our development, test, and production environments.\u001b[39m\n\u001b[32m      5\u001b[39m \u001b[33m'''\u001b[39m]\n\u001b[32m      6\u001b[39m }\n\u001b[32m      7\u001b[39m sample_job_order[\u001b[33m'\u001b[39m\u001b[33mjob_desc_embedding\u001b[39m\u001b[33m'\u001b[39m] = [get_embedding(model=\u001b[33m'\u001b[39m\u001b[33mnomic-embed-text:v1.5\u001b[39m\u001b[33m'\u001b[39m, prompt=sample_job_order[\u001b[33m'\u001b[39m\u001b[33mjob_desc\u001b[39m\u001b[33m'\u001b[39m][\u001b[32m0\u001b[39m])]\n\u001b[32m----> \u001b[39m\u001b[32m8\u001b[39m \u001b[43mcollection\u001b[49m\u001b[43m.\u001b[49m\u001b[43minsert\u001b[49m\u001b[43m(\u001b[49m\u001b[43m[\u001b[49m\u001b[43m[\u001b[49m\u001b[32;43m458886263163361653\u001b[39;49m\u001b[43m]\u001b[49m\u001b[43m,\u001b[49m\u001b[43m \u001b[49m\u001b[43msample_job_order\u001b[49m\u001b[43m[\u001b[49m\u001b[33;43m'\u001b[39;49m\u001b[33;43mclient_name\u001b[39;49m\u001b[33;43m'\u001b[39;49m\u001b[43m]\u001b[49m\u001b[43m,\u001b[49m\u001b[43m \u001b[49m\u001b[43msample_job_order\u001b[49m\u001b[43m[\u001b[49m\u001b[33;43m'\u001b[39;49m\u001b[33;43mjob_title\u001b[39;49m\u001b[33;43m'\u001b[39;49m\u001b[43m]\u001b[49m\u001b[43m,\u001b[49m\u001b[43m \u001b[49m\u001b[43msample_job_order\u001b[49m\u001b[43m[\u001b[49m\u001b[33;43m'\u001b[39;49m\u001b[33;43mjob_desc\u001b[39;49m\u001b[33;43m'\u001b[39;49m\u001b[43m]\u001b[49m\u001b[43m,\u001b[49m\u001b[43m \u001b[49m\u001b[43msample_job_order\u001b[49m\u001b[43m[\u001b[49m\u001b[33;43m'\u001b[39;49m\u001b[33;43mjob_desc_embedding\u001b[39;49m\u001b[33;43m'\u001b[39;49m\u001b[43m]\u001b[49m\u001b[43m]\u001b[49m\u001b[43m)\u001b[49m\n",
      "\u001b[36mFile \u001b[39m\u001b[32md:\\CEI\\Work\\ResumeMatcher\\ResumeMatcher\\app\\venv\\Lib\\site-packages\\pymilvus\\orm\\collection.py:515\u001b[39m, in \u001b[36mCollection.insert\u001b[39m\u001b[34m(self, data, partition_name, timeout, **kwargs)\u001b[39m\n\u001b[32m    505\u001b[39m \u001b[38;5;28;01mif\u001b[39;00m is_row_based(data):\n\u001b[32m    506\u001b[39m     \u001b[38;5;28;01mreturn\u001b[39;00m conn.insert_rows(\n\u001b[32m    507\u001b[39m         collection_name=\u001b[38;5;28mself\u001b[39m._name,\n\u001b[32m    508\u001b[39m         entities=data,\n\u001b[32m   (...)\u001b[39m\u001b[32m    512\u001b[39m         **kwargs,\n\u001b[32m    513\u001b[39m     )\n\u001b[32m--> \u001b[39m\u001b[32m515\u001b[39m \u001b[43mcheck_insert_schema\u001b[49m\u001b[43m(\u001b[49m\u001b[38;5;28;43mself\u001b[39;49m\u001b[43m.\u001b[49m\u001b[43mschema\u001b[49m\u001b[43m,\u001b[49m\u001b[43m \u001b[49m\u001b[43mdata\u001b[49m\u001b[43m)\u001b[49m\n\u001b[32m    516\u001b[39m entities = Prepare.prepare_data(data, \u001b[38;5;28mself\u001b[39m.schema)\n\u001b[32m    517\u001b[39m \u001b[38;5;28;01mreturn\u001b[39;00m conn.batch_insert(\n\u001b[32m    518\u001b[39m     \u001b[38;5;28mself\u001b[39m._name,\n\u001b[32m    519\u001b[39m     entities,\n\u001b[32m   (...)\u001b[39m\u001b[32m    523\u001b[39m     **kwargs,\n\u001b[32m    524\u001b[39m )\n",
      "\u001b[36mFile \u001b[39m\u001b[32md:\\CEI\\Work\\ResumeMatcher\\ResumeMatcher\\app\\venv\\Lib\\site-packages\\pymilvus\\orm\\schema.py:773\u001b[39m, in \u001b[36mcheck_insert_schema\u001b[39m\u001b[34m(schema, data)\u001b[39m\n\u001b[32m    764\u001b[39m     data = data[columns]\n\u001b[32m    766\u001b[39m tmp_fields = \u001b[38;5;28mlist\u001b[39m(\n\u001b[32m    767\u001b[39m     \u001b[38;5;28mfilter\u001b[39m(\n\u001b[32m    768\u001b[39m         \u001b[38;5;28;01mlambda\u001b[39;00m field: \u001b[38;5;129;01mnot\u001b[39;00m (field.is_primary \u001b[38;5;129;01mand\u001b[39;00m field.auto_id) \u001b[38;5;129;01mand\u001b[39;00m \u001b[38;5;129;01mnot\u001b[39;00m field.is_function_output,\n\u001b[32m    769\u001b[39m         schema.fields,\n\u001b[32m    770\u001b[39m     )\n\u001b[32m    771\u001b[39m )\n\u001b[32m--> \u001b[39m\u001b[32m773\u001b[39m \u001b[43m_check_data_schema_cnt\u001b[49m\u001b[43m(\u001b[49m\u001b[43mtmp_fields\u001b[49m\u001b[43m,\u001b[49m\u001b[43m \u001b[49m\u001b[43mdata\u001b[49m\u001b[43m)\u001b[49m\n\u001b[32m    774\u001b[39m _check_insert_data(data)\n",
      "\u001b[36mFile \u001b[39m\u001b[32md:\\CEI\\Work\\ResumeMatcher\\ResumeMatcher\\app\\venv\\Lib\\site-packages\\pymilvus\\orm\\schema.py:745\u001b[39m, in \u001b[36m_check_data_schema_cnt\u001b[39m\u001b[34m(fields, data)\u001b[39m\n\u001b[32m    742\u001b[39m         t_name = \u001b[38;5;28mlist\u001b[39m(data.columns)\n\u001b[32m    743\u001b[39m         message = \u001b[33mf\u001b[39m\u001b[33m\"\u001b[39m\u001b[33mThe fields don\u001b[39m\u001b[33m'\u001b[39m\u001b[33mt match with schema fields, expected: \u001b[39m\u001b[38;5;132;01m{\u001b[39;00mi_name\u001b[38;5;132;01m}\u001b[39;00m\u001b[33m, got \u001b[39m\u001b[38;5;132;01m{\u001b[39;00mt_name\u001b[38;5;132;01m}\u001b[39;00m\u001b[33m\"\u001b[39m\n\u001b[32m--> \u001b[39m\u001b[32m745\u001b[39m     \u001b[38;5;28;01mraise\u001b[39;00m DataNotMatchException(message=message)\n\u001b[32m    747\u001b[39m \u001b[38;5;28;01mif\u001b[39;00m is_dataframe:\n\u001b[32m    748\u001b[39m     \u001b[38;5;28;01mfor\u001b[39;00m x, y \u001b[38;5;129;01min\u001b[39;00m \u001b[38;5;28mzip\u001b[39m(\u001b[38;5;28mlist\u001b[39m(data.columns), fields):\n",
      "\u001b[31mDataNotMatchException\u001b[39m: <DataNotMatchException: (code=1, message=The data doesn't match with schema fields, expect 4 list, got 5)>"
     ]
    }
   ],
   "source": [
    "sample_job_order = {\n",
    "    'client_name': ['Alice'],\n",
    "    'job_title': ['DevOps Engineer'],\n",
    "    'job_desc': ['''As a DevOps Engineer, you will be responsible for automating and streamlining operations and processes, building and maintaining tools for deployment, monitoring, and operations, and troubleshooting and resolving issues in our development, test, and production environments.\n",
    "''']\n",
    "}\n",
    "sample_job_order['job_desc_embedding'] = [get_embedding(model='nomic-embed-text:v1.5', prompt=sample_job_order['job_desc'][0])]\n",
    "collection.insert([[458886263163361653], sample_job_order['client_name'], sample_job_order['job_title'], sample_job_order['job_desc'], sample_job_order['job_desc_embedding']])"
   ]
  },
  {
   "cell_type": "code",
   "execution_count": 12,
   "id": "b18395a8",
   "metadata": {},
   "outputs": [
    {
     "name": "stdout",
     "output_type": "stream",
     "text": [
      "Note: you may need to restart the kernel to use updated packages.\n"
     ]
    },
    {
     "name": "stderr",
     "output_type": "stream",
     "text": [
      "\n",
      "[notice] A new release of pip is available: 23.2.1 -> 25.1.1\n",
      "[notice] To update, run: python.exe -m pip install --upgrade pip\n"
     ]
    }
   ],
   "source": [
    "%pip install --quiet --upgrade langgraph\n"
   ]
  },
  {
   "cell_type": "code",
   "execution_count": 1,
   "id": "7af311ba",
   "metadata": {},
   "outputs": [
    {
     "name": "stdout",
     "output_type": "stream",
     "text": [
      "Note: you may need to restart the kernel to use updated packages.\n"
     ]
    },
    {
     "name": "stderr",
     "output_type": "stream",
     "text": [
      "ERROR: pip's dependency resolver does not currently take into account all the packages that are installed. This behaviour is the source of the following dependency conflicts.\n",
      "pymilvus 2.5.11 requires grpcio<=1.67.1,>=1.49.1, but you have grpcio 1.73.1 which is incompatible.\n",
      "\n",
      "[notice] A new release of pip is available: 23.2.1 -> 25.1.1\n",
      "[notice] To update, run: python.exe -m pip install --upgrade pip\n"
     ]
    }
   ],
   "source": [
    "pip install -qU \"langchain[google-genai]\""
   ]
  },
  {
   "cell_type": "code",
   "execution_count": 5,
   "id": "95742246",
   "metadata": {},
   "outputs": [
    {
     "name": "stdout",
     "output_type": "stream",
     "text": [
      "Note: you may need to restart the kernel to use updated packages.\n"
     ]
    },
    {
     "name": "stderr",
     "output_type": "stream",
     "text": [
      "\n",
      "[notice] A new release of pip is available: 23.2.1 -> 25.1.1\n",
      "[notice] To update, run: python.exe -m pip install --upgrade pip\n"
     ]
    }
   ],
   "source": [
    "pip install -qU langchain-ollama"
   ]
  },
  {
   "cell_type": "code",
   "execution_count": null,
   "id": "9740b430",
   "metadata": {},
   "outputs": [],
   "source": [
    "# pip install bs4"
   ]
  },
  {
   "cell_type": "code",
   "execution_count": 2,
   "id": "39af989e",
   "metadata": {},
   "outputs": [
    {
     "name": "stdout",
     "output_type": "stream",
     "text": [
      "Note: you may need to restart the kernel to use updated packages.\n"
     ]
    },
    {
     "name": "stderr",
     "output_type": "stream",
     "text": [
      "ERROR: pip's dependency resolver does not currently take into account all the packages that are installed. This behaviour is the source of the following dependency conflicts.\n",
      "grpcio-status 1.73.1 requires grpcio>=1.73.1, but you have grpcio 1.67.1 which is incompatible.\n",
      "\n",
      "[notice] A new release of pip is available: 23.2.1 -> 25.1.1\n",
      "[notice] To update, run: python.exe -m pip install --upgrade pip\n"
     ]
    }
   ],
   "source": [
    "pip install -qU langchain-milvus"
   ]
  },
  {
   "cell_type": "code",
   "execution_count": 3,
   "id": "cbc105a6",
   "metadata": {},
   "outputs": [],
   "source": [
    "import getpass\n",
    "import os\n",
    "\n",
    "if os.environ.get(\"GOOGLE_API_KEY\") == \"\":\n",
    "  os.environ[\"GOOGLE_API_KEY\"] = getpass.getpass(\"Enter API key for Google Gemini: \")\n",
    "\n",
    "from langchain.chat_models import init_chat_model\n",
    "\n",
    "llm = init_chat_model(\"gemini-2.0-flash\", model_provider=\"google_genai\")"
   ]
  },
  {
   "cell_type": "code",
   "execution_count": 6,
   "id": "8c6d7eeb",
   "metadata": {},
   "outputs": [],
   "source": [
    "from langchain_ollama import OllamaEmbeddings\n",
    "embedding = OllamaEmbeddings(model=\"nomic-embed-text:v1.5\")"
   ]
  },
  {
   "cell_type": "code",
   "execution_count": 7,
   "id": "3ed9ae54",
   "metadata": {},
   "outputs": [
    {
     "name": "stderr",
     "output_type": "stream",
     "text": [
      "2025-06-28 15:00:34,459 [DEBUG][_create_connection]: Created new connection using: fe00b69d2899436ea47932da9ea04b5d (async_milvus_client.py:599)\n"
     ]
    }
   ],
   "source": [
    "from langchain_milvus import Milvus\n",
    "\n",
    "vector_store = Milvus(\n",
    "    embedding_function=embedding,\n",
    "    collection_name=\"candidates\",\n",
    "    connection_args={\n",
    "        \"host\": os.environ.get(\"milvus_db_host\"),\n",
    "        \"port\": os.environ.get(\"milvus_db_port\"),\n",
    "        \"db_name\": \"ResumeMatcher\"\n",
    "    },\n",
    "    index_params={\"index_type\": \"FLAT\", \"metric_type\": \"L2\"},\n",
    ")"
   ]
  },
  {
   "cell_type": "code",
   "execution_count": null,
   "id": "96b3423d",
   "metadata": {},
   "outputs": [
    {
     "name": "stderr",
     "output_type": "stream",
     "text": [
      "d:\\Work\\LLM task\\ResumeMatcher\\.venv\\Lib\\site-packages\\langchain_milvus\\vectorstores\\milvus.py:1141: UserWarning: No ids provided and auto_id is False. Setting auto_id to True automatically.\n",
      "  warnings.warn(\n",
      "2025-06-27 16:00:12,999 [ERROR][handler]: RPC error: [insert_rows], <DataNotMatchException: (code=1, message=Attempt to insert an unexpected field `text` to collection without enabling dynamic field)>, <Time:{'RPC start': '2025-06-27 16:00:12.994913', 'RPC error': '2025-06-27 16:00:12.999424'}> (decorators.py:140)\n",
      "Failed to insert batch starting at entity: 1/3. First entity data: {'text': 'DHINESH V\\n+91 88078 77786 ⋄ Kadpadi, Vellore\\ndhineshvkumar2003@gmail.com ⋄ LinkedIN ⋄ GitHub\\nOBJECTIVE\\nI am passionated in the IT field where I can leverage my technical skills, gain valuable experience, and contribute to\\nthe company’s success. My goal is to be part of a dynamic team, drive innovative solutions, and make a significant\\nimpact on the organization’s growth and development.\\nEDUCATION\\nMaster of Computer Application , Vellore Institute of Technology 2023 - 2025\\nCumulative GPA: 9.16/10.0\\nRelevant Coursework:\\nProgramming in Java(advanced), Python Programming, Machine Learning, Mobile Application Design and Develop-\\nment, Full-Stack Web Development, Technical Report Writing, Non-Relational Database Management.\\nBachelor of Computer Application, Vellore Institute of Technology 2020 - 2023\\nCumulative GPA: 8.98/10.0\\nRelevant Coursework:\\nSoftware Development, C, Object-Oriented design, Software Project Management, Object-Oriented Programming,', 'vector': '[-0.03304903, 0.0474672, -0.1306678, 0.01735028, 0.08138603, -0.0131399175, 0.02057622, -0.004987244, -0.0022656333, 0.007210617]... (truncated, total len: 768)'}\n"
     ]
    },
    {
     "ename": "DataNotMatchException",
     "evalue": "<DataNotMatchException: (code=1, message=Attempt to insert an unexpected field `text` to collection without enabling dynamic field)>",
     "output_type": "error",
     "traceback": [
      "\u001b[31m---------------------------------------------------------------------------\u001b[39m",
      "\u001b[31mDataNotMatchException\u001b[39m                     Traceback (most recent call last)",
      "    \u001b[31m[... skipping hidden 1 frame]\u001b[39m\n",
      "\u001b[36mCell\u001b[39m\u001b[36m \u001b[39m\u001b[32mIn[41]\u001b[39m\u001b[32m, line 24\u001b[39m\n\u001b[32m     23\u001b[39m \u001b[38;5;66;03m# Index chunks\u001b[39;00m\n\u001b[32m---> \u001b[39m\u001b[32m24\u001b[39m _ = \u001b[43mvector_store\u001b[49m\u001b[43m.\u001b[49m\u001b[43madd_documents\u001b[49m\u001b[43m(\u001b[49m\u001b[43mdocuments\u001b[49m\u001b[43m=\u001b[49m\u001b[43mall_splits\u001b[49m\u001b[43m)\u001b[49m\n\u001b[32m     27\u001b[39m \u001b[38;5;66;03m# Define prompt for question-answering\u001b[39;00m\n\u001b[32m     28\u001b[39m \u001b[38;5;66;03m# N.B. for non-US LangSmith endpoints, you may need to specify\u001b[39;00m\n\u001b[32m     29\u001b[39m \u001b[38;5;66;03m# api_url=\"https://api.smith.langchain.com\" in hub.pull.\u001b[39;00m\n",
      "\u001b[36mFile \u001b[39m\u001b[32md:\\Work\\LLM task\\ResumeMatcher\\.venv\\Lib\\site-packages\\langchain_milvus\\vectorstores\\milvus.py:2041\u001b[39m, in \u001b[36mMilvus.add_documents\u001b[39m\u001b[34m(self, documents, **kwargs)\u001b[39m\n\u001b[32m   2040\u001b[39m metadatas = [doc.metadata \u001b[38;5;28;01mfor\u001b[39;00m doc \u001b[38;5;129;01min\u001b[39;00m documents]\n\u001b[32m-> \u001b[39m\u001b[32m2041\u001b[39m \u001b[38;5;28;01mreturn\u001b[39;00m \u001b[38;5;28;43mself\u001b[39;49m\u001b[43m.\u001b[49m\u001b[43madd_texts\u001b[49m\u001b[43m(\u001b[49m\u001b[43mtexts\u001b[49m\u001b[43m,\u001b[49m\u001b[43m \u001b[49m\u001b[43mmetadatas\u001b[49m\u001b[43m,\u001b[49m\u001b[43m \u001b[49m\u001b[43m*\u001b[49m\u001b[43m*\u001b[49m\u001b[43mkwargs\u001b[49m\u001b[43m)\u001b[49m\n",
      "\u001b[36mFile \u001b[39m\u001b[32md:\\Work\\LLM task\\ResumeMatcher\\.venv\\Lib\\site-packages\\langchain_milvus\\vectorstores\\milvus.py:1204\u001b[39m, in \u001b[36mMilvus.add_texts\u001b[39m\u001b[34m(self, texts, metadatas, timeout, batch_size, ids, **kwargs)\u001b[39m\n\u001b[32m   1202\u001b[39m     transposed_embeddings = embeddings[\u001b[32m0\u001b[39m] \u001b[38;5;28;01mif\u001b[39;00m \u001b[38;5;28mlen\u001b[39m(embeddings) > \u001b[32m0\u001b[39m \u001b[38;5;28;01melse\u001b[39;00m []\n\u001b[32m-> \u001b[39m\u001b[32m1204\u001b[39m \u001b[38;5;28;01mreturn\u001b[39;00m \u001b[38;5;28;43mself\u001b[39;49m\u001b[43m.\u001b[49m\u001b[43madd_embeddings\u001b[49m\u001b[43m(\u001b[49m\n\u001b[32m   1205\u001b[39m \u001b[43m    \u001b[49m\u001b[43mtexts\u001b[49m\u001b[43m=\u001b[49m\u001b[43mtexts\u001b[49m\u001b[43m,\u001b[49m\n\u001b[32m   1206\u001b[39m \u001b[43m    \u001b[49m\u001b[43membeddings\u001b[49m\u001b[43m=\u001b[49m\u001b[43mtransposed_embeddings\u001b[49m\u001b[43m,\u001b[49m\n\u001b[32m   1207\u001b[39m \u001b[43m    \u001b[49m\u001b[43mmetadatas\u001b[49m\u001b[43m=\u001b[49m\u001b[43mmetadatas\u001b[49m\u001b[43m,\u001b[49m\n\u001b[32m   1208\u001b[39m \u001b[43m    \u001b[49m\u001b[43mtimeout\u001b[49m\u001b[43m=\u001b[49m\u001b[43mtimeout\u001b[49m\u001b[43m,\u001b[49m\n\u001b[32m   1209\u001b[39m \u001b[43m    \u001b[49m\u001b[43mbatch_size\u001b[49m\u001b[43m=\u001b[49m\u001b[43mbatch_size\u001b[49m\u001b[43m,\u001b[49m\n\u001b[32m   1210\u001b[39m \u001b[43m    \u001b[49m\u001b[43mids\u001b[49m\u001b[43m=\u001b[49m\u001b[43mids\u001b[49m\u001b[43m,\u001b[49m\n\u001b[32m   1211\u001b[39m \u001b[43m    \u001b[49m\u001b[43m*\u001b[49m\u001b[43m*\u001b[49m\u001b[43mkwargs\u001b[49m\u001b[43m,\u001b[49m\n\u001b[32m   1212\u001b[39m \u001b[43m\u001b[49m\u001b[43m)\u001b[49m\n",
      "\u001b[36mFile \u001b[39m\u001b[32md:\\Work\\LLM task\\ResumeMatcher\\.venv\\Lib\\site-packages\\langchain_milvus\\vectorstores\\milvus.py:1313\u001b[39m, in \u001b[36mMilvus.add_embeddings\u001b[39m\u001b[34m(self, texts, embeddings, metadatas, timeout, batch_size, ids, **kwargs)\u001b[39m\n\u001b[32m   1312\u001b[39m     \u001b[38;5;28;01mexcept\u001b[39;00m MilvusException \u001b[38;5;28;01mas\u001b[39;00m e:\n\u001b[32m-> \u001b[39m\u001b[32m1313\u001b[39m         \u001b[38;5;28;43mself\u001b[39;49m\u001b[43m.\u001b[49m\u001b[43m_handle_batch_operation_exception\u001b[49m\u001b[43m(\u001b[49m\n\u001b[32m   1314\u001b[39m \u001b[43m            \u001b[49m\u001b[43me\u001b[49m\u001b[43m,\u001b[49m\u001b[43m \u001b[49m\u001b[43mbatch_insert_list\u001b[49m\u001b[43m,\u001b[49m\u001b[43m \u001b[49m\u001b[43mi\u001b[49m\u001b[43m,\u001b[49m\u001b[43m \u001b[49m\u001b[43mtotal_count\u001b[49m\u001b[43m,\u001b[49m\u001b[43m \u001b[49m\u001b[33;43m\"\u001b[39;49m\u001b[33;43minsert\u001b[39;49m\u001b[33;43m\"\u001b[39;49m\n\u001b[32m   1315\u001b[39m \u001b[43m        \u001b[49m\u001b[43m)\u001b[49m\n\u001b[32m   1316\u001b[39m \u001b[38;5;28;01mreturn\u001b[39;00m pks\n",
      "\u001b[36mFile \u001b[39m\u001b[32md:\\Work\\LLM task\\ResumeMatcher\\.venv\\Lib\\site-packages\\langchain_milvus\\vectorstores\\milvus.py:1354\u001b[39m, in \u001b[36mMilvus._handle_batch_operation_exception\u001b[39m\u001b[34m(self, e, batch_list, batch_index, total_count, operation_name)\u001b[39m\n\u001b[32m   1347\u001b[39m logger.error(\n\u001b[32m   1348\u001b[39m     \u001b[33m\"\u001b[39m\u001b[33mFailed to \u001b[39m\u001b[38;5;132;01m%s\u001b[39;00m\u001b[33m batch starting at entity: \u001b[39m\u001b[38;5;132;01m%s\u001b[39;00m\u001b[33m/\u001b[39m\u001b[38;5;132;01m%s\u001b[39;00m\u001b[33m. \u001b[39m\u001b[33m\"\u001b[39m \u001b[33m\"\u001b[39m\u001b[33mFirst entity data: \u001b[39m\u001b[38;5;132;01m%s\u001b[39;00m\u001b[33m\"\u001b[39m,\n\u001b[32m   1349\u001b[39m     operation_name,\n\u001b[32m   (...)\u001b[39m\u001b[32m   1352\u001b[39m     log_entity,\n\u001b[32m   1353\u001b[39m )\n\u001b[32m-> \u001b[39m\u001b[32m1354\u001b[39m \u001b[38;5;28;01mraise\u001b[39;00m e\n",
      "\u001b[36mFile \u001b[39m\u001b[32md:\\Work\\LLM task\\ResumeMatcher\\.venv\\Lib\\site-packages\\langchain_milvus\\vectorstores\\milvus.py:1305\u001b[39m, in \u001b[36mMilvus.add_embeddings\u001b[39m\u001b[34m(self, texts, embeddings, metadatas, timeout, batch_size, ids, **kwargs)\u001b[39m\n\u001b[32m   1304\u001b[39m timeout = \u001b[38;5;28mself\u001b[39m.timeout \u001b[38;5;129;01mor\u001b[39;00m timeout\n\u001b[32m-> \u001b[39m\u001b[32m1305\u001b[39m res = \u001b[38;5;28;43mself\u001b[39;49m\u001b[43m.\u001b[49m\u001b[43mclient\u001b[49m\u001b[43m.\u001b[49m\u001b[43minsert\u001b[49m\u001b[43m(\u001b[49m\n\u001b[32m   1306\u001b[39m \u001b[43m    \u001b[49m\u001b[38;5;28;43mself\u001b[39;49m\u001b[43m.\u001b[49m\u001b[43mcollection_name\u001b[49m\u001b[43m,\u001b[49m\n\u001b[32m   1307\u001b[39m \u001b[43m    \u001b[49m\u001b[43mbatch_insert_list\u001b[49m\u001b[43m,\u001b[49m\n\u001b[32m   1308\u001b[39m \u001b[43m    \u001b[49m\u001b[43mtimeout\u001b[49m\u001b[43m=\u001b[49m\u001b[43mtimeout\u001b[49m\u001b[43m,\u001b[49m\n\u001b[32m   1309\u001b[39m \u001b[43m    \u001b[49m\u001b[43m*\u001b[49m\u001b[43m*\u001b[49m\u001b[43mkwargs\u001b[49m\u001b[43m,\u001b[49m\n\u001b[32m   1310\u001b[39m \u001b[43m\u001b[49m\u001b[43m)\u001b[49m\n\u001b[32m   1311\u001b[39m pks.extend(res[\u001b[33m\"\u001b[39m\u001b[33mids\u001b[39m\u001b[33m\"\u001b[39m])\n",
      "\u001b[36mFile \u001b[39m\u001b[32md:\\Work\\LLM task\\ResumeMatcher\\.venv\\Lib\\site-packages\\pymilvus\\milvus_client\\milvus_client.py:232\u001b[39m, in \u001b[36mMilvusClient.insert\u001b[39m\u001b[34m(self, collection_name, data, timeout, partition_name, **kwargs)\u001b[39m\n\u001b[32m    231\u001b[39m \u001b[38;5;28;01mexcept\u001b[39;00m \u001b[38;5;167;01mException\u001b[39;00m \u001b[38;5;28;01mas\u001b[39;00m ex:\n\u001b[32m--> \u001b[39m\u001b[32m232\u001b[39m     \u001b[38;5;28;01mraise\u001b[39;00m ex \u001b[38;5;28;01mfrom\u001b[39;00m\u001b[38;5;250m \u001b[39m\u001b[34;01mex\u001b[39;00m\n\u001b[32m    233\u001b[39m \u001b[38;5;28;01mreturn\u001b[39;00m OmitZeroDict(\n\u001b[32m    234\u001b[39m     {\n\u001b[32m    235\u001b[39m         \u001b[33m\"\u001b[39m\u001b[33minsert_count\u001b[39m\u001b[33m\"\u001b[39m: res.insert_count,\n\u001b[32m   (...)\u001b[39m\u001b[32m    238\u001b[39m     }\n\u001b[32m    239\u001b[39m )\n",
      "\u001b[36mFile \u001b[39m\u001b[32md:\\Work\\LLM task\\ResumeMatcher\\.venv\\Lib\\site-packages\\pymilvus\\milvus_client\\milvus_client.py:228\u001b[39m, in \u001b[36mMilvusClient.insert\u001b[39m\u001b[34m(self, collection_name, data, timeout, partition_name, **kwargs)\u001b[39m\n\u001b[32m    227\u001b[39m \u001b[38;5;28;01mtry\u001b[39;00m:\n\u001b[32m--> \u001b[39m\u001b[32m228\u001b[39m     res = \u001b[43mconn\u001b[49m\u001b[43m.\u001b[49m\u001b[43minsert_rows\u001b[49m\u001b[43m(\u001b[49m\n\u001b[32m    229\u001b[39m \u001b[43m        \u001b[49m\u001b[43mcollection_name\u001b[49m\u001b[43m,\u001b[49m\u001b[43m \u001b[49m\u001b[43mdata\u001b[49m\u001b[43m,\u001b[49m\u001b[43m \u001b[49m\u001b[43mpartition_name\u001b[49m\u001b[43m=\u001b[49m\u001b[43mpartition_name\u001b[49m\u001b[43m,\u001b[49m\u001b[43m \u001b[49m\u001b[43mtimeout\u001b[49m\u001b[43m=\u001b[49m\u001b[43mtimeout\u001b[49m\n\u001b[32m    230\u001b[39m \u001b[43m    \u001b[49m\u001b[43m)\u001b[49m\n\u001b[32m    231\u001b[39m \u001b[38;5;28;01mexcept\u001b[39;00m \u001b[38;5;167;01mException\u001b[39;00m \u001b[38;5;28;01mas\u001b[39;00m ex:\n",
      "\u001b[36mFile \u001b[39m\u001b[32md:\\Work\\LLM task\\ResumeMatcher\\.venv\\Lib\\site-packages\\pymilvus\\decorators.py:141\u001b[39m, in \u001b[36merror_handler.<locals>.wrapper.<locals>.handler\u001b[39m\u001b[34m(*args, **kwargs)\u001b[39m\n\u001b[32m    140\u001b[39m     LOGGER.error(\u001b[33mf\u001b[39m\u001b[33m\"\u001b[39m\u001b[33mRPC error: [\u001b[39m\u001b[38;5;132;01m{\u001b[39;00minner_name\u001b[38;5;132;01m}\u001b[39;00m\u001b[33m], \u001b[39m\u001b[38;5;132;01m{\u001b[39;00me\u001b[38;5;132;01m}\u001b[39;00m\u001b[33m, <Time:\u001b[39m\u001b[38;5;132;01m{\u001b[39;00mrecord_dict\u001b[38;5;132;01m}\u001b[39;00m\u001b[33m>\u001b[39m\u001b[33m\"\u001b[39m)\n\u001b[32m--> \u001b[39m\u001b[32m141\u001b[39m     \u001b[38;5;28;01mraise\u001b[39;00m e \u001b[38;5;28;01mfrom\u001b[39;00m\u001b[38;5;250m \u001b[39m\u001b[34;01me\u001b[39;00m\n\u001b[32m    142\u001b[39m \u001b[38;5;28;01mexcept\u001b[39;00m grpc.FutureTimeoutError \u001b[38;5;28;01mas\u001b[39;00m e:\n",
      "\u001b[36mFile \u001b[39m\u001b[32md:\\Work\\LLM task\\ResumeMatcher\\.venv\\Lib\\site-packages\\pymilvus\\decorators.py:137\u001b[39m, in \u001b[36merror_handler.<locals>.wrapper.<locals>.handler\u001b[39m\u001b[34m(*args, **kwargs)\u001b[39m\n\u001b[32m    136\u001b[39m     record_dict[\u001b[33m\"\u001b[39m\u001b[33mRPC start\u001b[39m\u001b[33m\"\u001b[39m] = \u001b[38;5;28mstr\u001b[39m(datetime.datetime.now())\n\u001b[32m--> \u001b[39m\u001b[32m137\u001b[39m     \u001b[38;5;28;01mreturn\u001b[39;00m \u001b[43mfunc\u001b[49m\u001b[43m(\u001b[49m\u001b[43m*\u001b[49m\u001b[43margs\u001b[49m\u001b[43m,\u001b[49m\u001b[43m \u001b[49m\u001b[43m*\u001b[49m\u001b[43m*\u001b[49m\u001b[43mkwargs\u001b[49m\u001b[43m)\u001b[49m\n\u001b[32m    138\u001b[39m \u001b[38;5;28;01mexcept\u001b[39;00m MilvusException \u001b[38;5;28;01mas\u001b[39;00m e:\n",
      "\u001b[36mFile \u001b[39m\u001b[32md:\\Work\\LLM task\\ResumeMatcher\\.venv\\Lib\\site-packages\\pymilvus\\decorators.py:173\u001b[39m, in \u001b[36mtracing_request.<locals>.wrapper.<locals>.handler\u001b[39m\u001b[34m(self, *args, **kwargs)\u001b[39m\n\u001b[32m    172\u001b[39m     \u001b[38;5;28mself\u001b[39m.set_onetime_loglevel(level)\n\u001b[32m--> \u001b[39m\u001b[32m173\u001b[39m \u001b[38;5;28;01mreturn\u001b[39;00m \u001b[43mfunc\u001b[49m\u001b[43m(\u001b[49m\u001b[38;5;28;43mself\u001b[39;49m\u001b[43m,\u001b[49m\u001b[43m \u001b[49m\u001b[43m*\u001b[49m\u001b[43margs\u001b[49m\u001b[43m,\u001b[49m\u001b[43m \u001b[49m\u001b[43m*\u001b[49m\u001b[43m*\u001b[49m\u001b[43mkwargs\u001b[49m\u001b[43m)\u001b[49m\n",
      "\u001b[36mFile \u001b[39m\u001b[32md:\\Work\\LLM task\\ResumeMatcher\\.venv\\Lib\\site-packages\\pymilvus\\decorators.py:116\u001b[39m, in \u001b[36mretry_on_rpc_failure.<locals>.wrapper.<locals>.handler\u001b[39m\u001b[34m(*args, **kwargs)\u001b[39m\n\u001b[32m    115\u001b[39m     \u001b[38;5;28;01melse\u001b[39;00m:\n\u001b[32m--> \u001b[39m\u001b[32m116\u001b[39m         \u001b[38;5;28;01mraise\u001b[39;00m e \u001b[38;5;28;01mfrom\u001b[39;00m\u001b[38;5;250m \u001b[39m\u001b[34;01me\u001b[39;00m\n\u001b[32m    117\u001b[39m \u001b[38;5;28;01mexcept\u001b[39;00m \u001b[38;5;167;01mException\u001b[39;00m \u001b[38;5;28;01mas\u001b[39;00m e:\n",
      "\u001b[36mFile \u001b[39m\u001b[32md:\\Work\\LLM task\\ResumeMatcher\\.venv\\Lib\\site-packages\\pymilvus\\decorators.py:86\u001b[39m, in \u001b[36mretry_on_rpc_failure.<locals>.wrapper.<locals>.handler\u001b[39m\u001b[34m(*args, **kwargs)\u001b[39m\n\u001b[32m     85\u001b[39m \u001b[38;5;28;01mtry\u001b[39;00m:\n\u001b[32m---> \u001b[39m\u001b[32m86\u001b[39m     \u001b[38;5;28;01mreturn\u001b[39;00m \u001b[43mfunc\u001b[49m\u001b[43m(\u001b[49m\u001b[43m*\u001b[49m\u001b[43margs\u001b[49m\u001b[43m,\u001b[49m\u001b[43m \u001b[49m\u001b[43m*\u001b[49m\u001b[43m*\u001b[49m\u001b[43mkwargs\u001b[49m\u001b[43m)\u001b[49m\n\u001b[32m     87\u001b[39m \u001b[38;5;28;01mexcept\u001b[39;00m grpc.RpcError \u001b[38;5;28;01mas\u001b[39;00m e:\n\u001b[32m     88\u001b[39m     \u001b[38;5;66;03m# Do not retry on these codes\u001b[39;00m\n",
      "\u001b[36mFile \u001b[39m\u001b[32md:\\Work\\LLM task\\ResumeMatcher\\.venv\\Lib\\site-packages\\pymilvus\\client\\grpc_handler.py:542\u001b[39m, in \u001b[36mGrpcHandler.insert_rows\u001b[39m\u001b[34m(self, collection_name, entities, partition_name, schema, timeout, **kwargs)\u001b[39m\n\u001b[32m    532\u001b[39m \u001b[38;5;129m@retry_on_rpc_failure\u001b[39m()\n\u001b[32m    533\u001b[39m \u001b[38;5;28;01mdef\u001b[39;00m\u001b[38;5;250m \u001b[39m\u001b[34minsert_rows\u001b[39m(\n\u001b[32m    534\u001b[39m     \u001b[38;5;28mself\u001b[39m,\n\u001b[32m   (...)\u001b[39m\u001b[32m    540\u001b[39m     **kwargs,\n\u001b[32m    541\u001b[39m ):\n\u001b[32m--> \u001b[39m\u001b[32m542\u001b[39m     request = \u001b[38;5;28;43mself\u001b[39;49m\u001b[43m.\u001b[49m\u001b[43m_prepare_row_insert_request\u001b[49m\u001b[43m(\u001b[49m\n\u001b[32m    543\u001b[39m \u001b[43m        \u001b[49m\u001b[43mcollection_name\u001b[49m\u001b[43m,\u001b[49m\u001b[43m \u001b[49m\u001b[43mentities\u001b[49m\u001b[43m,\u001b[49m\u001b[43m \u001b[49m\u001b[43mpartition_name\u001b[49m\u001b[43m,\u001b[49m\u001b[43m \u001b[49m\u001b[43mschema\u001b[49m\u001b[43m,\u001b[49m\u001b[43m \u001b[49m\u001b[43mtimeout\u001b[49m\u001b[43m,\u001b[49m\u001b[43m \u001b[49m\u001b[43m*\u001b[49m\u001b[43m*\u001b[49m\u001b[43mkwargs\u001b[49m\n\u001b[32m    544\u001b[39m \u001b[43m    \u001b[49m\u001b[43m)\u001b[49m\n\u001b[32m    545\u001b[39m     resp = \u001b[38;5;28mself\u001b[39m._stub.Insert(request=request, timeout=timeout, metadata=_api_level_md(**kwargs))\n",
      "\u001b[36mFile \u001b[39m\u001b[32md:\\Work\\LLM task\\ResumeMatcher\\.venv\\Lib\\site-packages\\pymilvus\\client\\grpc_handler.py:590\u001b[39m, in \u001b[36mGrpcHandler._prepare_row_insert_request\u001b[39m\u001b[34m(self, collection_name, entity_rows, partition_name, schema, timeout, **kwargs)\u001b[39m\n\u001b[32m    588\u001b[39m enable_dynamic = schema.get(\u001b[33m\"\u001b[39m\u001b[33menable_dynamic_field\u001b[39m\u001b[33m\"\u001b[39m, \u001b[38;5;28;01mFalse\u001b[39;00m)\n\u001b[32m--> \u001b[39m\u001b[32m590\u001b[39m \u001b[38;5;28;01mreturn\u001b[39;00m \u001b[43mPrepare\u001b[49m\u001b[43m.\u001b[49m\u001b[43mrow_insert_param\u001b[49m\u001b[43m(\u001b[49m\n\u001b[32m    591\u001b[39m \u001b[43m    \u001b[49m\u001b[43mcollection_name\u001b[49m\u001b[43m,\u001b[49m\n\u001b[32m    592\u001b[39m \u001b[43m    \u001b[49m\u001b[43mentity_rows\u001b[49m\u001b[43m,\u001b[49m\n\u001b[32m    593\u001b[39m \u001b[43m    \u001b[49m\u001b[43mpartition_name\u001b[49m\u001b[43m,\u001b[49m\n\u001b[32m    594\u001b[39m \u001b[43m    \u001b[49m\u001b[43mfields_info\u001b[49m\u001b[43m,\u001b[49m\n\u001b[32m    595\u001b[39m \u001b[43m    \u001b[49m\u001b[43menable_dynamic\u001b[49m\u001b[43m=\u001b[49m\u001b[43menable_dynamic\u001b[49m\u001b[43m,\u001b[49m\n\u001b[32m    596\u001b[39m \u001b[43m    \u001b[49m\u001b[43mschema_timestamp\u001b[49m\u001b[43m=\u001b[49m\u001b[43mschema_timestamp\u001b[49m\u001b[43m,\u001b[49m\n\u001b[32m    597\u001b[39m \u001b[43m\u001b[49m\u001b[43m)\u001b[49m\n",
      "\u001b[36mFile \u001b[39m\u001b[32md:\\Work\\LLM task\\ResumeMatcher\\.venv\\Lib\\site-packages\\pymilvus\\client\\prepare.py:626\u001b[39m, in \u001b[36mPrepare.row_insert_param\u001b[39m\u001b[34m(cls, collection_name, entities, partition_name, fields_info, schema_timestamp, enable_dynamic)\u001b[39m\n\u001b[32m    619\u001b[39m request = milvus_types.InsertRequest(\n\u001b[32m    620\u001b[39m     collection_name=collection_name,\n\u001b[32m    621\u001b[39m     partition_name=p_name,\n\u001b[32m    622\u001b[39m     num_rows=\u001b[38;5;28mlen\u001b[39m(entities),\n\u001b[32m    623\u001b[39m     schema_timestamp=schema_timestamp,\n\u001b[32m    624\u001b[39m )\n\u001b[32m--> \u001b[39m\u001b[32m626\u001b[39m \u001b[38;5;28;01mreturn\u001b[39;00m \u001b[38;5;28;43mcls\u001b[39;49m\u001b[43m.\u001b[49m\u001b[43m_parse_row_request\u001b[49m\u001b[43m(\u001b[49m\u001b[43mrequest\u001b[49m\u001b[43m,\u001b[49m\u001b[43m \u001b[49m\u001b[43mfields_info\u001b[49m\u001b[43m,\u001b[49m\u001b[43m \u001b[49m\u001b[43menable_dynamic\u001b[49m\u001b[43m,\u001b[49m\u001b[43m \u001b[49m\u001b[43mentities\u001b[49m\u001b[43m)\u001b[49m\n",
      "\u001b[36mFile \u001b[39m\u001b[32md:\\Work\\LLM task\\ResumeMatcher\\.venv\\Lib\\site-packages\\pymilvus\\client\\prepare.py:464\u001b[39m, in \u001b[36mPrepare._parse_row_request\u001b[39m\u001b[34m(request, fields_info, enable_dynamic, entities)\u001b[39m\n\u001b[32m    463\u001b[39m     \u001b[38;5;28;01mif\u001b[39;00m \u001b[38;5;129;01mnot\u001b[39;00m enable_dynamic:\n\u001b[32m--> \u001b[39m\u001b[32m464\u001b[39m         \u001b[38;5;28;01mraise\u001b[39;00m DataNotMatchException(\n\u001b[32m    465\u001b[39m             message=ExceptionsMessage.InsertUnexpectedField % k\n\u001b[32m    466\u001b[39m         )\n\u001b[32m    468\u001b[39m \u001b[38;5;28;01mif\u001b[39;00m k \u001b[38;5;129;01min\u001b[39;00m fields_data:\n",
      "\u001b[31mDataNotMatchException\u001b[39m: <DataNotMatchException: (code=1, message=Attempt to insert an unexpected field `text` to collection without enabling dynamic field)>",
      "\nThe above exception was the direct cause of the following exception:\n",
      "\u001b[31mDataNotMatchException\u001b[39m                     Traceback (most recent call last)",
      "    \u001b[31m[... skipping hidden 1 frame]\u001b[39m\n",
      "\u001b[36mCell\u001b[39m\u001b[36m \u001b[39m\u001b[32mIn[41]\u001b[39m\u001b[32m, line 24\u001b[39m\n\u001b[32m     23\u001b[39m \u001b[38;5;66;03m# Index chunks\u001b[39;00m\n\u001b[32m---> \u001b[39m\u001b[32m24\u001b[39m _ = \u001b[43mvector_store\u001b[49m\u001b[43m.\u001b[49m\u001b[43madd_documents\u001b[49m\u001b[43m(\u001b[49m\u001b[43mdocuments\u001b[49m\u001b[43m=\u001b[49m\u001b[43mall_splits\u001b[49m\u001b[43m)\u001b[49m\n\u001b[32m     27\u001b[39m \u001b[38;5;66;03m# Define prompt for question-answering\u001b[39;00m\n\u001b[32m     28\u001b[39m \u001b[38;5;66;03m# N.B. for non-US LangSmith endpoints, you may need to specify\u001b[39;00m\n\u001b[32m     29\u001b[39m \u001b[38;5;66;03m# api_url=\"https://api.smith.langchain.com\" in hub.pull.\u001b[39;00m\n",
      "\u001b[36mFile \u001b[39m\u001b[32md:\\Work\\LLM task\\ResumeMatcher\\.venv\\Lib\\site-packages\\langchain_milvus\\vectorstores\\milvus.py:2041\u001b[39m, in \u001b[36mMilvus.add_documents\u001b[39m\u001b[34m(self, documents, **kwargs)\u001b[39m\n\u001b[32m   2040\u001b[39m metadatas = [doc.metadata \u001b[38;5;28;01mfor\u001b[39;00m doc \u001b[38;5;129;01min\u001b[39;00m documents]\n\u001b[32m-> \u001b[39m\u001b[32m2041\u001b[39m \u001b[38;5;28;01mreturn\u001b[39;00m \u001b[38;5;28;43mself\u001b[39;49m\u001b[43m.\u001b[49m\u001b[43madd_texts\u001b[49m\u001b[43m(\u001b[49m\u001b[43mtexts\u001b[49m\u001b[43m,\u001b[49m\u001b[43m \u001b[49m\u001b[43mmetadatas\u001b[49m\u001b[43m,\u001b[49m\u001b[43m \u001b[49m\u001b[43m*\u001b[49m\u001b[43m*\u001b[49m\u001b[43mkwargs\u001b[49m\u001b[43m)\u001b[49m\n",
      "\u001b[36mFile \u001b[39m\u001b[32md:\\Work\\LLM task\\ResumeMatcher\\.venv\\Lib\\site-packages\\langchain_milvus\\vectorstores\\milvus.py:1204\u001b[39m, in \u001b[36mMilvus.add_texts\u001b[39m\u001b[34m(self, texts, metadatas, timeout, batch_size, ids, **kwargs)\u001b[39m\n\u001b[32m   1202\u001b[39m     transposed_embeddings = embeddings[\u001b[32m0\u001b[39m] \u001b[38;5;28;01mif\u001b[39;00m \u001b[38;5;28mlen\u001b[39m(embeddings) > \u001b[32m0\u001b[39m \u001b[38;5;28;01melse\u001b[39;00m []\n\u001b[32m-> \u001b[39m\u001b[32m1204\u001b[39m \u001b[38;5;28;01mreturn\u001b[39;00m \u001b[38;5;28;43mself\u001b[39;49m\u001b[43m.\u001b[49m\u001b[43madd_embeddings\u001b[49m\u001b[43m(\u001b[49m\n\u001b[32m   1205\u001b[39m \u001b[43m    \u001b[49m\u001b[43mtexts\u001b[49m\u001b[43m=\u001b[49m\u001b[43mtexts\u001b[49m\u001b[43m,\u001b[49m\n\u001b[32m   1206\u001b[39m \u001b[43m    \u001b[49m\u001b[43membeddings\u001b[49m\u001b[43m=\u001b[49m\u001b[43mtransposed_embeddings\u001b[49m\u001b[43m,\u001b[49m\n\u001b[32m   1207\u001b[39m \u001b[43m    \u001b[49m\u001b[43mmetadatas\u001b[49m\u001b[43m=\u001b[49m\u001b[43mmetadatas\u001b[49m\u001b[43m,\u001b[49m\n\u001b[32m   1208\u001b[39m \u001b[43m    \u001b[49m\u001b[43mtimeout\u001b[49m\u001b[43m=\u001b[49m\u001b[43mtimeout\u001b[49m\u001b[43m,\u001b[49m\n\u001b[32m   1209\u001b[39m \u001b[43m    \u001b[49m\u001b[43mbatch_size\u001b[49m\u001b[43m=\u001b[49m\u001b[43mbatch_size\u001b[49m\u001b[43m,\u001b[49m\n\u001b[32m   1210\u001b[39m \u001b[43m    \u001b[49m\u001b[43mids\u001b[49m\u001b[43m=\u001b[49m\u001b[43mids\u001b[49m\u001b[43m,\u001b[49m\n\u001b[32m   1211\u001b[39m \u001b[43m    \u001b[49m\u001b[43m*\u001b[49m\u001b[43m*\u001b[49m\u001b[43mkwargs\u001b[49m\u001b[43m,\u001b[49m\n\u001b[32m   1212\u001b[39m \u001b[43m\u001b[49m\u001b[43m)\u001b[49m\n",
      "\u001b[36mFile \u001b[39m\u001b[32md:\\Work\\LLM task\\ResumeMatcher\\.venv\\Lib\\site-packages\\langchain_milvus\\vectorstores\\milvus.py:1313\u001b[39m, in \u001b[36mMilvus.add_embeddings\u001b[39m\u001b[34m(self, texts, embeddings, metadatas, timeout, batch_size, ids, **kwargs)\u001b[39m\n\u001b[32m   1312\u001b[39m     \u001b[38;5;28;01mexcept\u001b[39;00m MilvusException \u001b[38;5;28;01mas\u001b[39;00m e:\n\u001b[32m-> \u001b[39m\u001b[32m1313\u001b[39m         \u001b[38;5;28;43mself\u001b[39;49m\u001b[43m.\u001b[49m\u001b[43m_handle_batch_operation_exception\u001b[49m\u001b[43m(\u001b[49m\n\u001b[32m   1314\u001b[39m \u001b[43m            \u001b[49m\u001b[43me\u001b[49m\u001b[43m,\u001b[49m\u001b[43m \u001b[49m\u001b[43mbatch_insert_list\u001b[49m\u001b[43m,\u001b[49m\u001b[43m \u001b[49m\u001b[43mi\u001b[49m\u001b[43m,\u001b[49m\u001b[43m \u001b[49m\u001b[43mtotal_count\u001b[49m\u001b[43m,\u001b[49m\u001b[43m \u001b[49m\u001b[33;43m\"\u001b[39;49m\u001b[33;43minsert\u001b[39;49m\u001b[33;43m\"\u001b[39;49m\n\u001b[32m   1315\u001b[39m \u001b[43m        \u001b[49m\u001b[43m)\u001b[49m\n\u001b[32m   1316\u001b[39m \u001b[38;5;28;01mreturn\u001b[39;00m pks\n",
      "\u001b[36mFile \u001b[39m\u001b[32md:\\Work\\LLM task\\ResumeMatcher\\.venv\\Lib\\site-packages\\langchain_milvus\\vectorstores\\milvus.py:1354\u001b[39m, in \u001b[36mMilvus._handle_batch_operation_exception\u001b[39m\u001b[34m(self, e, batch_list, batch_index, total_count, operation_name)\u001b[39m\n\u001b[32m   1347\u001b[39m logger.error(\n\u001b[32m   1348\u001b[39m     \u001b[33m\"\u001b[39m\u001b[33mFailed to \u001b[39m\u001b[38;5;132;01m%s\u001b[39;00m\u001b[33m batch starting at entity: \u001b[39m\u001b[38;5;132;01m%s\u001b[39;00m\u001b[33m/\u001b[39m\u001b[38;5;132;01m%s\u001b[39;00m\u001b[33m. \u001b[39m\u001b[33m\"\u001b[39m \u001b[33m\"\u001b[39m\u001b[33mFirst entity data: \u001b[39m\u001b[38;5;132;01m%s\u001b[39;00m\u001b[33m\"\u001b[39m,\n\u001b[32m   1349\u001b[39m     operation_name,\n\u001b[32m   (...)\u001b[39m\u001b[32m   1352\u001b[39m     log_entity,\n\u001b[32m   1353\u001b[39m )\n\u001b[32m-> \u001b[39m\u001b[32m1354\u001b[39m \u001b[38;5;28;01mraise\u001b[39;00m e\n",
      "\u001b[36mFile \u001b[39m\u001b[32md:\\Work\\LLM task\\ResumeMatcher\\.venv\\Lib\\site-packages\\langchain_milvus\\vectorstores\\milvus.py:1305\u001b[39m, in \u001b[36mMilvus.add_embeddings\u001b[39m\u001b[34m(self, texts, embeddings, metadatas, timeout, batch_size, ids, **kwargs)\u001b[39m\n\u001b[32m   1304\u001b[39m timeout = \u001b[38;5;28mself\u001b[39m.timeout \u001b[38;5;129;01mor\u001b[39;00m timeout\n\u001b[32m-> \u001b[39m\u001b[32m1305\u001b[39m res = \u001b[38;5;28;43mself\u001b[39;49m\u001b[43m.\u001b[49m\u001b[43mclient\u001b[49m\u001b[43m.\u001b[49m\u001b[43minsert\u001b[49m\u001b[43m(\u001b[49m\n\u001b[32m   1306\u001b[39m \u001b[43m    \u001b[49m\u001b[38;5;28;43mself\u001b[39;49m\u001b[43m.\u001b[49m\u001b[43mcollection_name\u001b[49m\u001b[43m,\u001b[49m\n\u001b[32m   1307\u001b[39m \u001b[43m    \u001b[49m\u001b[43mbatch_insert_list\u001b[49m\u001b[43m,\u001b[49m\n\u001b[32m   1308\u001b[39m \u001b[43m    \u001b[49m\u001b[43mtimeout\u001b[49m\u001b[43m=\u001b[49m\u001b[43mtimeout\u001b[49m\u001b[43m,\u001b[49m\n\u001b[32m   1309\u001b[39m \u001b[43m    \u001b[49m\u001b[43m*\u001b[49m\u001b[43m*\u001b[49m\u001b[43mkwargs\u001b[49m\u001b[43m,\u001b[49m\n\u001b[32m   1310\u001b[39m \u001b[43m\u001b[49m\u001b[43m)\u001b[49m\n\u001b[32m   1311\u001b[39m pks.extend(res[\u001b[33m\"\u001b[39m\u001b[33mids\u001b[39m\u001b[33m\"\u001b[39m])\n",
      "\u001b[36mFile \u001b[39m\u001b[32md:\\Work\\LLM task\\ResumeMatcher\\.venv\\Lib\\site-packages\\pymilvus\\milvus_client\\milvus_client.py:232\u001b[39m, in \u001b[36mMilvusClient.insert\u001b[39m\u001b[34m(self, collection_name, data, timeout, partition_name, **kwargs)\u001b[39m\n\u001b[32m    231\u001b[39m \u001b[38;5;28;01mexcept\u001b[39;00m \u001b[38;5;167;01mException\u001b[39;00m \u001b[38;5;28;01mas\u001b[39;00m ex:\n\u001b[32m--> \u001b[39m\u001b[32m232\u001b[39m     \u001b[38;5;28;01mraise\u001b[39;00m ex \u001b[38;5;28;01mfrom\u001b[39;00m\u001b[38;5;250m \u001b[39m\u001b[34;01mex\u001b[39;00m\n\u001b[32m    233\u001b[39m \u001b[38;5;28;01mreturn\u001b[39;00m OmitZeroDict(\n\u001b[32m    234\u001b[39m     {\n\u001b[32m    235\u001b[39m         \u001b[33m\"\u001b[39m\u001b[33minsert_count\u001b[39m\u001b[33m\"\u001b[39m: res.insert_count,\n\u001b[32m   (...)\u001b[39m\u001b[32m    238\u001b[39m     }\n\u001b[32m    239\u001b[39m )\n",
      "\u001b[36mFile \u001b[39m\u001b[32md:\\Work\\LLM task\\ResumeMatcher\\.venv\\Lib\\site-packages\\pymilvus\\milvus_client\\milvus_client.py:228\u001b[39m, in \u001b[36mMilvusClient.insert\u001b[39m\u001b[34m(self, collection_name, data, timeout, partition_name, **kwargs)\u001b[39m\n\u001b[32m    227\u001b[39m \u001b[38;5;28;01mtry\u001b[39;00m:\n\u001b[32m--> \u001b[39m\u001b[32m228\u001b[39m     res = \u001b[43mconn\u001b[49m\u001b[43m.\u001b[49m\u001b[43minsert_rows\u001b[49m\u001b[43m(\u001b[49m\n\u001b[32m    229\u001b[39m \u001b[43m        \u001b[49m\u001b[43mcollection_name\u001b[49m\u001b[43m,\u001b[49m\u001b[43m \u001b[49m\u001b[43mdata\u001b[49m\u001b[43m,\u001b[49m\u001b[43m \u001b[49m\u001b[43mpartition_name\u001b[49m\u001b[43m=\u001b[49m\u001b[43mpartition_name\u001b[49m\u001b[43m,\u001b[49m\u001b[43m \u001b[49m\u001b[43mtimeout\u001b[49m\u001b[43m=\u001b[49m\u001b[43mtimeout\u001b[49m\n\u001b[32m    230\u001b[39m \u001b[43m    \u001b[49m\u001b[43m)\u001b[49m\n\u001b[32m    231\u001b[39m \u001b[38;5;28;01mexcept\u001b[39;00m \u001b[38;5;167;01mException\u001b[39;00m \u001b[38;5;28;01mas\u001b[39;00m ex:\n",
      "\u001b[36mFile \u001b[39m\u001b[32md:\\Work\\LLM task\\ResumeMatcher\\.venv\\Lib\\site-packages\\pymilvus\\decorators.py:141\u001b[39m, in \u001b[36merror_handler.<locals>.wrapper.<locals>.handler\u001b[39m\u001b[34m(*args, **kwargs)\u001b[39m\n\u001b[32m    140\u001b[39m     LOGGER.error(\u001b[33mf\u001b[39m\u001b[33m\"\u001b[39m\u001b[33mRPC error: [\u001b[39m\u001b[38;5;132;01m{\u001b[39;00minner_name\u001b[38;5;132;01m}\u001b[39;00m\u001b[33m], \u001b[39m\u001b[38;5;132;01m{\u001b[39;00me\u001b[38;5;132;01m}\u001b[39;00m\u001b[33m, <Time:\u001b[39m\u001b[38;5;132;01m{\u001b[39;00mrecord_dict\u001b[38;5;132;01m}\u001b[39;00m\u001b[33m>\u001b[39m\u001b[33m\"\u001b[39m)\n\u001b[32m--> \u001b[39m\u001b[32m141\u001b[39m     \u001b[38;5;28;01mraise\u001b[39;00m e \u001b[38;5;28;01mfrom\u001b[39;00m\u001b[38;5;250m \u001b[39m\u001b[34;01me\u001b[39;00m\n\u001b[32m    142\u001b[39m \u001b[38;5;28;01mexcept\u001b[39;00m grpc.FutureTimeoutError \u001b[38;5;28;01mas\u001b[39;00m e:\n",
      "\u001b[36mFile \u001b[39m\u001b[32md:\\Work\\LLM task\\ResumeMatcher\\.venv\\Lib\\site-packages\\pymilvus\\decorators.py:137\u001b[39m, in \u001b[36merror_handler.<locals>.wrapper.<locals>.handler\u001b[39m\u001b[34m(*args, **kwargs)\u001b[39m\n\u001b[32m    136\u001b[39m     record_dict[\u001b[33m\"\u001b[39m\u001b[33mRPC start\u001b[39m\u001b[33m\"\u001b[39m] = \u001b[38;5;28mstr\u001b[39m(datetime.datetime.now())\n\u001b[32m--> \u001b[39m\u001b[32m137\u001b[39m     \u001b[38;5;28;01mreturn\u001b[39;00m \u001b[43mfunc\u001b[49m\u001b[43m(\u001b[49m\u001b[43m*\u001b[49m\u001b[43margs\u001b[49m\u001b[43m,\u001b[49m\u001b[43m \u001b[49m\u001b[43m*\u001b[49m\u001b[43m*\u001b[49m\u001b[43mkwargs\u001b[49m\u001b[43m)\u001b[49m\n\u001b[32m    138\u001b[39m \u001b[38;5;28;01mexcept\u001b[39;00m MilvusException \u001b[38;5;28;01mas\u001b[39;00m e:\n",
      "\u001b[36mFile \u001b[39m\u001b[32md:\\Work\\LLM task\\ResumeMatcher\\.venv\\Lib\\site-packages\\pymilvus\\decorators.py:173\u001b[39m, in \u001b[36mtracing_request.<locals>.wrapper.<locals>.handler\u001b[39m\u001b[34m(self, *args, **kwargs)\u001b[39m\n\u001b[32m    172\u001b[39m     \u001b[38;5;28mself\u001b[39m.set_onetime_loglevel(level)\n\u001b[32m--> \u001b[39m\u001b[32m173\u001b[39m \u001b[38;5;28;01mreturn\u001b[39;00m \u001b[43mfunc\u001b[49m\u001b[43m(\u001b[49m\u001b[38;5;28;43mself\u001b[39;49m\u001b[43m,\u001b[49m\u001b[43m \u001b[49m\u001b[43m*\u001b[49m\u001b[43margs\u001b[49m\u001b[43m,\u001b[49m\u001b[43m \u001b[49m\u001b[43m*\u001b[49m\u001b[43m*\u001b[49m\u001b[43mkwargs\u001b[49m\u001b[43m)\u001b[49m\n",
      "\u001b[36mFile \u001b[39m\u001b[32md:\\Work\\LLM task\\ResumeMatcher\\.venv\\Lib\\site-packages\\pymilvus\\decorators.py:116\u001b[39m, in \u001b[36mretry_on_rpc_failure.<locals>.wrapper.<locals>.handler\u001b[39m\u001b[34m(*args, **kwargs)\u001b[39m\n\u001b[32m    115\u001b[39m     \u001b[38;5;28;01melse\u001b[39;00m:\n\u001b[32m--> \u001b[39m\u001b[32m116\u001b[39m         \u001b[38;5;28;01mraise\u001b[39;00m e \u001b[38;5;28;01mfrom\u001b[39;00m\u001b[38;5;250m \u001b[39m\u001b[34;01me\u001b[39;00m\n\u001b[32m    117\u001b[39m \u001b[38;5;28;01mexcept\u001b[39;00m \u001b[38;5;167;01mException\u001b[39;00m \u001b[38;5;28;01mas\u001b[39;00m e:\n",
      "\u001b[36mFile \u001b[39m\u001b[32md:\\Work\\LLM task\\ResumeMatcher\\.venv\\Lib\\site-packages\\pymilvus\\decorators.py:86\u001b[39m, in \u001b[36mretry_on_rpc_failure.<locals>.wrapper.<locals>.handler\u001b[39m\u001b[34m(*args, **kwargs)\u001b[39m\n\u001b[32m     85\u001b[39m \u001b[38;5;28;01mtry\u001b[39;00m:\n\u001b[32m---> \u001b[39m\u001b[32m86\u001b[39m     \u001b[38;5;28;01mreturn\u001b[39;00m \u001b[43mfunc\u001b[49m\u001b[43m(\u001b[49m\u001b[43m*\u001b[49m\u001b[43margs\u001b[49m\u001b[43m,\u001b[49m\u001b[43m \u001b[49m\u001b[43m*\u001b[49m\u001b[43m*\u001b[49m\u001b[43mkwargs\u001b[49m\u001b[43m)\u001b[49m\n\u001b[32m     87\u001b[39m \u001b[38;5;28;01mexcept\u001b[39;00m grpc.RpcError \u001b[38;5;28;01mas\u001b[39;00m e:\n\u001b[32m     88\u001b[39m     \u001b[38;5;66;03m# Do not retry on these codes\u001b[39;00m\n",
      "\u001b[36mFile \u001b[39m\u001b[32md:\\Work\\LLM task\\ResumeMatcher\\.venv\\Lib\\site-packages\\pymilvus\\client\\grpc_handler.py:542\u001b[39m, in \u001b[36mGrpcHandler.insert_rows\u001b[39m\u001b[34m(self, collection_name, entities, partition_name, schema, timeout, **kwargs)\u001b[39m\n\u001b[32m    532\u001b[39m \u001b[38;5;129m@retry_on_rpc_failure\u001b[39m()\n\u001b[32m    533\u001b[39m \u001b[38;5;28;01mdef\u001b[39;00m\u001b[38;5;250m \u001b[39m\u001b[34minsert_rows\u001b[39m(\n\u001b[32m    534\u001b[39m     \u001b[38;5;28mself\u001b[39m,\n\u001b[32m   (...)\u001b[39m\u001b[32m    540\u001b[39m     **kwargs,\n\u001b[32m    541\u001b[39m ):\n\u001b[32m--> \u001b[39m\u001b[32m542\u001b[39m     request = \u001b[38;5;28;43mself\u001b[39;49m\u001b[43m.\u001b[49m\u001b[43m_prepare_row_insert_request\u001b[49m\u001b[43m(\u001b[49m\n\u001b[32m    543\u001b[39m \u001b[43m        \u001b[49m\u001b[43mcollection_name\u001b[49m\u001b[43m,\u001b[49m\u001b[43m \u001b[49m\u001b[43mentities\u001b[49m\u001b[43m,\u001b[49m\u001b[43m \u001b[49m\u001b[43mpartition_name\u001b[49m\u001b[43m,\u001b[49m\u001b[43m \u001b[49m\u001b[43mschema\u001b[49m\u001b[43m,\u001b[49m\u001b[43m \u001b[49m\u001b[43mtimeout\u001b[49m\u001b[43m,\u001b[49m\u001b[43m \u001b[49m\u001b[43m*\u001b[49m\u001b[43m*\u001b[49m\u001b[43mkwargs\u001b[49m\n\u001b[32m    544\u001b[39m \u001b[43m    \u001b[49m\u001b[43m)\u001b[49m\n\u001b[32m    545\u001b[39m     resp = \u001b[38;5;28mself\u001b[39m._stub.Insert(request=request, timeout=timeout, metadata=_api_level_md(**kwargs))\n",
      "\u001b[36mFile \u001b[39m\u001b[32md:\\Work\\LLM task\\ResumeMatcher\\.venv\\Lib\\site-packages\\pymilvus\\client\\grpc_handler.py:590\u001b[39m, in \u001b[36mGrpcHandler._prepare_row_insert_request\u001b[39m\u001b[34m(self, collection_name, entity_rows, partition_name, schema, timeout, **kwargs)\u001b[39m\n\u001b[32m    588\u001b[39m enable_dynamic = schema.get(\u001b[33m\"\u001b[39m\u001b[33menable_dynamic_field\u001b[39m\u001b[33m\"\u001b[39m, \u001b[38;5;28;01mFalse\u001b[39;00m)\n\u001b[32m--> \u001b[39m\u001b[32m590\u001b[39m \u001b[38;5;28;01mreturn\u001b[39;00m \u001b[43mPrepare\u001b[49m\u001b[43m.\u001b[49m\u001b[43mrow_insert_param\u001b[49m\u001b[43m(\u001b[49m\n\u001b[32m    591\u001b[39m \u001b[43m    \u001b[49m\u001b[43mcollection_name\u001b[49m\u001b[43m,\u001b[49m\n\u001b[32m    592\u001b[39m \u001b[43m    \u001b[49m\u001b[43mentity_rows\u001b[49m\u001b[43m,\u001b[49m\n\u001b[32m    593\u001b[39m \u001b[43m    \u001b[49m\u001b[43mpartition_name\u001b[49m\u001b[43m,\u001b[49m\n\u001b[32m    594\u001b[39m \u001b[43m    \u001b[49m\u001b[43mfields_info\u001b[49m\u001b[43m,\u001b[49m\n\u001b[32m    595\u001b[39m \u001b[43m    \u001b[49m\u001b[43menable_dynamic\u001b[49m\u001b[43m=\u001b[49m\u001b[43menable_dynamic\u001b[49m\u001b[43m,\u001b[49m\n\u001b[32m    596\u001b[39m \u001b[43m    \u001b[49m\u001b[43mschema_timestamp\u001b[49m\u001b[43m=\u001b[49m\u001b[43mschema_timestamp\u001b[49m\u001b[43m,\u001b[49m\n\u001b[32m    597\u001b[39m \u001b[43m\u001b[49m\u001b[43m)\u001b[49m\n",
      "\u001b[36mFile \u001b[39m\u001b[32md:\\Work\\LLM task\\ResumeMatcher\\.venv\\Lib\\site-packages\\pymilvus\\client\\prepare.py:626\u001b[39m, in \u001b[36mPrepare.row_insert_param\u001b[39m\u001b[34m(cls, collection_name, entities, partition_name, fields_info, schema_timestamp, enable_dynamic)\u001b[39m\n\u001b[32m    619\u001b[39m request = milvus_types.InsertRequest(\n\u001b[32m    620\u001b[39m     collection_name=collection_name,\n\u001b[32m    621\u001b[39m     partition_name=p_name,\n\u001b[32m    622\u001b[39m     num_rows=\u001b[38;5;28mlen\u001b[39m(entities),\n\u001b[32m    623\u001b[39m     schema_timestamp=schema_timestamp,\n\u001b[32m    624\u001b[39m )\n\u001b[32m--> \u001b[39m\u001b[32m626\u001b[39m \u001b[38;5;28;01mreturn\u001b[39;00m \u001b[38;5;28;43mcls\u001b[39;49m\u001b[43m.\u001b[49m\u001b[43m_parse_row_request\u001b[49m\u001b[43m(\u001b[49m\u001b[43mrequest\u001b[49m\u001b[43m,\u001b[49m\u001b[43m \u001b[49m\u001b[43mfields_info\u001b[49m\u001b[43m,\u001b[49m\u001b[43m \u001b[49m\u001b[43menable_dynamic\u001b[49m\u001b[43m,\u001b[49m\u001b[43m \u001b[49m\u001b[43mentities\u001b[49m\u001b[43m)\u001b[49m\n",
      "\u001b[36mFile \u001b[39m\u001b[32md:\\Work\\LLM task\\ResumeMatcher\\.venv\\Lib\\site-packages\\pymilvus\\client\\prepare.py:464\u001b[39m, in \u001b[36mPrepare._parse_row_request\u001b[39m\u001b[34m(request, fields_info, enable_dynamic, entities)\u001b[39m\n\u001b[32m    463\u001b[39m     \u001b[38;5;28;01mif\u001b[39;00m \u001b[38;5;129;01mnot\u001b[39;00m enable_dynamic:\n\u001b[32m--> \u001b[39m\u001b[32m464\u001b[39m         \u001b[38;5;28;01mraise\u001b[39;00m DataNotMatchException(\n\u001b[32m    465\u001b[39m             message=ExceptionsMessage.InsertUnexpectedField % k\n\u001b[32m    466\u001b[39m         )\n\u001b[32m    468\u001b[39m \u001b[38;5;28;01mif\u001b[39;00m k \u001b[38;5;129;01min\u001b[39;00m fields_data:\n",
      "\u001b[31mDataNotMatchException\u001b[39m: <DataNotMatchException: (code=1, message=Attempt to insert an unexpected field `text` to collection without enabling dynamic field)>",
      "\nThe above exception was the direct cause of the following exception:\n",
      "\u001b[31mDataNotMatchException\u001b[39m                     Traceback (most recent call last)",
      "\u001b[36mCell\u001b[39m\u001b[36m \u001b[39m\u001b[32mIn[41]\u001b[39m\u001b[32m, line 24\u001b[39m\n\u001b[32m     21\u001b[39m     doc.metadata = clean_metadata(doc.metadata)\n\u001b[32m     23\u001b[39m \u001b[38;5;66;03m# Index chunks\u001b[39;00m\n\u001b[32m---> \u001b[39m\u001b[32m24\u001b[39m _ = \u001b[43mvector_store\u001b[49m\u001b[43m.\u001b[49m\u001b[43madd_documents\u001b[49m\u001b[43m(\u001b[49m\u001b[43mdocuments\u001b[49m\u001b[43m=\u001b[49m\u001b[43mall_splits\u001b[49m\u001b[43m)\u001b[49m\n\u001b[32m     27\u001b[39m \u001b[38;5;66;03m# Define prompt for question-answering\u001b[39;00m\n\u001b[32m     28\u001b[39m \u001b[38;5;66;03m# N.B. for non-US LangSmith endpoints, you may need to specify\u001b[39;00m\n\u001b[32m     29\u001b[39m \u001b[38;5;66;03m# api_url=\"https://api.smith.langchain.com\" in hub.pull.\u001b[39;00m\n\u001b[32m     30\u001b[39m prompt = hub.pull(\u001b[33m\"\u001b[39m\u001b[33mrlm/rag-prompt\u001b[39m\u001b[33m\"\u001b[39m)\n",
      "\u001b[36mFile \u001b[39m\u001b[32md:\\Work\\LLM task\\ResumeMatcher\\.venv\\Lib\\site-packages\\langchain_milvus\\vectorstores\\milvus.py:2041\u001b[39m, in \u001b[36mMilvus.add_documents\u001b[39m\u001b[34m(self, documents, **kwargs)\u001b[39m\n\u001b[32m   2039\u001b[39m texts = [doc.page_content \u001b[38;5;28;01mfor\u001b[39;00m doc \u001b[38;5;129;01min\u001b[39;00m documents]\n\u001b[32m   2040\u001b[39m metadatas = [doc.metadata \u001b[38;5;28;01mfor\u001b[39;00m doc \u001b[38;5;129;01min\u001b[39;00m documents]\n\u001b[32m-> \u001b[39m\u001b[32m2041\u001b[39m \u001b[38;5;28;01mreturn\u001b[39;00m \u001b[38;5;28;43mself\u001b[39;49m\u001b[43m.\u001b[49m\u001b[43madd_texts\u001b[49m\u001b[43m(\u001b[49m\u001b[43mtexts\u001b[49m\u001b[43m,\u001b[49m\u001b[43m \u001b[49m\u001b[43mmetadatas\u001b[49m\u001b[43m,\u001b[49m\u001b[43m \u001b[49m\u001b[43m*\u001b[49m\u001b[43m*\u001b[49m\u001b[43mkwargs\u001b[49m\u001b[43m)\u001b[49m\n",
      "\u001b[36mFile \u001b[39m\u001b[32md:\\Work\\LLM task\\ResumeMatcher\\.venv\\Lib\\site-packages\\langchain_milvus\\vectorstores\\milvus.py:1204\u001b[39m, in \u001b[36mMilvus.add_texts\u001b[39m\u001b[34m(self, texts, metadatas, timeout, batch_size, ids, **kwargs)\u001b[39m\n\u001b[32m   1196\u001b[39m \u001b[38;5;28;01melse\u001b[39;00m:\n\u001b[32m   1197\u001b[39m     \u001b[38;5;66;03m# transposed_embeddings = [\u001b[39;00m\n\u001b[32m   1198\u001b[39m     \u001b[38;5;66;03m#     f1(a),\u001b[39;00m\n\u001b[32m   1199\u001b[39m     \u001b[38;5;66;03m#     f1(b),\u001b[39;00m\n\u001b[32m   1200\u001b[39m     \u001b[38;5;66;03m#     f1(c)\u001b[39;00m\n\u001b[32m   1201\u001b[39m     \u001b[38;5;66;03m# ]\u001b[39;00m\n\u001b[32m   1202\u001b[39m     transposed_embeddings = embeddings[\u001b[32m0\u001b[39m] \u001b[38;5;28;01mif\u001b[39;00m \u001b[38;5;28mlen\u001b[39m(embeddings) > \u001b[32m0\u001b[39m \u001b[38;5;28;01melse\u001b[39;00m []\n\u001b[32m-> \u001b[39m\u001b[32m1204\u001b[39m \u001b[38;5;28;01mreturn\u001b[39;00m \u001b[38;5;28;43mself\u001b[39;49m\u001b[43m.\u001b[49m\u001b[43madd_embeddings\u001b[49m\u001b[43m(\u001b[49m\n\u001b[32m   1205\u001b[39m \u001b[43m    \u001b[49m\u001b[43mtexts\u001b[49m\u001b[43m=\u001b[49m\u001b[43mtexts\u001b[49m\u001b[43m,\u001b[49m\n\u001b[32m   1206\u001b[39m \u001b[43m    \u001b[49m\u001b[43membeddings\u001b[49m\u001b[43m=\u001b[49m\u001b[43mtransposed_embeddings\u001b[49m\u001b[43m,\u001b[49m\n\u001b[32m   1207\u001b[39m \u001b[43m    \u001b[49m\u001b[43mmetadatas\u001b[49m\u001b[43m=\u001b[49m\u001b[43mmetadatas\u001b[49m\u001b[43m,\u001b[49m\n\u001b[32m   1208\u001b[39m \u001b[43m    \u001b[49m\u001b[43mtimeout\u001b[49m\u001b[43m=\u001b[49m\u001b[43mtimeout\u001b[49m\u001b[43m,\u001b[49m\n\u001b[32m   1209\u001b[39m \u001b[43m    \u001b[49m\u001b[43mbatch_size\u001b[49m\u001b[43m=\u001b[49m\u001b[43mbatch_size\u001b[49m\u001b[43m,\u001b[49m\n\u001b[32m   1210\u001b[39m \u001b[43m    \u001b[49m\u001b[43mids\u001b[49m\u001b[43m=\u001b[49m\u001b[43mids\u001b[49m\u001b[43m,\u001b[49m\n\u001b[32m   1211\u001b[39m \u001b[43m    \u001b[49m\u001b[43m*\u001b[49m\u001b[43m*\u001b[49m\u001b[43mkwargs\u001b[49m\u001b[43m,\u001b[49m\n\u001b[32m   1212\u001b[39m \u001b[43m\u001b[49m\u001b[43m)\u001b[49m\n",
      "\u001b[36mFile \u001b[39m\u001b[32md:\\Work\\LLM task\\ResumeMatcher\\.venv\\Lib\\site-packages\\langchain_milvus\\vectorstores\\milvus.py:1313\u001b[39m, in \u001b[36mMilvus.add_embeddings\u001b[39m\u001b[34m(self, texts, embeddings, metadatas, timeout, batch_size, ids, **kwargs)\u001b[39m\n\u001b[32m   1311\u001b[39m         pks.extend(res[\u001b[33m\"\u001b[39m\u001b[33mids\u001b[39m\u001b[33m\"\u001b[39m])\n\u001b[32m   1312\u001b[39m     \u001b[38;5;28;01mexcept\u001b[39;00m MilvusException \u001b[38;5;28;01mas\u001b[39;00m e:\n\u001b[32m-> \u001b[39m\u001b[32m1313\u001b[39m         \u001b[38;5;28;43mself\u001b[39;49m\u001b[43m.\u001b[49m\u001b[43m_handle_batch_operation_exception\u001b[49m\u001b[43m(\u001b[49m\n\u001b[32m   1314\u001b[39m \u001b[43m            \u001b[49m\u001b[43me\u001b[49m\u001b[43m,\u001b[49m\u001b[43m \u001b[49m\u001b[43mbatch_insert_list\u001b[49m\u001b[43m,\u001b[49m\u001b[43m \u001b[49m\u001b[43mi\u001b[49m\u001b[43m,\u001b[49m\u001b[43m \u001b[49m\u001b[43mtotal_count\u001b[49m\u001b[43m,\u001b[49m\u001b[43m \u001b[49m\u001b[33;43m\"\u001b[39;49m\u001b[33;43minsert\u001b[39;49m\u001b[33;43m\"\u001b[39;49m\n\u001b[32m   1315\u001b[39m \u001b[43m        \u001b[49m\u001b[43m)\u001b[49m\n\u001b[32m   1316\u001b[39m \u001b[38;5;28;01mreturn\u001b[39;00m pks\n",
      "\u001b[36mFile \u001b[39m\u001b[32md:\\Work\\LLM task\\ResumeMatcher\\.venv\\Lib\\site-packages\\langchain_milvus\\vectorstores\\milvus.py:1354\u001b[39m, in \u001b[36mMilvus._handle_batch_operation_exception\u001b[39m\u001b[34m(self, e, batch_list, batch_index, total_count, operation_name)\u001b[39m\n\u001b[32m   1346\u001b[39m         log_entity[k] = v\n\u001b[32m   1347\u001b[39m logger.error(\n\u001b[32m   1348\u001b[39m     \u001b[33m\"\u001b[39m\u001b[33mFailed to \u001b[39m\u001b[38;5;132;01m%s\u001b[39;00m\u001b[33m batch starting at entity: \u001b[39m\u001b[38;5;132;01m%s\u001b[39;00m\u001b[33m/\u001b[39m\u001b[38;5;132;01m%s\u001b[39;00m\u001b[33m. \u001b[39m\u001b[33m\"\u001b[39m \u001b[33m\"\u001b[39m\u001b[33mFirst entity data: \u001b[39m\u001b[38;5;132;01m%s\u001b[39;00m\u001b[33m\"\u001b[39m,\n\u001b[32m   1349\u001b[39m     operation_name,\n\u001b[32m   (...)\u001b[39m\u001b[32m   1352\u001b[39m     log_entity,\n\u001b[32m   1353\u001b[39m )\n\u001b[32m-> \u001b[39m\u001b[32m1354\u001b[39m \u001b[38;5;28;01mraise\u001b[39;00m e\n",
      "\u001b[36mFile \u001b[39m\u001b[32md:\\Work\\LLM task\\ResumeMatcher\\.venv\\Lib\\site-packages\\langchain_milvus\\vectorstores\\milvus.py:1305\u001b[39m, in \u001b[36mMilvus.add_embeddings\u001b[39m\u001b[34m(self, texts, embeddings, metadatas, timeout, batch_size, ids, **kwargs)\u001b[39m\n\u001b[32m   1303\u001b[39m \u001b[38;5;28;01mtry\u001b[39;00m:\n\u001b[32m   1304\u001b[39m     timeout = \u001b[38;5;28mself\u001b[39m.timeout \u001b[38;5;129;01mor\u001b[39;00m timeout\n\u001b[32m-> \u001b[39m\u001b[32m1305\u001b[39m     res = \u001b[38;5;28;43mself\u001b[39;49m\u001b[43m.\u001b[49m\u001b[43mclient\u001b[49m\u001b[43m.\u001b[49m\u001b[43minsert\u001b[49m\u001b[43m(\u001b[49m\n\u001b[32m   1306\u001b[39m \u001b[43m        \u001b[49m\u001b[38;5;28;43mself\u001b[39;49m\u001b[43m.\u001b[49m\u001b[43mcollection_name\u001b[49m\u001b[43m,\u001b[49m\n\u001b[32m   1307\u001b[39m \u001b[43m        \u001b[49m\u001b[43mbatch_insert_list\u001b[49m\u001b[43m,\u001b[49m\n\u001b[32m   1308\u001b[39m \u001b[43m        \u001b[49m\u001b[43mtimeout\u001b[49m\u001b[43m=\u001b[49m\u001b[43mtimeout\u001b[49m\u001b[43m,\u001b[49m\n\u001b[32m   1309\u001b[39m \u001b[43m        \u001b[49m\u001b[43m*\u001b[49m\u001b[43m*\u001b[49m\u001b[43mkwargs\u001b[49m\u001b[43m,\u001b[49m\n\u001b[32m   1310\u001b[39m \u001b[43m    \u001b[49m\u001b[43m)\u001b[49m\n\u001b[32m   1311\u001b[39m     pks.extend(res[\u001b[33m\"\u001b[39m\u001b[33mids\u001b[39m\u001b[33m\"\u001b[39m])\n\u001b[32m   1312\u001b[39m \u001b[38;5;28;01mexcept\u001b[39;00m MilvusException \u001b[38;5;28;01mas\u001b[39;00m e:\n",
      "\u001b[36mFile \u001b[39m\u001b[32md:\\Work\\LLM task\\ResumeMatcher\\.venv\\Lib\\site-packages\\pymilvus\\milvus_client\\milvus_client.py:232\u001b[39m, in \u001b[36mMilvusClient.insert\u001b[39m\u001b[34m(self, collection_name, data, timeout, partition_name, **kwargs)\u001b[39m\n\u001b[32m    228\u001b[39m     res = conn.insert_rows(\n\u001b[32m    229\u001b[39m         collection_name, data, partition_name=partition_name, timeout=timeout\n\u001b[32m    230\u001b[39m     )\n\u001b[32m    231\u001b[39m \u001b[38;5;28;01mexcept\u001b[39;00m \u001b[38;5;167;01mException\u001b[39;00m \u001b[38;5;28;01mas\u001b[39;00m ex:\n\u001b[32m--> \u001b[39m\u001b[32m232\u001b[39m     \u001b[38;5;28;01mraise\u001b[39;00m ex \u001b[38;5;28;01mfrom\u001b[39;00m\u001b[38;5;250m \u001b[39m\u001b[34;01mex\u001b[39;00m\n\u001b[32m    233\u001b[39m \u001b[38;5;28;01mreturn\u001b[39;00m OmitZeroDict(\n\u001b[32m    234\u001b[39m     {\n\u001b[32m    235\u001b[39m         \u001b[33m\"\u001b[39m\u001b[33minsert_count\u001b[39m\u001b[33m\"\u001b[39m: res.insert_count,\n\u001b[32m   (...)\u001b[39m\u001b[32m    238\u001b[39m     }\n\u001b[32m    239\u001b[39m )\n",
      "\u001b[36mFile \u001b[39m\u001b[32md:\\Work\\LLM task\\ResumeMatcher\\.venv\\Lib\\site-packages\\pymilvus\\milvus_client\\milvus_client.py:228\u001b[39m, in \u001b[36mMilvusClient.insert\u001b[39m\u001b[34m(self, collection_name, data, timeout, partition_name, **kwargs)\u001b[39m\n\u001b[32m    226\u001b[39m \u001b[38;5;66;03m# Insert into the collection.\u001b[39;00m\n\u001b[32m    227\u001b[39m \u001b[38;5;28;01mtry\u001b[39;00m:\n\u001b[32m--> \u001b[39m\u001b[32m228\u001b[39m     res = \u001b[43mconn\u001b[49m\u001b[43m.\u001b[49m\u001b[43minsert_rows\u001b[49m\u001b[43m(\u001b[49m\n\u001b[32m    229\u001b[39m \u001b[43m        \u001b[49m\u001b[43mcollection_name\u001b[49m\u001b[43m,\u001b[49m\u001b[43m \u001b[49m\u001b[43mdata\u001b[49m\u001b[43m,\u001b[49m\u001b[43m \u001b[49m\u001b[43mpartition_name\u001b[49m\u001b[43m=\u001b[49m\u001b[43mpartition_name\u001b[49m\u001b[43m,\u001b[49m\u001b[43m \u001b[49m\u001b[43mtimeout\u001b[49m\u001b[43m=\u001b[49m\u001b[43mtimeout\u001b[49m\n\u001b[32m    230\u001b[39m \u001b[43m    \u001b[49m\u001b[43m)\u001b[49m\n\u001b[32m    231\u001b[39m \u001b[38;5;28;01mexcept\u001b[39;00m \u001b[38;5;167;01mException\u001b[39;00m \u001b[38;5;28;01mas\u001b[39;00m ex:\n\u001b[32m    232\u001b[39m     \u001b[38;5;28;01mraise\u001b[39;00m ex \u001b[38;5;28;01mfrom\u001b[39;00m\u001b[38;5;250m \u001b[39m\u001b[34;01mex\u001b[39;00m\n",
      "\u001b[36mFile \u001b[39m\u001b[32md:\\Work\\LLM task\\ResumeMatcher\\.venv\\Lib\\site-packages\\pymilvus\\decorators.py:141\u001b[39m, in \u001b[36merror_handler.<locals>.wrapper.<locals>.handler\u001b[39m\u001b[34m(*args, **kwargs)\u001b[39m\n\u001b[32m    139\u001b[39m     record_dict[\u001b[33m\"\u001b[39m\u001b[33mRPC error\u001b[39m\u001b[33m\"\u001b[39m] = \u001b[38;5;28mstr\u001b[39m(datetime.datetime.now())\n\u001b[32m    140\u001b[39m     LOGGER.error(\u001b[33mf\u001b[39m\u001b[33m\"\u001b[39m\u001b[33mRPC error: [\u001b[39m\u001b[38;5;132;01m{\u001b[39;00minner_name\u001b[38;5;132;01m}\u001b[39;00m\u001b[33m], \u001b[39m\u001b[38;5;132;01m{\u001b[39;00me\u001b[38;5;132;01m}\u001b[39;00m\u001b[33m, <Time:\u001b[39m\u001b[38;5;132;01m{\u001b[39;00mrecord_dict\u001b[38;5;132;01m}\u001b[39;00m\u001b[33m>\u001b[39m\u001b[33m\"\u001b[39m)\n\u001b[32m--> \u001b[39m\u001b[32m141\u001b[39m     \u001b[38;5;28;01mraise\u001b[39;00m e \u001b[38;5;28;01mfrom\u001b[39;00m\u001b[38;5;250m \u001b[39m\u001b[34;01me\u001b[39;00m\n\u001b[32m    142\u001b[39m \u001b[38;5;28;01mexcept\u001b[39;00m grpc.FutureTimeoutError \u001b[38;5;28;01mas\u001b[39;00m e:\n\u001b[32m    143\u001b[39m     record_dict[\u001b[33m\"\u001b[39m\u001b[33mgRPC timeout\u001b[39m\u001b[33m\"\u001b[39m] = \u001b[38;5;28mstr\u001b[39m(datetime.datetime.now())\n",
      "\u001b[36mFile \u001b[39m\u001b[32md:\\Work\\LLM task\\ResumeMatcher\\.venv\\Lib\\site-packages\\pymilvus\\decorators.py:137\u001b[39m, in \u001b[36merror_handler.<locals>.wrapper.<locals>.handler\u001b[39m\u001b[34m(*args, **kwargs)\u001b[39m\n\u001b[32m    135\u001b[39m \u001b[38;5;28;01mtry\u001b[39;00m:\n\u001b[32m    136\u001b[39m     record_dict[\u001b[33m\"\u001b[39m\u001b[33mRPC start\u001b[39m\u001b[33m\"\u001b[39m] = \u001b[38;5;28mstr\u001b[39m(datetime.datetime.now())\n\u001b[32m--> \u001b[39m\u001b[32m137\u001b[39m     \u001b[38;5;28;01mreturn\u001b[39;00m \u001b[43mfunc\u001b[49m\u001b[43m(\u001b[49m\u001b[43m*\u001b[49m\u001b[43margs\u001b[49m\u001b[43m,\u001b[49m\u001b[43m \u001b[49m\u001b[43m*\u001b[49m\u001b[43m*\u001b[49m\u001b[43mkwargs\u001b[49m\u001b[43m)\u001b[49m\n\u001b[32m    138\u001b[39m \u001b[38;5;28;01mexcept\u001b[39;00m MilvusException \u001b[38;5;28;01mas\u001b[39;00m e:\n\u001b[32m    139\u001b[39m     record_dict[\u001b[33m\"\u001b[39m\u001b[33mRPC error\u001b[39m\u001b[33m\"\u001b[39m] = \u001b[38;5;28mstr\u001b[39m(datetime.datetime.now())\n",
      "\u001b[36mFile \u001b[39m\u001b[32md:\\Work\\LLM task\\ResumeMatcher\\.venv\\Lib\\site-packages\\pymilvus\\decorators.py:173\u001b[39m, in \u001b[36mtracing_request.<locals>.wrapper.<locals>.handler\u001b[39m\u001b[34m(self, *args, **kwargs)\u001b[39m\n\u001b[32m    171\u001b[39m \u001b[38;5;28;01mif\u001b[39;00m level:\n\u001b[32m    172\u001b[39m     \u001b[38;5;28mself\u001b[39m.set_onetime_loglevel(level)\n\u001b[32m--> \u001b[39m\u001b[32m173\u001b[39m \u001b[38;5;28;01mreturn\u001b[39;00m \u001b[43mfunc\u001b[49m\u001b[43m(\u001b[49m\u001b[38;5;28;43mself\u001b[39;49m\u001b[43m,\u001b[49m\u001b[43m \u001b[49m\u001b[43m*\u001b[49m\u001b[43margs\u001b[49m\u001b[43m,\u001b[49m\u001b[43m \u001b[49m\u001b[43m*\u001b[49m\u001b[43m*\u001b[49m\u001b[43mkwargs\u001b[49m\u001b[43m)\u001b[49m\n",
      "\u001b[36mFile \u001b[39m\u001b[32md:\\Work\\LLM task\\ResumeMatcher\\.venv\\Lib\\site-packages\\pymilvus\\decorators.py:116\u001b[39m, in \u001b[36mretry_on_rpc_failure.<locals>.wrapper.<locals>.handler\u001b[39m\u001b[34m(*args, **kwargs)\u001b[39m\n\u001b[32m    114\u001b[39m         back_off = \u001b[38;5;28mmin\u001b[39m(back_off * back_off_multiplier, max_back_off)\n\u001b[32m    115\u001b[39m     \u001b[38;5;28;01melse\u001b[39;00m:\n\u001b[32m--> \u001b[39m\u001b[32m116\u001b[39m         \u001b[38;5;28;01mraise\u001b[39;00m e \u001b[38;5;28;01mfrom\u001b[39;00m\u001b[38;5;250m \u001b[39m\u001b[34;01me\u001b[39;00m\n\u001b[32m    117\u001b[39m \u001b[38;5;28;01mexcept\u001b[39;00m \u001b[38;5;167;01mException\u001b[39;00m \u001b[38;5;28;01mas\u001b[39;00m e:\n\u001b[32m    118\u001b[39m     \u001b[38;5;28;01mraise\u001b[39;00m e \u001b[38;5;28;01mfrom\u001b[39;00m\u001b[38;5;250m \u001b[39m\u001b[34;01me\u001b[39;00m\n",
      "\u001b[36mFile \u001b[39m\u001b[32md:\\Work\\LLM task\\ResumeMatcher\\.venv\\Lib\\site-packages\\pymilvus\\decorators.py:86\u001b[39m, in \u001b[36mretry_on_rpc_failure.<locals>.wrapper.<locals>.handler\u001b[39m\u001b[34m(*args, **kwargs)\u001b[39m\n\u001b[32m     84\u001b[39m \u001b[38;5;28;01mwhile\u001b[39;00m \u001b[38;5;28;01mTrue\u001b[39;00m:\n\u001b[32m     85\u001b[39m     \u001b[38;5;28;01mtry\u001b[39;00m:\n\u001b[32m---> \u001b[39m\u001b[32m86\u001b[39m         \u001b[38;5;28;01mreturn\u001b[39;00m \u001b[43mfunc\u001b[49m\u001b[43m(\u001b[49m\u001b[43m*\u001b[49m\u001b[43margs\u001b[49m\u001b[43m,\u001b[49m\u001b[43m \u001b[49m\u001b[43m*\u001b[49m\u001b[43m*\u001b[49m\u001b[43mkwargs\u001b[49m\u001b[43m)\u001b[49m\n\u001b[32m     87\u001b[39m     \u001b[38;5;28;01mexcept\u001b[39;00m grpc.RpcError \u001b[38;5;28;01mas\u001b[39;00m e:\n\u001b[32m     88\u001b[39m         \u001b[38;5;66;03m# Do not retry on these codes\u001b[39;00m\n\u001b[32m     89\u001b[39m         \u001b[38;5;28;01mif\u001b[39;00m e.code() \u001b[38;5;129;01min\u001b[39;00m IGNORE_RETRY_CODES:\n",
      "\u001b[36mFile \u001b[39m\u001b[32md:\\Work\\LLM task\\ResumeMatcher\\.venv\\Lib\\site-packages\\pymilvus\\client\\grpc_handler.py:542\u001b[39m, in \u001b[36mGrpcHandler.insert_rows\u001b[39m\u001b[34m(self, collection_name, entities, partition_name, schema, timeout, **kwargs)\u001b[39m\n\u001b[32m    532\u001b[39m \u001b[38;5;129m@retry_on_rpc_failure\u001b[39m()\n\u001b[32m    533\u001b[39m \u001b[38;5;28;01mdef\u001b[39;00m\u001b[38;5;250m \u001b[39m\u001b[34minsert_rows\u001b[39m(\n\u001b[32m    534\u001b[39m     \u001b[38;5;28mself\u001b[39m,\n\u001b[32m   (...)\u001b[39m\u001b[32m    540\u001b[39m     **kwargs,\n\u001b[32m    541\u001b[39m ):\n\u001b[32m--> \u001b[39m\u001b[32m542\u001b[39m     request = \u001b[38;5;28;43mself\u001b[39;49m\u001b[43m.\u001b[49m\u001b[43m_prepare_row_insert_request\u001b[49m\u001b[43m(\u001b[49m\n\u001b[32m    543\u001b[39m \u001b[43m        \u001b[49m\u001b[43mcollection_name\u001b[49m\u001b[43m,\u001b[49m\u001b[43m \u001b[49m\u001b[43mentities\u001b[49m\u001b[43m,\u001b[49m\u001b[43m \u001b[49m\u001b[43mpartition_name\u001b[49m\u001b[43m,\u001b[49m\u001b[43m \u001b[49m\u001b[43mschema\u001b[49m\u001b[43m,\u001b[49m\u001b[43m \u001b[49m\u001b[43mtimeout\u001b[49m\u001b[43m,\u001b[49m\u001b[43m \u001b[49m\u001b[43m*\u001b[49m\u001b[43m*\u001b[49m\u001b[43mkwargs\u001b[49m\n\u001b[32m    544\u001b[39m \u001b[43m    \u001b[49m\u001b[43m)\u001b[49m\n\u001b[32m    545\u001b[39m     resp = \u001b[38;5;28mself\u001b[39m._stub.Insert(request=request, timeout=timeout, metadata=_api_level_md(**kwargs))\n\u001b[32m    546\u001b[39m     \u001b[38;5;28;01mif\u001b[39;00m resp.status.error_code == common_pb2.SchemaMismatch:\n",
      "\u001b[36mFile \u001b[39m\u001b[32md:\\Work\\LLM task\\ResumeMatcher\\.venv\\Lib\\site-packages\\pymilvus\\client\\grpc_handler.py:590\u001b[39m, in \u001b[36mGrpcHandler._prepare_row_insert_request\u001b[39m\u001b[34m(self, collection_name, entity_rows, partition_name, schema, timeout, **kwargs)\u001b[39m\n\u001b[32m    587\u001b[39m fields_info = schema.get(\u001b[33m\"\u001b[39m\u001b[33mfields\u001b[39m\u001b[33m\"\u001b[39m)\n\u001b[32m    588\u001b[39m enable_dynamic = schema.get(\u001b[33m\"\u001b[39m\u001b[33menable_dynamic_field\u001b[39m\u001b[33m\"\u001b[39m, \u001b[38;5;28;01mFalse\u001b[39;00m)\n\u001b[32m--> \u001b[39m\u001b[32m590\u001b[39m \u001b[38;5;28;01mreturn\u001b[39;00m \u001b[43mPrepare\u001b[49m\u001b[43m.\u001b[49m\u001b[43mrow_insert_param\u001b[49m\u001b[43m(\u001b[49m\n\u001b[32m    591\u001b[39m \u001b[43m    \u001b[49m\u001b[43mcollection_name\u001b[49m\u001b[43m,\u001b[49m\n\u001b[32m    592\u001b[39m \u001b[43m    \u001b[49m\u001b[43mentity_rows\u001b[49m\u001b[43m,\u001b[49m\n\u001b[32m    593\u001b[39m \u001b[43m    \u001b[49m\u001b[43mpartition_name\u001b[49m\u001b[43m,\u001b[49m\n\u001b[32m    594\u001b[39m \u001b[43m    \u001b[49m\u001b[43mfields_info\u001b[49m\u001b[43m,\u001b[49m\n\u001b[32m    595\u001b[39m \u001b[43m    \u001b[49m\u001b[43menable_dynamic\u001b[49m\u001b[43m=\u001b[49m\u001b[43menable_dynamic\u001b[49m\u001b[43m,\u001b[49m\n\u001b[32m    596\u001b[39m \u001b[43m    \u001b[49m\u001b[43mschema_timestamp\u001b[49m\u001b[43m=\u001b[49m\u001b[43mschema_timestamp\u001b[49m\u001b[43m,\u001b[49m\n\u001b[32m    597\u001b[39m \u001b[43m\u001b[49m\u001b[43m)\u001b[49m\n",
      "\u001b[36mFile \u001b[39m\u001b[32md:\\Work\\LLM task\\ResumeMatcher\\.venv\\Lib\\site-packages\\pymilvus\\client\\prepare.py:626\u001b[39m, in \u001b[36mPrepare.row_insert_param\u001b[39m\u001b[34m(cls, collection_name, entities, partition_name, fields_info, schema_timestamp, enable_dynamic)\u001b[39m\n\u001b[32m    618\u001b[39m p_name = partition_name \u001b[38;5;28;01mif\u001b[39;00m \u001b[38;5;28misinstance\u001b[39m(partition_name, \u001b[38;5;28mstr\u001b[39m) \u001b[38;5;28;01melse\u001b[39;00m \u001b[33m\"\u001b[39m\u001b[33m\"\u001b[39m\n\u001b[32m    619\u001b[39m request = milvus_types.InsertRequest(\n\u001b[32m    620\u001b[39m     collection_name=collection_name,\n\u001b[32m    621\u001b[39m     partition_name=p_name,\n\u001b[32m    622\u001b[39m     num_rows=\u001b[38;5;28mlen\u001b[39m(entities),\n\u001b[32m    623\u001b[39m     schema_timestamp=schema_timestamp,\n\u001b[32m    624\u001b[39m )\n\u001b[32m--> \u001b[39m\u001b[32m626\u001b[39m \u001b[38;5;28;01mreturn\u001b[39;00m \u001b[38;5;28;43mcls\u001b[39;49m\u001b[43m.\u001b[49m\u001b[43m_parse_row_request\u001b[49m\u001b[43m(\u001b[49m\u001b[43mrequest\u001b[49m\u001b[43m,\u001b[49m\u001b[43m \u001b[49m\u001b[43mfields_info\u001b[49m\u001b[43m,\u001b[49m\u001b[43m \u001b[49m\u001b[43menable_dynamic\u001b[49m\u001b[43m,\u001b[49m\u001b[43m \u001b[49m\u001b[43mentities\u001b[49m\u001b[43m)\u001b[49m\n",
      "\u001b[36mFile \u001b[39m\u001b[32md:\\Work\\LLM task\\ResumeMatcher\\.venv\\Lib\\site-packages\\pymilvus\\client\\prepare.py:464\u001b[39m, in \u001b[36mPrepare._parse_row_request\u001b[39m\u001b[34m(request, fields_info, enable_dynamic, entities)\u001b[39m\n\u001b[32m    459\u001b[39m         \u001b[38;5;28;01mraise\u001b[39;00m DataNotMatchException(\n\u001b[32m    460\u001b[39m             message=ExceptionsMessage.InsertUnexpectedFunctionOutputField % k\n\u001b[32m    461\u001b[39m         )\n\u001b[32m    463\u001b[39m     \u001b[38;5;28;01mif\u001b[39;00m \u001b[38;5;129;01mnot\u001b[39;00m enable_dynamic:\n\u001b[32m--> \u001b[39m\u001b[32m464\u001b[39m         \u001b[38;5;28;01mraise\u001b[39;00m DataNotMatchException(\n\u001b[32m    465\u001b[39m             message=ExceptionsMessage.InsertUnexpectedField % k\n\u001b[32m    466\u001b[39m         )\n\u001b[32m    468\u001b[39m \u001b[38;5;28;01mif\u001b[39;00m k \u001b[38;5;129;01min\u001b[39;00m fields_data:\n\u001b[32m    469\u001b[39m     field_info, field_data = field_info_map[k], fields_data[k]\n",
      "\u001b[31mDataNotMatchException\u001b[39m: <DataNotMatchException: (code=1, message=Attempt to insert an unexpected field `text` to collection without enabling dynamic field)>"
     ]
    }
   ],
   "source": [
    "import bs4\n",
    "from langchain_community.document_loaders import WebBaseLoader\n",
    "from langchain_text_splitters import RecursiveCharacterTextSplitter\n",
    "from langchain.document_loaders import PyPDFLoader\n",
    "\n",
    "# Load and chunk contents of the blog\n",
    "loader = PyPDFLoader(r\"D:\\Work\\LLM task\\ResumeMatcher\\Sample Resume\\Dhinesh_Resume.pdf\")\n",
    "docs = loader.load()\n",
    "\n",
    "text_splitter = RecursiveCharacterTextSplitter(chunk_size=1000, chunk_overlap=200)\n",
    "all_splits = text_splitter.split_documents(docs)\n",
    "\n",
    "def clean_metadata(metadata):\n",
    "    return {k.replace('.', '_'): v for k, v in metadata.items() if k.replace('.', '_').isalnum() or '_' in k}\n",
    "\n",
    "for doc in all_splits:\n",
    "    doc.metadata = clean_metadata(doc.metadata)\n",
    "\n",
    "# Index chunks\n",
    "_ = vector_store.add_documents(documents=all_splits)\n",
    "\n",
    "\n",
    "# Define prompt for question-answering\n",
    "# N.B. for non-US LangSmith endpoints, you may need to specify\n",
    "# api_url=\"https://api.smith.langchain.com\" in hub.pull.\n"
   ]
  },
  {
   "cell_type": "code",
   "execution_count": 47,
   "id": "fa8b2986",
   "metadata": {},
   "outputs": [
    {
     "name": "stderr",
     "output_type": "stream",
     "text": [
      "d:\\CEI\\Work\\ResumeMatcher\\ResumeMatcher\\app\\venv\\Lib\\site-packages\\langsmith\\client.py:272: LangSmithMissingAPIKeyWarning: API key must be provided when using hosted LangSmith API\n",
      "  warnings.warn(\n"
     ]
    }
   ],
   "source": [
    "from langchain import hub\n",
    "from typing_extensions import List, TypedDict\n",
    "from langchain_core.documents import Document\n",
    "from langgraph.graph import START, StateGraph\n",
    "\n",
    "prompt = hub.pull(\"rlm/rag-prompt\")\n",
    "\n",
    "\n",
    "# Define state for application\n",
    "class State(TypedDict):\n",
    "    question: str\n",
    "    context: List[Document]\n",
    "    answer: str\n",
    "\n",
    "\n",
    "# Define application steps\n",
    "def retrieve(state: State):\n",
    "    retrieved_docs = vector_store.similarity_search(state[\"question\"], k=5)\n",
    "    # print(retrieved_docs)\n",
    "    return {\"context\": retrieved_docs}\n",
    "\n",
    "\n",
    "def generate(state: State):\n",
    "    docs_content = \"\\n\\n\".join(f'chunk: {doc.page_content}\\nMetadata: {doc.metadata}'for doc in state[\"context\"])\n",
    "    messages = prompt.invoke({\"question\": state[\"question\"], \"context\": docs_content})\n",
    "    response = llm.invoke(messages)\n",
    "    return {\"answer\": response.content}\n",
    "\n",
    "\n",
    "# Compile application and test\n",
    "graph_builder = StateGraph(State).add_sequence([retrieve, generate])\n",
    "graph_builder.add_edge(START, \"retrieve\")\n",
    "graph = graph_builder.compile()"
   ]
  },
  {
   "cell_type": "code",
   "execution_count": 53,
   "id": "f31f6fc9",
   "metadata": {},
   "outputs": [
    {
     "name": "stdout",
     "output_type": "stream",
     "text": [
      "Candidate 4 has an AWS Certified Machine Learning – Specialty (2020) certification. Candidate 2 has an AWS Certified Developer - Associate Certificate. I don't have information about other candidates.\n"
     ]
    }
   ],
   "source": [
    "response = graph.invoke({\"question\": \"I want candidate names who has AWS certification?\"})\n",
    "print(response[\"answer\"])"
   ]
  },
  {
   "cell_type": "code",
   "execution_count": null,
   "id": "0a1764e2",
   "metadata": {},
   "outputs": [
    {
     "data": {
      "text/plain": [
       "langchain_core.prompts.chat.ChatPromptTemplate"
      ]
     },
     "execution_count": 51,
     "metadata": {},
     "output_type": "execute_result"
    }
   ],
   "source": []
  },
  {
   "cell_type": "code",
   "execution_count": 27,
   "id": "b592261d",
   "metadata": {},
   "outputs": [
    {
     "name": "stdout",
     "output_type": "stream",
     "text": [
      "[Document(metadata={'producer': 'pdfTeX-1.40.26', 'creator': 'LaTeX with hyperref', 'creationdate': '2025-06-12T11:47:32+00:00', 'author': '', 'keywords': '', 'moddate': '2025-06-12T11:47:32+00:00', 'ptex.fullbanner': 'This is pdfTeX, Version 3.141592653-2.6-1.40.26 (TeX Live 2024) kpathsea version 6.4.0', 'subject': '', 'title': '', 'trapped': '/False', 'source': 'D:\\\\Work\\\\LLM task\\\\ResumeMatcher\\\\Sample Resume\\\\Dhinesh_Resume.pdf', 'total_pages': 1, 'page': 0, 'page_label': '1'}, page_content='DHINESH V\\n+91 88078 77786 ⋄ Kadpadi, Vellore\\ndhineshvkumar2003@gmail.com ⋄ LinkedIN ⋄ GitHub\\nOBJECTIVE\\nI am passionated in the IT field where I can leverage my technical skills, gain valuable experience, and contribute to\\nthe company’s success. My goal is to be part of a dynamic team, drive innovative solutions, and make a significant\\nimpact on the organization’s growth and development.\\nEDUCATION\\nMaster of Computer Application , Vellore Institute of Technology 2023 - 2025\\nCumulative GPA: 9.16/10.0\\nRelevant Coursework:\\nProgramming in Java(advanced), Python Programming, Machine Learning, Mobile Application Design and Develop-\\nment, Full-Stack Web Development, Technical Report Writing, Non-Relational Database Management.\\nBachelor of Computer Application, Vellore Institute of Technology 2020 - 2023\\nCumulative GPA: 8.98/10.0\\nRelevant Coursework:\\nSoftware Development, C, Object-Oriented design, Software Project Management, Object-Oriented Programming,'), Document(metadata={'producer': 'pdfTeX-1.40.26', 'creator': 'LaTeX with hyperref', 'creationdate': '2025-06-12T11:47:32+00:00', 'author': '', 'keywords': '', 'moddate': '2025-06-12T11:47:32+00:00', 'ptex.fullbanner': 'This is pdfTeX, Version 3.141592653-2.6-1.40.26 (TeX Live 2024) kpathsea version 6.4.0', 'subject': '', 'title': '', 'trapped': '/False', 'source': 'D:\\\\Work\\\\LLM task\\\\ResumeMatcher\\\\Sample Resume\\\\Dhinesh_Resume.pdf', 'total_pages': 1, 'page': 0, 'page_label': '1'}, page_content='Cumulative GPA: 8.98/10.0\\nRelevant Coursework:\\nSoftware Development, C, Object-Oriented design, Software Project Management, Object-Oriented Programming,\\nC++, Programming in Java, Data Structures and Algorithms, Software Testing, Web Development, Database Man-\\nagement.\\nSKILLS\\nTechnical Skills Java, Python, Node JS, React, AWS, Machine Learning, SQL, NoSQL, GIT, CI/CD,\\npower automate.\\nDev Tools VS Code, Android Studio, Intellij Idea, Jupyter Notebook, Eclipse.\\nBackend Tool Postman, MySql Workbench, Mongo shell.\\nTesting Tool Playwright, Jest.\\nSoft Skills Teamwork, Productive, Proactive, Problem Solving, Responsibility.\\nSOFTWARE PROJECTS\\nCredit Score Classification Web App. Implemented a web application with good documentation to address the\\nchallenge of predicting credit scores accurately, using Python (scikit-learn, pandas, numpy) for machine learning and\\nFlask for the backend, resulting in improved prediction accuracy and user engagement.'), Document(metadata={'producer': 'pdfTeX-1.40.26', 'creator': 'LaTeX with hyperref', 'creationdate': '2025-06-12T11:47:32+00:00', 'author': '', 'keywords': '', 'moddate': '2025-06-12T11:47:32+00:00', 'ptex.fullbanner': 'This is pdfTeX, Version 3.141592653-2.6-1.40.26 (TeX Live 2024) kpathsea version 6.4.0', 'subject': '', 'title': '', 'trapped': '/False', 'source': 'D:\\\\Work\\\\LLM task\\\\ResumeMatcher\\\\Sample Resume\\\\Dhinesh_Resume.pdf', 'total_pages': 1, 'page': 0, 'page_label': '1'}, page_content='Flask for the backend, resulting in improved prediction accuracy and user engagement.\\nScholarship Portal. Developed a scholarship portal to streamline the complex process of scholarship applications\\nand management, using React, HTML, CSS, and JavaScript for the frontend, and Node.js, Express, and MongoDB\\nfor the backend, leading to increased application efficiency and user satisfaction.\\nMovie Wishlist Web App. Created a movie wishlist web app to manage personal movie lists using a CRUD inter-\\nface to add, update, read, and delete wishlist items with well-defined API using React, HTML, CSS, and JavaScript\\nfor the frontend, and Node.js, Express, and MongoDB for the backend, resulting in enhanced user convenience and\\norganization\\nCERTIFICATIONS\\n• AWS Certified Developer - Associate Certificate Link\\n• Career Essentials in Software Development by Microsoft and LinkedIn Certificate Link.\\n• Python Course Certificate Link.\\n• Machine Learning with Python Certificate Link.')]\n"
     ]
    }
   ],
   "source": [
    "print(all_splits)"
   ]
  },
  {
   "cell_type": "code",
   "execution_count": 52,
   "id": "3c09ffd7",
   "metadata": {},
   "outputs": [
    {
     "name": "stdout",
     "output_type": "stream",
     "text": [
      "input_variables=['context', 'question'] input_types={} partial_variables={} metadata={'lc_hub_owner': 'rlm', 'lc_hub_repo': 'rag-prompt', 'lc_hub_commit_hash': '50442af133e61576e74536c6556cefe1fac147cad032f4377b60c436e6cdcb6e'} messages=[HumanMessagePromptTemplate(prompt=PromptTemplate(input_variables=['context', 'question'], input_types={}, partial_variables={}, template=\"You are an assistant for question-answering tasks. Use the following pieces of retrieved context to answer the question. If you don't know the answer, just say that you don't know. Use three sentences maximum and keep the answer concise.\\nQuestion: {question} \\nContext: {context} \\nAnswer:\"), additional_kwargs={})]\n"
     ]
    }
   ],
   "source": [
    "print(prompt)"
   ]
  },
  {
   "cell_type": "code",
   "execution_count": null,
   "id": "aa1db034",
   "metadata": {},
   "outputs": [],
   "source": []
  }
 ],
 "metadata": {
  "kernelspec": {
   "display_name": "venv",
   "language": "python",
   "name": "python3"
  },
  "language_info": {
   "codemirror_mode": {
    "name": "ipython",
    "version": 3
   },
   "file_extension": ".py",
   "mimetype": "text/x-python",
   "name": "python",
   "nbconvert_exporter": "python",
   "pygments_lexer": "ipython3",
   "version": "3.12.1"
  }
 },
 "nbformat": 4,
 "nbformat_minor": 5
}

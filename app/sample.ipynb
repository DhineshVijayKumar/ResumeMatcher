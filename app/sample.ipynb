{
 "cells": [
  {
   "cell_type": "code",
   "execution_count": 1,
   "id": "94372b2f",
   "metadata": {},
   "outputs": [],
   "source": [
    "from pymilvus import connections, db, utility, FieldSchema, CollectionSchema, DataType, Collection\n",
    "import ollama"
   ]
  },
  {
   "cell_type": "code",
   "execution_count": 14,
   "id": "5ce68b57",
   "metadata": {},
   "outputs": [
    {
     "data": {
      "text/plain": [
       "768"
      ]
     },
     "execution_count": 14,
     "metadata": {},
     "output_type": "execute_result"
    }
   ],
   "source": [
    "def get_embedding(model:str, prompt: str) -> list:\n",
    "    response = ollama.embeddings(model=model, prompt=prompt)\n",
    "    return response.get('embedding', [])\n",
    "\n",
    "\n",
    "em = get_embedding(model=\"nomic-embed-text:v1.5\", prompt=\"Hello world\")\n",
    "len(em)"
   ]
  },
  {
   "cell_type": "code",
   "execution_count": 3,
   "id": "09210bce",
   "metadata": {},
   "outputs": [],
   "source": [
    "conn = connections.connect(host='localhost', port='19530')"
   ]
  },
  {
   "cell_type": "code",
   "execution_count": 4,
   "id": "37377805",
   "metadata": {},
   "outputs": [
    {
     "data": {
      "text/plain": [
       "['default', 'JobOrder']"
      ]
     },
     "execution_count": 4,
     "metadata": {},
     "output_type": "execute_result"
    }
   ],
   "source": [
    "db.list_database()"
   ]
  },
  {
   "cell_type": "code",
   "execution_count": 5,
   "id": "8a9d5488",
   "metadata": {},
   "outputs": [
    {
     "name": "stderr",
     "output_type": "stream",
     "text": [
      "2025-06-21 23:10:01,705 [ERROR][handler]: RPC error: [create_database], <MilvusException: (code=65535, message=database already exist: JobOrder)>, <Time:{'RPC start': '2025-06-21 23:10:01.701086', 'RPC error': '2025-06-21 23:10:01.705883'}> (decorators.py:140)\n"
     ]
    },
    {
     "ename": "MilvusException",
     "evalue": "<MilvusException: (code=65535, message=database already exist: JobOrder)>",
     "output_type": "error",
     "traceback": [
      "\u001b[31m---------------------------------------------------------------------------\u001b[39m",
      "\u001b[31mMilvusException\u001b[39m                           Traceback (most recent call last)",
      "    \u001b[31m[... skipping hidden 1 frame]\u001b[39m\n",
      "\u001b[36mCell\u001b[39m\u001b[36m \u001b[39m\u001b[32mIn[5]\u001b[39m\u001b[32m, line 1\u001b[39m\n\u001b[32m----> \u001b[39m\u001b[32m1\u001b[39m \u001b[43mdb\u001b[49m\u001b[43m.\u001b[49m\u001b[43mcreate_database\u001b[49m\u001b[43m(\u001b[49m\u001b[33;43m'\u001b[39;49m\u001b[33;43mJobOrder\u001b[39;49m\u001b[33;43m'\u001b[39;49m\u001b[43m)\u001b[49m\n",
      "\u001b[36mFile \u001b[39m\u001b[32md:\\CEI\\Work\\ResumeMatcher\\ResumeMatcher\\app\\venv\\Lib\\site-packages\\pymilvus\\orm\\db.py:30\u001b[39m, in \u001b[36mcreate_database\u001b[39m\u001b[34m(db_name, using, timeout, **kwargs)\u001b[39m\n\u001b[32m     23\u001b[39m \u001b[38;5;250m\u001b[39m\u001b[33;03m\"\"\"Create a database using provided database name\u001b[39;00m\n\u001b[32m     24\u001b[39m \u001b[33;03mArgs:\u001b[39;00m\n\u001b[32m     25\u001b[39m \u001b[33;03m    db_name (``str``): Database name\u001b[39;00m\n\u001b[32m   (...)\u001b[39m\u001b[32m     28\u001b[39m \u001b[33;03m        support database resource groups with key `database.resource_groups`\u001b[39;00m\n\u001b[32m     29\u001b[39m \u001b[33;03m\"\"\"\u001b[39;00m\n\u001b[32m---> \u001b[39m\u001b[32m30\u001b[39m \u001b[43m_get_connection\u001b[49m\u001b[43m(\u001b[49m\u001b[43musing\u001b[49m\u001b[43m)\u001b[49m\u001b[43m.\u001b[49m\u001b[43mcreate_database\u001b[49m\u001b[43m(\u001b[49m\u001b[43mdb_name\u001b[49m\u001b[43m,\u001b[49m\u001b[43m \u001b[49m\u001b[43mtimeout\u001b[49m\u001b[43m=\u001b[49m\u001b[43mtimeout\u001b[49m\u001b[43m,\u001b[49m\u001b[43m \u001b[49m\u001b[43m*\u001b[49m\u001b[43m*\u001b[49m\u001b[43mkwargs\u001b[49m\u001b[43m)\u001b[49m\n",
      "\u001b[36mFile \u001b[39m\u001b[32md:\\CEI\\Work\\ResumeMatcher\\ResumeMatcher\\app\\venv\\Lib\\site-packages\\pymilvus\\decorators.py:141\u001b[39m, in \u001b[36merror_handler.<locals>.wrapper.<locals>.handler\u001b[39m\u001b[34m(*args, **kwargs)\u001b[39m\n\u001b[32m    140\u001b[39m     LOGGER.error(\u001b[33mf\u001b[39m\u001b[33m\"\u001b[39m\u001b[33mRPC error: [\u001b[39m\u001b[38;5;132;01m{\u001b[39;00minner_name\u001b[38;5;132;01m}\u001b[39;00m\u001b[33m], \u001b[39m\u001b[38;5;132;01m{\u001b[39;00me\u001b[38;5;132;01m}\u001b[39;00m\u001b[33m, <Time:\u001b[39m\u001b[38;5;132;01m{\u001b[39;00mrecord_dict\u001b[38;5;132;01m}\u001b[39;00m\u001b[33m>\u001b[39m\u001b[33m\"\u001b[39m)\n\u001b[32m--> \u001b[39m\u001b[32m141\u001b[39m     \u001b[38;5;28;01mraise\u001b[39;00m e \u001b[38;5;28;01mfrom\u001b[39;00m\u001b[38;5;250m \u001b[39m\u001b[34;01me\u001b[39;00m\n\u001b[32m    142\u001b[39m \u001b[38;5;28;01mexcept\u001b[39;00m grpc.FutureTimeoutError \u001b[38;5;28;01mas\u001b[39;00m e:\n",
      "\u001b[36mFile \u001b[39m\u001b[32md:\\CEI\\Work\\ResumeMatcher\\ResumeMatcher\\app\\venv\\Lib\\site-packages\\pymilvus\\decorators.py:137\u001b[39m, in \u001b[36merror_handler.<locals>.wrapper.<locals>.handler\u001b[39m\u001b[34m(*args, **kwargs)\u001b[39m\n\u001b[32m    136\u001b[39m     record_dict[\u001b[33m\"\u001b[39m\u001b[33mRPC start\u001b[39m\u001b[33m\"\u001b[39m] = \u001b[38;5;28mstr\u001b[39m(datetime.datetime.now())\n\u001b[32m--> \u001b[39m\u001b[32m137\u001b[39m     \u001b[38;5;28;01mreturn\u001b[39;00m \u001b[43mfunc\u001b[49m\u001b[43m(\u001b[49m\u001b[43m*\u001b[49m\u001b[43margs\u001b[49m\u001b[43m,\u001b[49m\u001b[43m \u001b[49m\u001b[43m*\u001b[49m\u001b[43m*\u001b[49m\u001b[43mkwargs\u001b[49m\u001b[43m)\u001b[49m\n\u001b[32m    138\u001b[39m \u001b[38;5;28;01mexcept\u001b[39;00m MilvusException \u001b[38;5;28;01mas\u001b[39;00m e:\n",
      "\u001b[36mFile \u001b[39m\u001b[32md:\\CEI\\Work\\ResumeMatcher\\ResumeMatcher\\app\\venv\\Lib\\site-packages\\pymilvus\\decorators.py:173\u001b[39m, in \u001b[36mtracing_request.<locals>.wrapper.<locals>.handler\u001b[39m\u001b[34m(self, *args, **kwargs)\u001b[39m\n\u001b[32m    172\u001b[39m     \u001b[38;5;28mself\u001b[39m.set_onetime_loglevel(level)\n\u001b[32m--> \u001b[39m\u001b[32m173\u001b[39m \u001b[38;5;28;01mreturn\u001b[39;00m \u001b[43mfunc\u001b[49m\u001b[43m(\u001b[49m\u001b[38;5;28;43mself\u001b[39;49m\u001b[43m,\u001b[49m\u001b[43m \u001b[49m\u001b[43m*\u001b[49m\u001b[43margs\u001b[49m\u001b[43m,\u001b[49m\u001b[43m \u001b[49m\u001b[43m*\u001b[49m\u001b[43m*\u001b[49m\u001b[43mkwargs\u001b[49m\u001b[43m)\u001b[49m\n",
      "\u001b[36mFile \u001b[39m\u001b[32md:\\CEI\\Work\\ResumeMatcher\\ResumeMatcher\\app\\venv\\Lib\\site-packages\\pymilvus\\decorators.py:116\u001b[39m, in \u001b[36mretry_on_rpc_failure.<locals>.wrapper.<locals>.handler\u001b[39m\u001b[34m(*args, **kwargs)\u001b[39m\n\u001b[32m    115\u001b[39m     \u001b[38;5;28;01melse\u001b[39;00m:\n\u001b[32m--> \u001b[39m\u001b[32m116\u001b[39m         \u001b[38;5;28;01mraise\u001b[39;00m e \u001b[38;5;28;01mfrom\u001b[39;00m\u001b[38;5;250m \u001b[39m\u001b[34;01me\u001b[39;00m\n\u001b[32m    117\u001b[39m \u001b[38;5;28;01mexcept\u001b[39;00m \u001b[38;5;167;01mException\u001b[39;00m \u001b[38;5;28;01mas\u001b[39;00m e:\n",
      "\u001b[36mFile \u001b[39m\u001b[32md:\\CEI\\Work\\ResumeMatcher\\ResumeMatcher\\app\\venv\\Lib\\site-packages\\pymilvus\\decorators.py:86\u001b[39m, in \u001b[36mretry_on_rpc_failure.<locals>.wrapper.<locals>.handler\u001b[39m\u001b[34m(*args, **kwargs)\u001b[39m\n\u001b[32m     85\u001b[39m \u001b[38;5;28;01mtry\u001b[39;00m:\n\u001b[32m---> \u001b[39m\u001b[32m86\u001b[39m     \u001b[38;5;28;01mreturn\u001b[39;00m \u001b[43mfunc\u001b[49m\u001b[43m(\u001b[49m\u001b[43m*\u001b[49m\u001b[43margs\u001b[49m\u001b[43m,\u001b[49m\u001b[43m \u001b[49m\u001b[43m*\u001b[49m\u001b[43m*\u001b[49m\u001b[43mkwargs\u001b[49m\u001b[43m)\u001b[49m\n\u001b[32m     87\u001b[39m \u001b[38;5;28;01mexcept\u001b[39;00m grpc.RpcError \u001b[38;5;28;01mas\u001b[39;00m e:\n\u001b[32m     88\u001b[39m     \u001b[38;5;66;03m# Do not retry on these codes\u001b[39;00m\n",
      "\u001b[36mFile \u001b[39m\u001b[32md:\\CEI\\Work\\ResumeMatcher\\ResumeMatcher\\app\\venv\\Lib\\site-packages\\pymilvus\\client\\grpc_handler.py:1429\u001b[39m, in \u001b[36mGrpcHandler.create_database\u001b[39m\u001b[34m(self, db_name, properties, timeout, **kwargs)\u001b[39m\n\u001b[32m   1426\u001b[39m status = \u001b[38;5;28mself\u001b[39m._stub.CreateDatabase(\n\u001b[32m   1427\u001b[39m     request, timeout=timeout, metadata=_api_level_md(**kwargs)\n\u001b[32m   1428\u001b[39m )\n\u001b[32m-> \u001b[39m\u001b[32m1429\u001b[39m \u001b[43mcheck_status\u001b[49m\u001b[43m(\u001b[49m\u001b[43mstatus\u001b[49m\u001b[43m)\u001b[49m\n",
      "\u001b[36mFile \u001b[39m\u001b[32md:\\CEI\\Work\\ResumeMatcher\\ResumeMatcher\\app\\venv\\Lib\\site-packages\\pymilvus\\client\\utils.py:64\u001b[39m, in \u001b[36mcheck_status\u001b[39m\u001b[34m(status)\u001b[39m\n\u001b[32m     63\u001b[39m \u001b[38;5;28;01mif\u001b[39;00m status.code != \u001b[32m0\u001b[39m \u001b[38;5;129;01mor\u001b[39;00m status.error_code != \u001b[32m0\u001b[39m:\n\u001b[32m---> \u001b[39m\u001b[32m64\u001b[39m     \u001b[38;5;28;01mraise\u001b[39;00m MilvusException(status.code, status.reason, status.error_code)\n",
      "\u001b[31mMilvusException\u001b[39m: <MilvusException: (code=65535, message=database already exist: JobOrder)>",
      "\nThe above exception was the direct cause of the following exception:\n",
      "\u001b[31mMilvusException\u001b[39m                           Traceback (most recent call last)",
      "    \u001b[31m[... skipping hidden 1 frame]\u001b[39m\n",
      "\u001b[36mCell\u001b[39m\u001b[36m \u001b[39m\u001b[32mIn[5]\u001b[39m\u001b[32m, line 1\u001b[39m\n\u001b[32m----> \u001b[39m\u001b[32m1\u001b[39m \u001b[43mdb\u001b[49m\u001b[43m.\u001b[49m\u001b[43mcreate_database\u001b[49m\u001b[43m(\u001b[49m\u001b[33;43m'\u001b[39;49m\u001b[33;43mJobOrder\u001b[39;49m\u001b[33;43m'\u001b[39;49m\u001b[43m)\u001b[49m\n",
      "\u001b[36mFile \u001b[39m\u001b[32md:\\CEI\\Work\\ResumeMatcher\\ResumeMatcher\\app\\venv\\Lib\\site-packages\\pymilvus\\orm\\db.py:30\u001b[39m, in \u001b[36mcreate_database\u001b[39m\u001b[34m(db_name, using, timeout, **kwargs)\u001b[39m\n\u001b[32m     23\u001b[39m \u001b[38;5;250m\u001b[39m\u001b[33;03m\"\"\"Create a database using provided database name\u001b[39;00m\n\u001b[32m     24\u001b[39m \u001b[33;03mArgs:\u001b[39;00m\n\u001b[32m     25\u001b[39m \u001b[33;03m    db_name (``str``): Database name\u001b[39;00m\n\u001b[32m   (...)\u001b[39m\u001b[32m     28\u001b[39m \u001b[33;03m        support database resource groups with key `database.resource_groups`\u001b[39;00m\n\u001b[32m     29\u001b[39m \u001b[33;03m\"\"\"\u001b[39;00m\n\u001b[32m---> \u001b[39m\u001b[32m30\u001b[39m \u001b[43m_get_connection\u001b[49m\u001b[43m(\u001b[49m\u001b[43musing\u001b[49m\u001b[43m)\u001b[49m\u001b[43m.\u001b[49m\u001b[43mcreate_database\u001b[49m\u001b[43m(\u001b[49m\u001b[43mdb_name\u001b[49m\u001b[43m,\u001b[49m\u001b[43m \u001b[49m\u001b[43mtimeout\u001b[49m\u001b[43m=\u001b[49m\u001b[43mtimeout\u001b[49m\u001b[43m,\u001b[49m\u001b[43m \u001b[49m\u001b[43m*\u001b[49m\u001b[43m*\u001b[49m\u001b[43mkwargs\u001b[49m\u001b[43m)\u001b[49m\n",
      "\u001b[36mFile \u001b[39m\u001b[32md:\\CEI\\Work\\ResumeMatcher\\ResumeMatcher\\app\\venv\\Lib\\site-packages\\pymilvus\\decorators.py:141\u001b[39m, in \u001b[36merror_handler.<locals>.wrapper.<locals>.handler\u001b[39m\u001b[34m(*args, **kwargs)\u001b[39m\n\u001b[32m    140\u001b[39m     LOGGER.error(\u001b[33mf\u001b[39m\u001b[33m\"\u001b[39m\u001b[33mRPC error: [\u001b[39m\u001b[38;5;132;01m{\u001b[39;00minner_name\u001b[38;5;132;01m}\u001b[39;00m\u001b[33m], \u001b[39m\u001b[38;5;132;01m{\u001b[39;00me\u001b[38;5;132;01m}\u001b[39;00m\u001b[33m, <Time:\u001b[39m\u001b[38;5;132;01m{\u001b[39;00mrecord_dict\u001b[38;5;132;01m}\u001b[39;00m\u001b[33m>\u001b[39m\u001b[33m\"\u001b[39m)\n\u001b[32m--> \u001b[39m\u001b[32m141\u001b[39m     \u001b[38;5;28;01mraise\u001b[39;00m e \u001b[38;5;28;01mfrom\u001b[39;00m\u001b[38;5;250m \u001b[39m\u001b[34;01me\u001b[39;00m\n\u001b[32m    142\u001b[39m \u001b[38;5;28;01mexcept\u001b[39;00m grpc.FutureTimeoutError \u001b[38;5;28;01mas\u001b[39;00m e:\n",
      "\u001b[36mFile \u001b[39m\u001b[32md:\\CEI\\Work\\ResumeMatcher\\ResumeMatcher\\app\\venv\\Lib\\site-packages\\pymilvus\\decorators.py:137\u001b[39m, in \u001b[36merror_handler.<locals>.wrapper.<locals>.handler\u001b[39m\u001b[34m(*args, **kwargs)\u001b[39m\n\u001b[32m    136\u001b[39m     record_dict[\u001b[33m\"\u001b[39m\u001b[33mRPC start\u001b[39m\u001b[33m\"\u001b[39m] = \u001b[38;5;28mstr\u001b[39m(datetime.datetime.now())\n\u001b[32m--> \u001b[39m\u001b[32m137\u001b[39m     \u001b[38;5;28;01mreturn\u001b[39;00m \u001b[43mfunc\u001b[49m\u001b[43m(\u001b[49m\u001b[43m*\u001b[49m\u001b[43margs\u001b[49m\u001b[43m,\u001b[49m\u001b[43m \u001b[49m\u001b[43m*\u001b[49m\u001b[43m*\u001b[49m\u001b[43mkwargs\u001b[49m\u001b[43m)\u001b[49m\n\u001b[32m    138\u001b[39m \u001b[38;5;28;01mexcept\u001b[39;00m MilvusException \u001b[38;5;28;01mas\u001b[39;00m e:\n",
      "\u001b[36mFile \u001b[39m\u001b[32md:\\CEI\\Work\\ResumeMatcher\\ResumeMatcher\\app\\venv\\Lib\\site-packages\\pymilvus\\decorators.py:173\u001b[39m, in \u001b[36mtracing_request.<locals>.wrapper.<locals>.handler\u001b[39m\u001b[34m(self, *args, **kwargs)\u001b[39m\n\u001b[32m    172\u001b[39m     \u001b[38;5;28mself\u001b[39m.set_onetime_loglevel(level)\n\u001b[32m--> \u001b[39m\u001b[32m173\u001b[39m \u001b[38;5;28;01mreturn\u001b[39;00m \u001b[43mfunc\u001b[49m\u001b[43m(\u001b[49m\u001b[38;5;28;43mself\u001b[39;49m\u001b[43m,\u001b[49m\u001b[43m \u001b[49m\u001b[43m*\u001b[49m\u001b[43margs\u001b[49m\u001b[43m,\u001b[49m\u001b[43m \u001b[49m\u001b[43m*\u001b[49m\u001b[43m*\u001b[49m\u001b[43mkwargs\u001b[49m\u001b[43m)\u001b[49m\n",
      "\u001b[36mFile \u001b[39m\u001b[32md:\\CEI\\Work\\ResumeMatcher\\ResumeMatcher\\app\\venv\\Lib\\site-packages\\pymilvus\\decorators.py:116\u001b[39m, in \u001b[36mretry_on_rpc_failure.<locals>.wrapper.<locals>.handler\u001b[39m\u001b[34m(*args, **kwargs)\u001b[39m\n\u001b[32m    115\u001b[39m     \u001b[38;5;28;01melse\u001b[39;00m:\n\u001b[32m--> \u001b[39m\u001b[32m116\u001b[39m         \u001b[38;5;28;01mraise\u001b[39;00m e \u001b[38;5;28;01mfrom\u001b[39;00m\u001b[38;5;250m \u001b[39m\u001b[34;01me\u001b[39;00m\n\u001b[32m    117\u001b[39m \u001b[38;5;28;01mexcept\u001b[39;00m \u001b[38;5;167;01mException\u001b[39;00m \u001b[38;5;28;01mas\u001b[39;00m e:\n",
      "\u001b[36mFile \u001b[39m\u001b[32md:\\CEI\\Work\\ResumeMatcher\\ResumeMatcher\\app\\venv\\Lib\\site-packages\\pymilvus\\decorators.py:86\u001b[39m, in \u001b[36mretry_on_rpc_failure.<locals>.wrapper.<locals>.handler\u001b[39m\u001b[34m(*args, **kwargs)\u001b[39m\n\u001b[32m     85\u001b[39m \u001b[38;5;28;01mtry\u001b[39;00m:\n\u001b[32m---> \u001b[39m\u001b[32m86\u001b[39m     \u001b[38;5;28;01mreturn\u001b[39;00m \u001b[43mfunc\u001b[49m\u001b[43m(\u001b[49m\u001b[43m*\u001b[49m\u001b[43margs\u001b[49m\u001b[43m,\u001b[49m\u001b[43m \u001b[49m\u001b[43m*\u001b[49m\u001b[43m*\u001b[49m\u001b[43mkwargs\u001b[49m\u001b[43m)\u001b[49m\n\u001b[32m     87\u001b[39m \u001b[38;5;28;01mexcept\u001b[39;00m grpc.RpcError \u001b[38;5;28;01mas\u001b[39;00m e:\n\u001b[32m     88\u001b[39m     \u001b[38;5;66;03m# Do not retry on these codes\u001b[39;00m\n",
      "\u001b[36mFile \u001b[39m\u001b[32md:\\CEI\\Work\\ResumeMatcher\\ResumeMatcher\\app\\venv\\Lib\\site-packages\\pymilvus\\client\\grpc_handler.py:1429\u001b[39m, in \u001b[36mGrpcHandler.create_database\u001b[39m\u001b[34m(self, db_name, properties, timeout, **kwargs)\u001b[39m\n\u001b[32m   1426\u001b[39m status = \u001b[38;5;28mself\u001b[39m._stub.CreateDatabase(\n\u001b[32m   1427\u001b[39m     request, timeout=timeout, metadata=_api_level_md(**kwargs)\n\u001b[32m   1428\u001b[39m )\n\u001b[32m-> \u001b[39m\u001b[32m1429\u001b[39m \u001b[43mcheck_status\u001b[49m\u001b[43m(\u001b[49m\u001b[43mstatus\u001b[49m\u001b[43m)\u001b[49m\n",
      "\u001b[36mFile \u001b[39m\u001b[32md:\\CEI\\Work\\ResumeMatcher\\ResumeMatcher\\app\\venv\\Lib\\site-packages\\pymilvus\\client\\utils.py:64\u001b[39m, in \u001b[36mcheck_status\u001b[39m\u001b[34m(status)\u001b[39m\n\u001b[32m     63\u001b[39m \u001b[38;5;28;01mif\u001b[39;00m status.code != \u001b[32m0\u001b[39m \u001b[38;5;129;01mor\u001b[39;00m status.error_code != \u001b[32m0\u001b[39m:\n\u001b[32m---> \u001b[39m\u001b[32m64\u001b[39m     \u001b[38;5;28;01mraise\u001b[39;00m MilvusException(status.code, status.reason, status.error_code)\n",
      "\u001b[31mMilvusException\u001b[39m: <MilvusException: (code=65535, message=database already exist: JobOrder)>",
      "\nThe above exception was the direct cause of the following exception:\n",
      "\u001b[31mMilvusException\u001b[39m                           Traceback (most recent call last)",
      "\u001b[36mCell\u001b[39m\u001b[36m \u001b[39m\u001b[32mIn[5]\u001b[39m\u001b[32m, line 1\u001b[39m\n\u001b[32m----> \u001b[39m\u001b[32m1\u001b[39m \u001b[43mdb\u001b[49m\u001b[43m.\u001b[49m\u001b[43mcreate_database\u001b[49m\u001b[43m(\u001b[49m\u001b[33;43m'\u001b[39;49m\u001b[33;43mJobOrder\u001b[39;49m\u001b[33;43m'\u001b[39;49m\u001b[43m)\u001b[49m\n",
      "\u001b[36mFile \u001b[39m\u001b[32md:\\CEI\\Work\\ResumeMatcher\\ResumeMatcher\\app\\venv\\Lib\\site-packages\\pymilvus\\orm\\db.py:30\u001b[39m, in \u001b[36mcreate_database\u001b[39m\u001b[34m(db_name, using, timeout, **kwargs)\u001b[39m\n\u001b[32m     20\u001b[39m \u001b[38;5;28;01mdef\u001b[39;00m\u001b[38;5;250m \u001b[39m\u001b[34mcreate_database\u001b[39m(\n\u001b[32m     21\u001b[39m     db_name: \u001b[38;5;28mstr\u001b[39m, using: \u001b[38;5;28mstr\u001b[39m = \u001b[33m\"\u001b[39m\u001b[33mdefault\u001b[39m\u001b[33m\"\u001b[39m, timeout: Optional[\u001b[38;5;28mfloat\u001b[39m] = \u001b[38;5;28;01mNone\u001b[39;00m, **kwargs\n\u001b[32m     22\u001b[39m ):\n\u001b[32m     23\u001b[39m \u001b[38;5;250m    \u001b[39m\u001b[33;03m\"\"\"Create a database using provided database name\u001b[39;00m\n\u001b[32m     24\u001b[39m \u001b[33;03m    Args:\u001b[39;00m\n\u001b[32m     25\u001b[39m \u001b[33;03m        db_name (``str``): Database name\u001b[39;00m\n\u001b[32m   (...)\u001b[39m\u001b[32m     28\u001b[39m \u001b[33;03m            support database resource groups with key `database.resource_groups`\u001b[39;00m\n\u001b[32m     29\u001b[39m \u001b[33;03m    \"\"\"\u001b[39;00m\n\u001b[32m---> \u001b[39m\u001b[32m30\u001b[39m     \u001b[43m_get_connection\u001b[49m\u001b[43m(\u001b[49m\u001b[43musing\u001b[49m\u001b[43m)\u001b[49m\u001b[43m.\u001b[49m\u001b[43mcreate_database\u001b[49m\u001b[43m(\u001b[49m\u001b[43mdb_name\u001b[49m\u001b[43m,\u001b[49m\u001b[43m \u001b[49m\u001b[43mtimeout\u001b[49m\u001b[43m=\u001b[49m\u001b[43mtimeout\u001b[49m\u001b[43m,\u001b[49m\u001b[43m \u001b[49m\u001b[43m*\u001b[49m\u001b[43m*\u001b[49m\u001b[43mkwargs\u001b[49m\u001b[43m)\u001b[49m\n",
      "\u001b[36mFile \u001b[39m\u001b[32md:\\CEI\\Work\\ResumeMatcher\\ResumeMatcher\\app\\venv\\Lib\\site-packages\\pymilvus\\decorators.py:141\u001b[39m, in \u001b[36merror_handler.<locals>.wrapper.<locals>.handler\u001b[39m\u001b[34m(*args, **kwargs)\u001b[39m\n\u001b[32m    139\u001b[39m     record_dict[\u001b[33m\"\u001b[39m\u001b[33mRPC error\u001b[39m\u001b[33m\"\u001b[39m] = \u001b[38;5;28mstr\u001b[39m(datetime.datetime.now())\n\u001b[32m    140\u001b[39m     LOGGER.error(\u001b[33mf\u001b[39m\u001b[33m\"\u001b[39m\u001b[33mRPC error: [\u001b[39m\u001b[38;5;132;01m{\u001b[39;00minner_name\u001b[38;5;132;01m}\u001b[39;00m\u001b[33m], \u001b[39m\u001b[38;5;132;01m{\u001b[39;00me\u001b[38;5;132;01m}\u001b[39;00m\u001b[33m, <Time:\u001b[39m\u001b[38;5;132;01m{\u001b[39;00mrecord_dict\u001b[38;5;132;01m}\u001b[39;00m\u001b[33m>\u001b[39m\u001b[33m\"\u001b[39m)\n\u001b[32m--> \u001b[39m\u001b[32m141\u001b[39m     \u001b[38;5;28;01mraise\u001b[39;00m e \u001b[38;5;28;01mfrom\u001b[39;00m\u001b[38;5;250m \u001b[39m\u001b[34;01me\u001b[39;00m\n\u001b[32m    142\u001b[39m \u001b[38;5;28;01mexcept\u001b[39;00m grpc.FutureTimeoutError \u001b[38;5;28;01mas\u001b[39;00m e:\n\u001b[32m    143\u001b[39m     record_dict[\u001b[33m\"\u001b[39m\u001b[33mgRPC timeout\u001b[39m\u001b[33m\"\u001b[39m] = \u001b[38;5;28mstr\u001b[39m(datetime.datetime.now())\n",
      "\u001b[36mFile \u001b[39m\u001b[32md:\\CEI\\Work\\ResumeMatcher\\ResumeMatcher\\app\\venv\\Lib\\site-packages\\pymilvus\\decorators.py:137\u001b[39m, in \u001b[36merror_handler.<locals>.wrapper.<locals>.handler\u001b[39m\u001b[34m(*args, **kwargs)\u001b[39m\n\u001b[32m    135\u001b[39m \u001b[38;5;28;01mtry\u001b[39;00m:\n\u001b[32m    136\u001b[39m     record_dict[\u001b[33m\"\u001b[39m\u001b[33mRPC start\u001b[39m\u001b[33m\"\u001b[39m] = \u001b[38;5;28mstr\u001b[39m(datetime.datetime.now())\n\u001b[32m--> \u001b[39m\u001b[32m137\u001b[39m     \u001b[38;5;28;01mreturn\u001b[39;00m \u001b[43mfunc\u001b[49m\u001b[43m(\u001b[49m\u001b[43m*\u001b[49m\u001b[43margs\u001b[49m\u001b[43m,\u001b[49m\u001b[43m \u001b[49m\u001b[43m*\u001b[49m\u001b[43m*\u001b[49m\u001b[43mkwargs\u001b[49m\u001b[43m)\u001b[49m\n\u001b[32m    138\u001b[39m \u001b[38;5;28;01mexcept\u001b[39;00m MilvusException \u001b[38;5;28;01mas\u001b[39;00m e:\n\u001b[32m    139\u001b[39m     record_dict[\u001b[33m\"\u001b[39m\u001b[33mRPC error\u001b[39m\u001b[33m\"\u001b[39m] = \u001b[38;5;28mstr\u001b[39m(datetime.datetime.now())\n",
      "\u001b[36mFile \u001b[39m\u001b[32md:\\CEI\\Work\\ResumeMatcher\\ResumeMatcher\\app\\venv\\Lib\\site-packages\\pymilvus\\decorators.py:173\u001b[39m, in \u001b[36mtracing_request.<locals>.wrapper.<locals>.handler\u001b[39m\u001b[34m(self, *args, **kwargs)\u001b[39m\n\u001b[32m    171\u001b[39m \u001b[38;5;28;01mif\u001b[39;00m level:\n\u001b[32m    172\u001b[39m     \u001b[38;5;28mself\u001b[39m.set_onetime_loglevel(level)\n\u001b[32m--> \u001b[39m\u001b[32m173\u001b[39m \u001b[38;5;28;01mreturn\u001b[39;00m \u001b[43mfunc\u001b[49m\u001b[43m(\u001b[49m\u001b[38;5;28;43mself\u001b[39;49m\u001b[43m,\u001b[49m\u001b[43m \u001b[49m\u001b[43m*\u001b[49m\u001b[43margs\u001b[49m\u001b[43m,\u001b[49m\u001b[43m \u001b[49m\u001b[43m*\u001b[49m\u001b[43m*\u001b[49m\u001b[43mkwargs\u001b[49m\u001b[43m)\u001b[49m\n",
      "\u001b[36mFile \u001b[39m\u001b[32md:\\CEI\\Work\\ResumeMatcher\\ResumeMatcher\\app\\venv\\Lib\\site-packages\\pymilvus\\decorators.py:116\u001b[39m, in \u001b[36mretry_on_rpc_failure.<locals>.wrapper.<locals>.handler\u001b[39m\u001b[34m(*args, **kwargs)\u001b[39m\n\u001b[32m    114\u001b[39m         back_off = \u001b[38;5;28mmin\u001b[39m(back_off * back_off_multiplier, max_back_off)\n\u001b[32m    115\u001b[39m     \u001b[38;5;28;01melse\u001b[39;00m:\n\u001b[32m--> \u001b[39m\u001b[32m116\u001b[39m         \u001b[38;5;28;01mraise\u001b[39;00m e \u001b[38;5;28;01mfrom\u001b[39;00m\u001b[38;5;250m \u001b[39m\u001b[34;01me\u001b[39;00m\n\u001b[32m    117\u001b[39m \u001b[38;5;28;01mexcept\u001b[39;00m \u001b[38;5;167;01mException\u001b[39;00m \u001b[38;5;28;01mas\u001b[39;00m e:\n\u001b[32m    118\u001b[39m     \u001b[38;5;28;01mraise\u001b[39;00m e \u001b[38;5;28;01mfrom\u001b[39;00m\u001b[38;5;250m \u001b[39m\u001b[34;01me\u001b[39;00m\n",
      "\u001b[36mFile \u001b[39m\u001b[32md:\\CEI\\Work\\ResumeMatcher\\ResumeMatcher\\app\\venv\\Lib\\site-packages\\pymilvus\\decorators.py:86\u001b[39m, in \u001b[36mretry_on_rpc_failure.<locals>.wrapper.<locals>.handler\u001b[39m\u001b[34m(*args, **kwargs)\u001b[39m\n\u001b[32m     84\u001b[39m \u001b[38;5;28;01mwhile\u001b[39;00m \u001b[38;5;28;01mTrue\u001b[39;00m:\n\u001b[32m     85\u001b[39m     \u001b[38;5;28;01mtry\u001b[39;00m:\n\u001b[32m---> \u001b[39m\u001b[32m86\u001b[39m         \u001b[38;5;28;01mreturn\u001b[39;00m \u001b[43mfunc\u001b[49m\u001b[43m(\u001b[49m\u001b[43m*\u001b[49m\u001b[43margs\u001b[49m\u001b[43m,\u001b[49m\u001b[43m \u001b[49m\u001b[43m*\u001b[49m\u001b[43m*\u001b[49m\u001b[43mkwargs\u001b[49m\u001b[43m)\u001b[49m\n\u001b[32m     87\u001b[39m     \u001b[38;5;28;01mexcept\u001b[39;00m grpc.RpcError \u001b[38;5;28;01mas\u001b[39;00m e:\n\u001b[32m     88\u001b[39m         \u001b[38;5;66;03m# Do not retry on these codes\u001b[39;00m\n\u001b[32m     89\u001b[39m         \u001b[38;5;28;01mif\u001b[39;00m e.code() \u001b[38;5;129;01min\u001b[39;00m IGNORE_RETRY_CODES:\n",
      "\u001b[36mFile \u001b[39m\u001b[32md:\\CEI\\Work\\ResumeMatcher\\ResumeMatcher\\app\\venv\\Lib\\site-packages\\pymilvus\\client\\grpc_handler.py:1429\u001b[39m, in \u001b[36mGrpcHandler.create_database\u001b[39m\u001b[34m(self, db_name, properties, timeout, **kwargs)\u001b[39m\n\u001b[32m   1425\u001b[39m request = Prepare.create_database_req(db_name, properties=properties)\n\u001b[32m   1426\u001b[39m status = \u001b[38;5;28mself\u001b[39m._stub.CreateDatabase(\n\u001b[32m   1427\u001b[39m     request, timeout=timeout, metadata=_api_level_md(**kwargs)\n\u001b[32m   1428\u001b[39m )\n\u001b[32m-> \u001b[39m\u001b[32m1429\u001b[39m \u001b[43mcheck_status\u001b[49m\u001b[43m(\u001b[49m\u001b[43mstatus\u001b[49m\u001b[43m)\u001b[49m\n",
      "\u001b[36mFile \u001b[39m\u001b[32md:\\CEI\\Work\\ResumeMatcher\\ResumeMatcher\\app\\venv\\Lib\\site-packages\\pymilvus\\client\\utils.py:64\u001b[39m, in \u001b[36mcheck_status\u001b[39m\u001b[34m(status)\u001b[39m\n\u001b[32m     62\u001b[39m \u001b[38;5;28;01mdef\u001b[39;00m\u001b[38;5;250m \u001b[39m\u001b[34mcheck_status\u001b[39m(status: Status):\n\u001b[32m     63\u001b[39m     \u001b[38;5;28;01mif\u001b[39;00m status.code != \u001b[32m0\u001b[39m \u001b[38;5;129;01mor\u001b[39;00m status.error_code != \u001b[32m0\u001b[39m:\n\u001b[32m---> \u001b[39m\u001b[32m64\u001b[39m         \u001b[38;5;28;01mraise\u001b[39;00m MilvusException(status.code, status.reason, status.error_code)\n",
      "\u001b[31mMilvusException\u001b[39m: <MilvusException: (code=65535, message=database already exist: JobOrder)>"
     ]
    }
   ],
   "source": [
    "db.create_database('JobOrder')"
   ]
  },
  {
   "cell_type": "code",
   "execution_count": 6,
   "id": "7966307d",
   "metadata": {},
   "outputs": [],
   "source": [
    "db.using_database('JobOrder')"
   ]
  },
  {
   "cell_type": "code",
   "execution_count": 7,
   "id": "6f7db97a",
   "metadata": {},
   "outputs": [
    {
     "data": {
      "text/plain": [
       "[]"
      ]
     },
     "execution_count": 7,
     "metadata": {},
     "output_type": "execute_result"
    }
   ],
   "source": [
    "utility.list_collections()"
   ]
  },
  {
   "cell_type": "code",
   "execution_count": 15,
   "id": "367d1280",
   "metadata": {},
   "outputs": [],
   "source": [
    "id_feild = FieldSchema(name='id', dtype=DataType.INT64, is_primary=True, auto_id=True)\n",
    "clinet_name_feild = FieldSchema(name='client_name', dtype=DataType.VARCHAR, max_length=100)\n",
    "job_title_feild = FieldSchema(name='job_title', dtype=DataType.VARCHAR, max_length=100)\n",
    "job_desc_feild = FieldSchema(name='job_desc', dtype=DataType.VARCHAR, max_length=10000)\n",
    "job_desc_embedding_feild = FieldSchema(name='job_desc_embedding', dtype=DataType.FLOAT_VECTOR, dim=768)\n",
    "\n",
    "job_oreder_schema = CollectionSchema([id_feild, clinet_name_feild, job_title_feild, job_desc_feild, job_desc_embedding_feild])"
   ]
  },
  {
   "cell_type": "code",
   "execution_count": 16,
   "id": "6fa83bc5",
   "metadata": {},
   "outputs": [],
   "source": [
    "collection = Collection(name='job_order', schema=job_oreder_schema)"
   ]
  },
  {
   "cell_type": "code",
   "execution_count": 17,
   "id": "877b5578",
   "metadata": {},
   "outputs": [
    {
     "data": {
      "text/plain": [
       "Status(code=0, message=)"
      ]
     },
     "execution_count": 17,
     "metadata": {},
     "output_type": "execute_result"
    }
   ],
   "source": [
    "index_params = {\n",
    "    'metric_type': 'L2',\n",
    "    'index_type': 'HNSW',\n",
    "    'params': {\n",
    "        'M': 16,\n",
    "        'efConstruction': 200\n",
    "    }\n",
    "}\n",
    "\n",
    "collection.create_index(field_name='job_desc_embedding', index_params=index_params)"
   ]
  },
  {
   "cell_type": "code",
   "execution_count": 20,
   "id": "c9a64427",
   "metadata": {},
   "outputs": [],
   "source": [
    "collection.load()"
   ]
  },
  {
   "cell_type": "code",
   "execution_count": 30,
   "id": "cf8c98ba",
   "metadata": {},
   "outputs": [],
   "source": [
    "sample_job_orders = {\n",
    "    'client_name': [\n",
    "        'Sammy',\n",
    "        'Bob',\n",
    "        'Charlie',\n",
    "        'Diana'\n",
    "    ],\n",
    "    'job_title': [\n",
    "        'Software Engineer',\n",
    "        'Data Scientist',\n",
    "        'Backend Developer',\n",
    "        'Frontend Developer'\n",
    "    ],\n",
    "    'job_desc': [\n",
    "        '''\n",
    "        As a Software Engineer, your responsibilities will include writing clean and maintainable code, collaborating with team members to define software requirements, participating in code reviews, troubleshooting and upgrading existing software, and ensuring the performance and responsiveness of applications. You will also be expected to stay current with emerging technologies and industry trends.\n",
    "        ''',\n",
    "        '''\n",
    "        As a Data Scientist, you will analyze large amounts of raw information to find patterns that will help improve our company. We will rely on you to build data products to extract valuable business insights.\n",
    "        ''',\n",
    "        '''\n",
    "        As a Backend Developer, you will design and implement server-side logic, maintain databases, and ensure high performance and responsiveness to requests from the front-end.\n",
    "        ''',\n",
    "        '''\n",
    "        As a Frontend Developer, you will be responsible for implementing visual elements that users see and interact with in a web application, ensuring a seamless user experience.\n",
    "        '''\n",
    "    ]\n",
    "}\n",
    "\n",
    "# Example: To add embeddings for each job_desc\n",
    "sample_job_orders['job_desc_embedding'] = [\n",
    "    get_embedding(model='nomic-embed-text:v1.5', prompt=desc)\n",
    "    for desc in sample_job_orders['job_desc']\n",
    "]\n"
   ]
  },
  {
   "cell_type": "code",
   "execution_count": 31,
   "id": "aa8c53a2",
   "metadata": {},
   "outputs": [
    {
     "data": {
      "text/plain": [
       "(insert count: 4, delete count: 0, upsert count: 0, timestamp: 458890654672224259, success count: 4, err count: 0"
      ]
     },
     "execution_count": 31,
     "metadata": {},
     "output_type": "execute_result"
    }
   ],
   "source": [
    "collection.insert([sample_job_orders['client_name'], sample_job_orders['job_title'], sample_job_orders['job_desc'], sample_job_orders['job_desc_embedding']])"
   ]
  },
  {
   "cell_type": "code",
   "execution_count": 36,
   "id": "791576ab",
   "metadata": {},
   "outputs": [
    {
     "name": "stdout",
     "output_type": "stream",
     "text": [
      "458886263163361655\n",
      "458886263163361656\n",
      "458886263163361657\n",
      "458886263163361658\n"
     ]
    }
   ],
   "source": [
    "result = collection.query(expr=\"id >= 0\", output_fields=[\"id\", \"client_name\", \"job_title\", \"job_desc\", \"job_desc_embedding\"])\n",
    "for item in result:\n",
    "    print(item.get('id'))"
   ]
  },
  {
   "cell_type": "code",
   "execution_count": 35,
   "id": "351db613",
   "metadata": {},
   "outputs": [
    {
     "data": {
      "text/plain": [
       "(insert count: 0, delete count: 1, upsert count: 0, timestamp: 458890677751644162, success count: 0, err count: 0"
      ]
     },
     "execution_count": 35,
     "metadata": {},
     "output_type": "execute_result"
    }
   ],
   "source": [
    "ids_to_delete = [458886263163361653]\n",
    "expr = f\"id in {ids_to_delete}\"\n",
    "collection.delete(expr=expr)"
   ]
  },
  {
   "cell_type": "code",
   "execution_count": 39,
   "id": "0b7bfdf7",
   "metadata": {},
   "outputs": [
    {
     "ename": "DataNotMatchException",
     "evalue": "<DataNotMatchException: (code=1, message=The data doesn't match with schema fields, expect 4 list, got 5)>",
     "output_type": "error",
     "traceback": [
      "\u001b[31m---------------------------------------------------------------------------\u001b[39m",
      "\u001b[31mDataNotMatchException\u001b[39m                     Traceback (most recent call last)",
      "\u001b[36mCell\u001b[39m\u001b[36m \u001b[39m\u001b[32mIn[39]\u001b[39m\u001b[32m, line 8\u001b[39m\n\u001b[32m      1\u001b[39m sample_job_order = {\n\u001b[32m      2\u001b[39m     \u001b[33m'\u001b[39m\u001b[33mclient_name\u001b[39m\u001b[33m'\u001b[39m: [\u001b[33m'\u001b[39m\u001b[33mAlice\u001b[39m\u001b[33m'\u001b[39m],\n\u001b[32m      3\u001b[39m     \u001b[33m'\u001b[39m\u001b[33mjob_title\u001b[39m\u001b[33m'\u001b[39m: [\u001b[33m'\u001b[39m\u001b[33mDevOps Engineer\u001b[39m\u001b[33m'\u001b[39m],\n\u001b[32m      4\u001b[39m     \u001b[33m'\u001b[39m\u001b[33mjob_desc\u001b[39m\u001b[33m'\u001b[39m: [\u001b[33m'''\u001b[39m\u001b[33mAs a DevOps Engineer, you will be responsible for automating and streamlining operations and processes, building and maintaining tools for deployment, monitoring, and operations, and troubleshooting and resolving issues in our development, test, and production environments.\u001b[39m\n\u001b[32m      5\u001b[39m \u001b[33m'''\u001b[39m]\n\u001b[32m      6\u001b[39m }\n\u001b[32m      7\u001b[39m sample_job_order[\u001b[33m'\u001b[39m\u001b[33mjob_desc_embedding\u001b[39m\u001b[33m'\u001b[39m] = [get_embedding(model=\u001b[33m'\u001b[39m\u001b[33mnomic-embed-text:v1.5\u001b[39m\u001b[33m'\u001b[39m, prompt=sample_job_order[\u001b[33m'\u001b[39m\u001b[33mjob_desc\u001b[39m\u001b[33m'\u001b[39m][\u001b[32m0\u001b[39m])]\n\u001b[32m----> \u001b[39m\u001b[32m8\u001b[39m \u001b[43mcollection\u001b[49m\u001b[43m.\u001b[49m\u001b[43minsert\u001b[49m\u001b[43m(\u001b[49m\u001b[43m[\u001b[49m\u001b[43m[\u001b[49m\u001b[32;43m458886263163361653\u001b[39;49m\u001b[43m]\u001b[49m\u001b[43m,\u001b[49m\u001b[43m \u001b[49m\u001b[43msample_job_order\u001b[49m\u001b[43m[\u001b[49m\u001b[33;43m'\u001b[39;49m\u001b[33;43mclient_name\u001b[39;49m\u001b[33;43m'\u001b[39;49m\u001b[43m]\u001b[49m\u001b[43m,\u001b[49m\u001b[43m \u001b[49m\u001b[43msample_job_order\u001b[49m\u001b[43m[\u001b[49m\u001b[33;43m'\u001b[39;49m\u001b[33;43mjob_title\u001b[39;49m\u001b[33;43m'\u001b[39;49m\u001b[43m]\u001b[49m\u001b[43m,\u001b[49m\u001b[43m \u001b[49m\u001b[43msample_job_order\u001b[49m\u001b[43m[\u001b[49m\u001b[33;43m'\u001b[39;49m\u001b[33;43mjob_desc\u001b[39;49m\u001b[33;43m'\u001b[39;49m\u001b[43m]\u001b[49m\u001b[43m,\u001b[49m\u001b[43m \u001b[49m\u001b[43msample_job_order\u001b[49m\u001b[43m[\u001b[49m\u001b[33;43m'\u001b[39;49m\u001b[33;43mjob_desc_embedding\u001b[39;49m\u001b[33;43m'\u001b[39;49m\u001b[43m]\u001b[49m\u001b[43m]\u001b[49m\u001b[43m)\u001b[49m\n",
      "\u001b[36mFile \u001b[39m\u001b[32md:\\CEI\\Work\\ResumeMatcher\\ResumeMatcher\\app\\venv\\Lib\\site-packages\\pymilvus\\orm\\collection.py:515\u001b[39m, in \u001b[36mCollection.insert\u001b[39m\u001b[34m(self, data, partition_name, timeout, **kwargs)\u001b[39m\n\u001b[32m    505\u001b[39m \u001b[38;5;28;01mif\u001b[39;00m is_row_based(data):\n\u001b[32m    506\u001b[39m     \u001b[38;5;28;01mreturn\u001b[39;00m conn.insert_rows(\n\u001b[32m    507\u001b[39m         collection_name=\u001b[38;5;28mself\u001b[39m._name,\n\u001b[32m    508\u001b[39m         entities=data,\n\u001b[32m   (...)\u001b[39m\u001b[32m    512\u001b[39m         **kwargs,\n\u001b[32m    513\u001b[39m     )\n\u001b[32m--> \u001b[39m\u001b[32m515\u001b[39m \u001b[43mcheck_insert_schema\u001b[49m\u001b[43m(\u001b[49m\u001b[38;5;28;43mself\u001b[39;49m\u001b[43m.\u001b[49m\u001b[43mschema\u001b[49m\u001b[43m,\u001b[49m\u001b[43m \u001b[49m\u001b[43mdata\u001b[49m\u001b[43m)\u001b[49m\n\u001b[32m    516\u001b[39m entities = Prepare.prepare_data(data, \u001b[38;5;28mself\u001b[39m.schema)\n\u001b[32m    517\u001b[39m \u001b[38;5;28;01mreturn\u001b[39;00m conn.batch_insert(\n\u001b[32m    518\u001b[39m     \u001b[38;5;28mself\u001b[39m._name,\n\u001b[32m    519\u001b[39m     entities,\n\u001b[32m   (...)\u001b[39m\u001b[32m    523\u001b[39m     **kwargs,\n\u001b[32m    524\u001b[39m )\n",
      "\u001b[36mFile \u001b[39m\u001b[32md:\\CEI\\Work\\ResumeMatcher\\ResumeMatcher\\app\\venv\\Lib\\site-packages\\pymilvus\\orm\\schema.py:773\u001b[39m, in \u001b[36mcheck_insert_schema\u001b[39m\u001b[34m(schema, data)\u001b[39m\n\u001b[32m    764\u001b[39m     data = data[columns]\n\u001b[32m    766\u001b[39m tmp_fields = \u001b[38;5;28mlist\u001b[39m(\n\u001b[32m    767\u001b[39m     \u001b[38;5;28mfilter\u001b[39m(\n\u001b[32m    768\u001b[39m         \u001b[38;5;28;01mlambda\u001b[39;00m field: \u001b[38;5;129;01mnot\u001b[39;00m (field.is_primary \u001b[38;5;129;01mand\u001b[39;00m field.auto_id) \u001b[38;5;129;01mand\u001b[39;00m \u001b[38;5;129;01mnot\u001b[39;00m field.is_function_output,\n\u001b[32m    769\u001b[39m         schema.fields,\n\u001b[32m    770\u001b[39m     )\n\u001b[32m    771\u001b[39m )\n\u001b[32m--> \u001b[39m\u001b[32m773\u001b[39m \u001b[43m_check_data_schema_cnt\u001b[49m\u001b[43m(\u001b[49m\u001b[43mtmp_fields\u001b[49m\u001b[43m,\u001b[49m\u001b[43m \u001b[49m\u001b[43mdata\u001b[49m\u001b[43m)\u001b[49m\n\u001b[32m    774\u001b[39m _check_insert_data(data)\n",
      "\u001b[36mFile \u001b[39m\u001b[32md:\\CEI\\Work\\ResumeMatcher\\ResumeMatcher\\app\\venv\\Lib\\site-packages\\pymilvus\\orm\\schema.py:745\u001b[39m, in \u001b[36m_check_data_schema_cnt\u001b[39m\u001b[34m(fields, data)\u001b[39m\n\u001b[32m    742\u001b[39m         t_name = \u001b[38;5;28mlist\u001b[39m(data.columns)\n\u001b[32m    743\u001b[39m         message = \u001b[33mf\u001b[39m\u001b[33m\"\u001b[39m\u001b[33mThe fields don\u001b[39m\u001b[33m'\u001b[39m\u001b[33mt match with schema fields, expected: \u001b[39m\u001b[38;5;132;01m{\u001b[39;00mi_name\u001b[38;5;132;01m}\u001b[39;00m\u001b[33m, got \u001b[39m\u001b[38;5;132;01m{\u001b[39;00mt_name\u001b[38;5;132;01m}\u001b[39;00m\u001b[33m\"\u001b[39m\n\u001b[32m--> \u001b[39m\u001b[32m745\u001b[39m     \u001b[38;5;28;01mraise\u001b[39;00m DataNotMatchException(message=message)\n\u001b[32m    747\u001b[39m \u001b[38;5;28;01mif\u001b[39;00m is_dataframe:\n\u001b[32m    748\u001b[39m     \u001b[38;5;28;01mfor\u001b[39;00m x, y \u001b[38;5;129;01min\u001b[39;00m \u001b[38;5;28mzip\u001b[39m(\u001b[38;5;28mlist\u001b[39m(data.columns), fields):\n",
      "\u001b[31mDataNotMatchException\u001b[39m: <DataNotMatchException: (code=1, message=The data doesn't match with schema fields, expect 4 list, got 5)>"
     ]
    }
   ],
   "source": [
    "sample_job_order = {\n",
    "    'client_name': ['Alice'],\n",
    "    'job_title': ['DevOps Engineer'],\n",
    "    'job_desc': ['''As a DevOps Engineer, you will be responsible for automating and streamlining operations and processes, building and maintaining tools for deployment, monitoring, and operations, and troubleshooting and resolving issues in our development, test, and production environments.\n",
    "''']\n",
    "}\n",
    "sample_job_order['job_desc_embedding'] = [get_embedding(model='nomic-embed-text:v1.5', prompt=sample_job_order['job_desc'][0])]\n",
    "collection.insert([[458886263163361653], sample_job_order['client_name'], sample_job_order['job_title'], sample_job_order['job_desc'], sample_job_order['job_desc_embedding']])"
   ]
  },
  {
   "cell_type": "code",
   "execution_count": null,
   "id": "b18395a8",
   "metadata": {},
   "outputs": [],
   "source": []
  }
 ],
 "metadata": {
  "kernelspec": {
   "display_name": "venv",
   "language": "python",
   "name": "python3"
  },
  "language_info": {
   "codemirror_mode": {
    "name": "ipython",
    "version": 3
   },
   "file_extension": ".py",
   "mimetype": "text/x-python",
   "name": "python",
   "nbconvert_exporter": "python",
   "pygments_lexer": "ipython3",
   "version": "3.12.1"
  }
 },
 "nbformat": 4,
 "nbformat_minor": 5
}
